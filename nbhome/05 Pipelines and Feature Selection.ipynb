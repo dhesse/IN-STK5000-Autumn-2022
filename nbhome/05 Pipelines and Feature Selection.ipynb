{
 "cells": [
  {
   "cell_type": "code",
   "execution_count": 1,
   "id": "049cfacd-fd9d-4a1b-a0d7-0fd1bd714f12",
   "metadata": {},
   "outputs": [],
   "source": [
    "import pandas as pd"
   ]
  },
  {
   "cell_type": "markdown",
   "id": "aadf64be-7d21-4d4c-9acd-4da4e687a822",
   "metadata": {},
   "source": [
    "# Reading the data"
   ]
  },
  {
   "cell_type": "code",
   "execution_count": 2,
   "id": "118d3da6-84b7-4e88-be4d-d6aa0a9e7c0d",
   "metadata": {},
   "outputs": [],
   "source": [
    "df = pd.read_csv(\"income_data.csv\")"
   ]
  },
  {
   "cell_type": "code",
   "execution_count": 3,
   "id": "6fb1b852-bcba-445f-ab99-50e47cb229a0",
   "metadata": {},
   "outputs": [
    {
     "data": {
      "text/html": [
       "<div>\n",
       "<style scoped>\n",
       "    .dataframe tbody tr th:only-of-type {\n",
       "        vertical-align: middle;\n",
       "    }\n",
       "\n",
       "    .dataframe tbody tr th {\n",
       "        vertical-align: top;\n",
       "    }\n",
       "\n",
       "    .dataframe thead th {\n",
       "        text-align: right;\n",
       "    }\n",
       "</style>\n",
       "<table border=\"1\" class=\"dataframe\">\n",
       "  <thead>\n",
       "    <tr style=\"text-align: right;\">\n",
       "      <th></th>\n",
       "      <th>age</th>\n",
       "      <th>workclass</th>\n",
       "      <th>fnlwgt</th>\n",
       "      <th>education</th>\n",
       "      <th>education-num</th>\n",
       "      <th>marital-status</th>\n",
       "      <th>occupation</th>\n",
       "      <th>relationship</th>\n",
       "      <th>race</th>\n",
       "      <th>sex</th>\n",
       "      <th>capital-gain</th>\n",
       "      <th>capital-loss</th>\n",
       "      <th>hours-per-week</th>\n",
       "      <th>native-country</th>\n",
       "      <th>income</th>\n",
       "      <th>target</th>\n",
       "    </tr>\n",
       "  </thead>\n",
       "  <tbody>\n",
       "    <tr>\n",
       "      <th>0</th>\n",
       "      <td>39</td>\n",
       "      <td>State-gov</td>\n",
       "      <td>77516</td>\n",
       "      <td>Bachelors</td>\n",
       "      <td>13</td>\n",
       "      <td>Never-married</td>\n",
       "      <td>Adm-clerical</td>\n",
       "      <td>Not-in-family</td>\n",
       "      <td>White</td>\n",
       "      <td>Male</td>\n",
       "      <td>2174</td>\n",
       "      <td>0</td>\n",
       "      <td>40</td>\n",
       "      <td>United-States</td>\n",
       "      <td>&lt;=50K</td>\n",
       "      <td>0</td>\n",
       "    </tr>\n",
       "    <tr>\n",
       "      <th>1</th>\n",
       "      <td>50</td>\n",
       "      <td>Self-emp-not-inc</td>\n",
       "      <td>83311</td>\n",
       "      <td>Bachelors</td>\n",
       "      <td>13</td>\n",
       "      <td>Married-civ-spouse</td>\n",
       "      <td>Exec-managerial</td>\n",
       "      <td>Husband</td>\n",
       "      <td>White</td>\n",
       "      <td>Male</td>\n",
       "      <td>0</td>\n",
       "      <td>0</td>\n",
       "      <td>13</td>\n",
       "      <td>United-States</td>\n",
       "      <td>&lt;=50K</td>\n",
       "      <td>0</td>\n",
       "    </tr>\n",
       "    <tr>\n",
       "      <th>2</th>\n",
       "      <td>38</td>\n",
       "      <td>Private</td>\n",
       "      <td>215646</td>\n",
       "      <td>HS-grad</td>\n",
       "      <td>9</td>\n",
       "      <td>Divorced</td>\n",
       "      <td>Handlers-cleaners</td>\n",
       "      <td>Not-in-family</td>\n",
       "      <td>White</td>\n",
       "      <td>Male</td>\n",
       "      <td>0</td>\n",
       "      <td>0</td>\n",
       "      <td>40</td>\n",
       "      <td>United-States</td>\n",
       "      <td>&lt;=50K</td>\n",
       "      <td>0</td>\n",
       "    </tr>\n",
       "    <tr>\n",
       "      <th>3</th>\n",
       "      <td>53</td>\n",
       "      <td>Private</td>\n",
       "      <td>234721</td>\n",
       "      <td>11th</td>\n",
       "      <td>7</td>\n",
       "      <td>Married-civ-spouse</td>\n",
       "      <td>Handlers-cleaners</td>\n",
       "      <td>Husband</td>\n",
       "      <td>Black</td>\n",
       "      <td>Male</td>\n",
       "      <td>0</td>\n",
       "      <td>0</td>\n",
       "      <td>40</td>\n",
       "      <td>United-States</td>\n",
       "      <td>&lt;=50K</td>\n",
       "      <td>0</td>\n",
       "    </tr>\n",
       "    <tr>\n",
       "      <th>4</th>\n",
       "      <td>28</td>\n",
       "      <td>Private</td>\n",
       "      <td>338409</td>\n",
       "      <td>Bachelors</td>\n",
       "      <td>13</td>\n",
       "      <td>Married-civ-spouse</td>\n",
       "      <td>Prof-specialty</td>\n",
       "      <td>Wife</td>\n",
       "      <td>Black</td>\n",
       "      <td>Female</td>\n",
       "      <td>0</td>\n",
       "      <td>0</td>\n",
       "      <td>40</td>\n",
       "      <td>Cuba</td>\n",
       "      <td>&lt;=50K</td>\n",
       "      <td>0</td>\n",
       "    </tr>\n",
       "  </tbody>\n",
       "</table>\n",
       "</div>"
      ],
      "text/plain": [
       "   age          workclass  fnlwgt   education  education-num  \\\n",
       "0   39          State-gov   77516   Bachelors             13   \n",
       "1   50   Self-emp-not-inc   83311   Bachelors             13   \n",
       "2   38            Private  215646     HS-grad              9   \n",
       "3   53            Private  234721        11th              7   \n",
       "4   28            Private  338409   Bachelors             13   \n",
       "\n",
       "        marital-status          occupation    relationship    race      sex  \\\n",
       "0        Never-married        Adm-clerical   Not-in-family   White     Male   \n",
       "1   Married-civ-spouse     Exec-managerial         Husband   White     Male   \n",
       "2             Divorced   Handlers-cleaners   Not-in-family   White     Male   \n",
       "3   Married-civ-spouse   Handlers-cleaners         Husband   Black     Male   \n",
       "4   Married-civ-spouse      Prof-specialty            Wife   Black   Female   \n",
       "\n",
       "   capital-gain  capital-loss  hours-per-week  native-country  income  target  \n",
       "0          2174             0              40   United-States   <=50K       0  \n",
       "1             0             0              13   United-States   <=50K       0  \n",
       "2             0             0              40   United-States   <=50K       0  \n",
       "3             0             0              40   United-States   <=50K       0  \n",
       "4             0             0              40            Cuba   <=50K       0  "
      ]
     },
     "execution_count": 3,
     "metadata": {},
     "output_type": "execute_result"
    }
   ],
   "source": [
    "df.head()"
   ]
  },
  {
   "cell_type": "code",
   "execution_count": 4,
   "id": "e97ec920-b0d2-4563-9b7e-62c5c52f6a23",
   "metadata": {},
   "outputs": [],
   "source": [
    "cat_columns = ['sex', 'education', 'race']\n",
    "cont_columns = ['age', 'education-num', 'hours-per-week']\n",
    "features = cat_columns + cont_columns\n",
    "target = \"target\""
   ]
  },
  {
   "cell_type": "markdown",
   "id": "a8a63de1-15d9-466e-8f98-a77ee377cdf4",
   "metadata": {},
   "source": [
    "# Building the first pipeline"
   ]
  },
  {
   "cell_type": "code",
   "execution_count": 5,
   "id": "c0680b20-14b4-413e-a788-ec90b6643c12",
   "metadata": {},
   "outputs": [],
   "source": [
    "from sklearn.pipeline import Pipeline\n",
    "from sklearn.compose import ColumnTransformer\n",
    "from sklearn.neighbors import KNeighborsClassifier\n",
    "from sklearn.tree import DecisionTreeClassifier\n",
    "from sklearn.preprocessing import OneHotEncoder, StandardScaler"
   ]
  },
  {
   "cell_type": "code",
   "execution_count": 18,
   "id": "d7df664d-89fc-4472-992d-d36d72066fdb",
   "metadata": {},
   "outputs": [],
   "source": [
    "cat_trans = Pipeline(steps=[('onehot', OneHotEncoder(drop='first'))])\n",
    "cont_trans = Pipeline(steps=[('scaler', StandardScaler())])\n",
    "\n",
    "feat_trans = ColumnTransformer(\n",
    "    transformers=[('categorical', cat_trans, cat_columns),\n",
    "                  ('continuous', cont_trans, cont_columns)])\n",
    "\n",
    "def mk_knn(k):\n",
    "    return Pipeline(steps=[\n",
    "        ('feature_transform', feat_trans),\n",
    "        ('classifier', KNeighborsClassifier(n_neighbors=k))\n",
    "    ])\n",
    "\n",
    "def mk_tree(d):\n",
    "    return Pipeline(steps=[\n",
    "        ('feature_transform', feat_trans),\n",
    "        ('classifier', DecisionTreeClassifier(max_depth=d))\n",
    "    ])"
   ]
  },
  {
   "cell_type": "code",
   "execution_count": 19,
   "id": "c3b08242-1fe5-4189-8cd2-720cb12f29e6",
   "metadata": {},
   "outputs": [
    {
     "data": {
      "text/html": [
       "<style>#sk-4977da26-fe58-42c0-b39e-31f488607cbf {color: black;background-color: white;}#sk-4977da26-fe58-42c0-b39e-31f488607cbf pre{padding: 0;}#sk-4977da26-fe58-42c0-b39e-31f488607cbf div.sk-toggleable {background-color: white;}#sk-4977da26-fe58-42c0-b39e-31f488607cbf label.sk-toggleable__label {cursor: pointer;display: block;width: 100%;margin-bottom: 0;padding: 0.2em 0.3em;box-sizing: border-box;text-align: center;}#sk-4977da26-fe58-42c0-b39e-31f488607cbf div.sk-toggleable__content {max-height: 0;max-width: 0;overflow: hidden;text-align: left;background-color: #f0f8ff;}#sk-4977da26-fe58-42c0-b39e-31f488607cbf div.sk-toggleable__content pre {margin: 0.2em;color: black;border-radius: 0.25em;background-color: #f0f8ff;}#sk-4977da26-fe58-42c0-b39e-31f488607cbf input.sk-toggleable__control:checked~div.sk-toggleable__content {max-height: 200px;max-width: 100%;overflow: auto;}#sk-4977da26-fe58-42c0-b39e-31f488607cbf div.sk-estimator input.sk-toggleable__control:checked~label.sk-toggleable__label {background-color: #d4ebff;}#sk-4977da26-fe58-42c0-b39e-31f488607cbf div.sk-label input.sk-toggleable__control:checked~label.sk-toggleable__label {background-color: #d4ebff;}#sk-4977da26-fe58-42c0-b39e-31f488607cbf input.sk-hidden--visually {border: 0;clip: rect(1px 1px 1px 1px);clip: rect(1px, 1px, 1px, 1px);height: 1px;margin: -1px;overflow: hidden;padding: 0;position: absolute;width: 1px;}#sk-4977da26-fe58-42c0-b39e-31f488607cbf div.sk-estimator {font-family: monospace;background-color: #f0f8ff;margin: 0.25em 0.25em;border: 1px dotted black;border-radius: 0.25em;box-sizing: border-box;}#sk-4977da26-fe58-42c0-b39e-31f488607cbf div.sk-estimator:hover {background-color: #d4ebff;}#sk-4977da26-fe58-42c0-b39e-31f488607cbf div.sk-parallel-item::after {content: \"\";width: 100%;border-bottom: 1px solid gray;flex-grow: 1;}#sk-4977da26-fe58-42c0-b39e-31f488607cbf div.sk-label:hover label.sk-toggleable__label {background-color: #d4ebff;}#sk-4977da26-fe58-42c0-b39e-31f488607cbf div.sk-serial::before {content: \"\";position: absolute;border-left: 1px solid gray;box-sizing: border-box;top: 2em;bottom: 0;left: 50%;}#sk-4977da26-fe58-42c0-b39e-31f488607cbf div.sk-serial {display: flex;flex-direction: column;align-items: center;background-color: white;}#sk-4977da26-fe58-42c0-b39e-31f488607cbf div.sk-item {z-index: 1;}#sk-4977da26-fe58-42c0-b39e-31f488607cbf div.sk-parallel {display: flex;align-items: stretch;justify-content: center;background-color: white;}#sk-4977da26-fe58-42c0-b39e-31f488607cbf div.sk-parallel-item {display: flex;flex-direction: column;position: relative;background-color: white;}#sk-4977da26-fe58-42c0-b39e-31f488607cbf div.sk-parallel-item:first-child::after {align-self: flex-end;width: 50%;}#sk-4977da26-fe58-42c0-b39e-31f488607cbf div.sk-parallel-item:last-child::after {align-self: flex-start;width: 50%;}#sk-4977da26-fe58-42c0-b39e-31f488607cbf div.sk-parallel-item:only-child::after {width: 0;}#sk-4977da26-fe58-42c0-b39e-31f488607cbf div.sk-dashed-wrapped {border: 1px dashed gray;margin: 0.2em;box-sizing: border-box;padding-bottom: 0.1em;background-color: white;position: relative;}#sk-4977da26-fe58-42c0-b39e-31f488607cbf div.sk-label label {font-family: monospace;font-weight: bold;background-color: white;display: inline-block;line-height: 1.2em;}#sk-4977da26-fe58-42c0-b39e-31f488607cbf div.sk-label-container {position: relative;z-index: 2;text-align: center;}#sk-4977da26-fe58-42c0-b39e-31f488607cbf div.sk-container {display: inline-block;position: relative;}</style><div id=\"sk-4977da26-fe58-42c0-b39e-31f488607cbf\" class\"sk-top-container\"><div class=\"sk-container\"><div class=\"sk-item sk-dashed-wrapped\"><div class=\"sk-label-container\"><div class=\"sk-label sk-toggleable\"><input class=\"sk-toggleable__control sk-hidden--visually\" id=\"a4b7f52f-7ffd-4206-8cd2-0dc98c5ec76e\" type=\"checkbox\" ><label class=\"sk-toggleable__label\" for=\"a4b7f52f-7ffd-4206-8cd2-0dc98c5ec76e\">Pipeline</label><div class=\"sk-toggleable__content\"><pre>Pipeline(steps=[('feature_transform',\n",
       "                 ColumnTransformer(transformers=[('categorical',\n",
       "                                                  Pipeline(steps=[('onehot',\n",
       "                                                                   OneHotEncoder(drop='first'))]),\n",
       "                                                  ['sex', 'education', 'race']),\n",
       "                                                 ('continuous',\n",
       "                                                  Pipeline(steps=[('scaler',\n",
       "                                                                   StandardScaler())]),\n",
       "                                                  ['age', 'education-num',\n",
       "                                                   'hours-per-week'])])),\n",
       "                ('classifier', DecisionTreeClassifier(max_depth=3))])</pre></div></div></div><div class=\"sk-serial\"><div class=\"sk-item sk-dashed-wrapped\"><div class=\"sk-label-container\"><div class=\"sk-label sk-toggleable\"><input class=\"sk-toggleable__control sk-hidden--visually\" id=\"f10a0beb-7f5a-428a-ae3d-a1275bc54dd4\" type=\"checkbox\" ><label class=\"sk-toggleable__label\" for=\"f10a0beb-7f5a-428a-ae3d-a1275bc54dd4\">feature_transform: ColumnTransformer</label><div class=\"sk-toggleable__content\"><pre>ColumnTransformer(transformers=[('categorical',\n",
       "                                 Pipeline(steps=[('onehot',\n",
       "                                                  OneHotEncoder(drop='first'))]),\n",
       "                                 ['sex', 'education', 'race']),\n",
       "                                ('continuous',\n",
       "                                 Pipeline(steps=[('scaler', StandardScaler())]),\n",
       "                                 ['age', 'education-num', 'hours-per-week'])])</pre></div></div></div><div class=\"sk-parallel\"><div class=\"sk-parallel-item\"><div class=\"sk-item\"><div class=\"sk-label-container\"><div class=\"sk-label sk-toggleable\"><input class=\"sk-toggleable__control sk-hidden--visually\" id=\"6b5505d8-e639-4f59-a636-a1011a9b8ab4\" type=\"checkbox\" ><label class=\"sk-toggleable__label\" for=\"6b5505d8-e639-4f59-a636-a1011a9b8ab4\">categorical</label><div class=\"sk-toggleable__content\"><pre>['sex', 'education', 'race']</pre></div></div></div><div class=\"sk-serial\"><div class=\"sk-item\"><div class=\"sk-serial\"><div class=\"sk-item\"><div class=\"sk-estimator sk-toggleable\"><input class=\"sk-toggleable__control sk-hidden--visually\" id=\"7690a822-eadf-4e99-8d5b-ede5e4ed44b8\" type=\"checkbox\" ><label class=\"sk-toggleable__label\" for=\"7690a822-eadf-4e99-8d5b-ede5e4ed44b8\">OneHotEncoder</label><div class=\"sk-toggleable__content\"><pre>OneHotEncoder(drop='first')</pre></div></div></div></div></div></div></div></div><div class=\"sk-parallel-item\"><div class=\"sk-item\"><div class=\"sk-label-container\"><div class=\"sk-label sk-toggleable\"><input class=\"sk-toggleable__control sk-hidden--visually\" id=\"eca80e67-1753-4a06-9d3d-c32c35978115\" type=\"checkbox\" ><label class=\"sk-toggleable__label\" for=\"eca80e67-1753-4a06-9d3d-c32c35978115\">continuous</label><div class=\"sk-toggleable__content\"><pre>['age', 'education-num', 'hours-per-week']</pre></div></div></div><div class=\"sk-serial\"><div class=\"sk-item\"><div class=\"sk-serial\"><div class=\"sk-item\"><div class=\"sk-estimator sk-toggleable\"><input class=\"sk-toggleable__control sk-hidden--visually\" id=\"8a9628eb-0816-40d1-9a9d-3fef7180e0dd\" type=\"checkbox\" ><label class=\"sk-toggleable__label\" for=\"8a9628eb-0816-40d1-9a9d-3fef7180e0dd\">StandardScaler</label><div class=\"sk-toggleable__content\"><pre>StandardScaler()</pre></div></div></div></div></div></div></div></div></div></div><div class=\"sk-item\"><div class=\"sk-estimator sk-toggleable\"><input class=\"sk-toggleable__control sk-hidden--visually\" id=\"67229747-0a61-4ca4-a5a0-969c690b6fa9\" type=\"checkbox\" ><label class=\"sk-toggleable__label\" for=\"67229747-0a61-4ca4-a5a0-969c690b6fa9\">DecisionTreeClassifier</label><div class=\"sk-toggleable__content\"><pre>DecisionTreeClassifier(max_depth=3)</pre></div></div></div></div></div></div></div>"
      ],
      "text/plain": [
       "Pipeline(steps=[('feature_transform',\n",
       "                 ColumnTransformer(transformers=[('categorical',\n",
       "                                                  Pipeline(steps=[('onehot',\n",
       "                                                                   OneHotEncoder(drop='first'))]),\n",
       "                                                  ['sex', 'education', 'race']),\n",
       "                                                 ('continuous',\n",
       "                                                  Pipeline(steps=[('scaler',\n",
       "                                                                   StandardScaler())]),\n",
       "                                                  ['age', 'education-num',\n",
       "                                                   'hours-per-week'])])),\n",
       "                ('classifier', DecisionTreeClassifier(max_depth=3))])"
      ]
     },
     "execution_count": 19,
     "metadata": {},
     "output_type": "execute_result"
    }
   ],
   "source": [
    "mk_tree(3)"
   ]
  },
  {
   "cell_type": "code",
   "execution_count": 9,
   "id": "1646c5df-51c9-4223-bc92-197548f8b310",
   "metadata": {},
   "outputs": [],
   "source": [
    "from sklearn import set_config"
   ]
  },
  {
   "cell_type": "code",
   "execution_count": 10,
   "id": "59c6752b-3523-42f0-9d5b-f9219a38825b",
   "metadata": {},
   "outputs": [],
   "source": [
    "set_config(display='diagram')"
   ]
  },
  {
   "cell_type": "code",
   "execution_count": 11,
   "id": "218bb836-4723-4897-b9e4-1002033a0ca7",
   "metadata": {},
   "outputs": [
    {
     "data": {
      "text/html": [
       "<style>#sk-8f8313bf-e360-4d63-b037-3f4942cf8077 {color: black;background-color: white;}#sk-8f8313bf-e360-4d63-b037-3f4942cf8077 pre{padding: 0;}#sk-8f8313bf-e360-4d63-b037-3f4942cf8077 div.sk-toggleable {background-color: white;}#sk-8f8313bf-e360-4d63-b037-3f4942cf8077 label.sk-toggleable__label {cursor: pointer;display: block;width: 100%;margin-bottom: 0;padding: 0.2em 0.3em;box-sizing: border-box;text-align: center;}#sk-8f8313bf-e360-4d63-b037-3f4942cf8077 div.sk-toggleable__content {max-height: 0;max-width: 0;overflow: hidden;text-align: left;background-color: #f0f8ff;}#sk-8f8313bf-e360-4d63-b037-3f4942cf8077 div.sk-toggleable__content pre {margin: 0.2em;color: black;border-radius: 0.25em;background-color: #f0f8ff;}#sk-8f8313bf-e360-4d63-b037-3f4942cf8077 input.sk-toggleable__control:checked~div.sk-toggleable__content {max-height: 200px;max-width: 100%;overflow: auto;}#sk-8f8313bf-e360-4d63-b037-3f4942cf8077 div.sk-estimator input.sk-toggleable__control:checked~label.sk-toggleable__label {background-color: #d4ebff;}#sk-8f8313bf-e360-4d63-b037-3f4942cf8077 div.sk-label input.sk-toggleable__control:checked~label.sk-toggleable__label {background-color: #d4ebff;}#sk-8f8313bf-e360-4d63-b037-3f4942cf8077 input.sk-hidden--visually {border: 0;clip: rect(1px 1px 1px 1px);clip: rect(1px, 1px, 1px, 1px);height: 1px;margin: -1px;overflow: hidden;padding: 0;position: absolute;width: 1px;}#sk-8f8313bf-e360-4d63-b037-3f4942cf8077 div.sk-estimator {font-family: monospace;background-color: #f0f8ff;margin: 0.25em 0.25em;border: 1px dotted black;border-radius: 0.25em;box-sizing: border-box;}#sk-8f8313bf-e360-4d63-b037-3f4942cf8077 div.sk-estimator:hover {background-color: #d4ebff;}#sk-8f8313bf-e360-4d63-b037-3f4942cf8077 div.sk-parallel-item::after {content: \"\";width: 100%;border-bottom: 1px solid gray;flex-grow: 1;}#sk-8f8313bf-e360-4d63-b037-3f4942cf8077 div.sk-label:hover label.sk-toggleable__label {background-color: #d4ebff;}#sk-8f8313bf-e360-4d63-b037-3f4942cf8077 div.sk-serial::before {content: \"\";position: absolute;border-left: 1px solid gray;box-sizing: border-box;top: 2em;bottom: 0;left: 50%;}#sk-8f8313bf-e360-4d63-b037-3f4942cf8077 div.sk-serial {display: flex;flex-direction: column;align-items: center;background-color: white;}#sk-8f8313bf-e360-4d63-b037-3f4942cf8077 div.sk-item {z-index: 1;}#sk-8f8313bf-e360-4d63-b037-3f4942cf8077 div.sk-parallel {display: flex;align-items: stretch;justify-content: center;background-color: white;}#sk-8f8313bf-e360-4d63-b037-3f4942cf8077 div.sk-parallel-item {display: flex;flex-direction: column;position: relative;background-color: white;}#sk-8f8313bf-e360-4d63-b037-3f4942cf8077 div.sk-parallel-item:first-child::after {align-self: flex-end;width: 50%;}#sk-8f8313bf-e360-4d63-b037-3f4942cf8077 div.sk-parallel-item:last-child::after {align-self: flex-start;width: 50%;}#sk-8f8313bf-e360-4d63-b037-3f4942cf8077 div.sk-parallel-item:only-child::after {width: 0;}#sk-8f8313bf-e360-4d63-b037-3f4942cf8077 div.sk-dashed-wrapped {border: 1px dashed gray;margin: 0.2em;box-sizing: border-box;padding-bottom: 0.1em;background-color: white;position: relative;}#sk-8f8313bf-e360-4d63-b037-3f4942cf8077 div.sk-label label {font-family: monospace;font-weight: bold;background-color: white;display: inline-block;line-height: 1.2em;}#sk-8f8313bf-e360-4d63-b037-3f4942cf8077 div.sk-label-container {position: relative;z-index: 2;text-align: center;}#sk-8f8313bf-e360-4d63-b037-3f4942cf8077 div.sk-container {display: inline-block;position: relative;}</style><div id=\"sk-8f8313bf-e360-4d63-b037-3f4942cf8077\" class\"sk-top-container\"><div class=\"sk-container\"><div class=\"sk-item sk-dashed-wrapped\"><div class=\"sk-label-container\"><div class=\"sk-label sk-toggleable\"><input class=\"sk-toggleable__control sk-hidden--visually\" id=\"f110305b-bca1-47c2-91a4-7d66262fb960\" type=\"checkbox\" ><label class=\"sk-toggleable__label\" for=\"f110305b-bca1-47c2-91a4-7d66262fb960\">Pipeline</label><div class=\"sk-toggleable__content\"><pre>Pipeline(steps=[('feature_transform',\n",
       "                 ColumnTransformer(transformers=[('categorical',\n",
       "                                                  Pipeline(steps=[('onehot',\n",
       "                                                                   OneHotEncoder(drop='first'))]),\n",
       "                                                  ['sex', 'education', 'race']),\n",
       "                                                 ('continuous',\n",
       "                                                  Pipeline(steps=[('scaler',\n",
       "                                                                   StandardScaler())]),\n",
       "                                                  ['age', 'education-num',\n",
       "                                                   'hours-per-week'])])),\n",
       "                ('classifier', DecisionTreeClassifier(max_depth=3))])</pre></div></div></div><div class=\"sk-serial\"><div class=\"sk-item sk-dashed-wrapped\"><div class=\"sk-label-container\"><div class=\"sk-label sk-toggleable\"><input class=\"sk-toggleable__control sk-hidden--visually\" id=\"1ebec918-b37f-420e-9818-6fd5e6886a05\" type=\"checkbox\" ><label class=\"sk-toggleable__label\" for=\"1ebec918-b37f-420e-9818-6fd5e6886a05\">feature_transform: ColumnTransformer</label><div class=\"sk-toggleable__content\"><pre>ColumnTransformer(transformers=[('categorical',\n",
       "                                 Pipeline(steps=[('onehot',\n",
       "                                                  OneHotEncoder(drop='first'))]),\n",
       "                                 ['sex', 'education', 'race']),\n",
       "                                ('continuous',\n",
       "                                 Pipeline(steps=[('scaler', StandardScaler())]),\n",
       "                                 ['age', 'education-num', 'hours-per-week'])])</pre></div></div></div><div class=\"sk-parallel\"><div class=\"sk-parallel-item\"><div class=\"sk-item\"><div class=\"sk-label-container\"><div class=\"sk-label sk-toggleable\"><input class=\"sk-toggleable__control sk-hidden--visually\" id=\"086490b0-1716-4d47-a807-9ae05692a8e1\" type=\"checkbox\" ><label class=\"sk-toggleable__label\" for=\"086490b0-1716-4d47-a807-9ae05692a8e1\">categorical</label><div class=\"sk-toggleable__content\"><pre>['sex', 'education', 'race']</pre></div></div></div><div class=\"sk-serial\"><div class=\"sk-item\"><div class=\"sk-serial\"><div class=\"sk-item\"><div class=\"sk-estimator sk-toggleable\"><input class=\"sk-toggleable__control sk-hidden--visually\" id=\"af0b4d79-d445-451f-9833-32123aab76e1\" type=\"checkbox\" ><label class=\"sk-toggleable__label\" for=\"af0b4d79-d445-451f-9833-32123aab76e1\">OneHotEncoder</label><div class=\"sk-toggleable__content\"><pre>OneHotEncoder(drop='first')</pre></div></div></div></div></div></div></div></div><div class=\"sk-parallel-item\"><div class=\"sk-item\"><div class=\"sk-label-container\"><div class=\"sk-label sk-toggleable\"><input class=\"sk-toggleable__control sk-hidden--visually\" id=\"9750dd12-83e0-4772-8aa6-43c42ff9eecb\" type=\"checkbox\" ><label class=\"sk-toggleable__label\" for=\"9750dd12-83e0-4772-8aa6-43c42ff9eecb\">continuous</label><div class=\"sk-toggleable__content\"><pre>['age', 'education-num', 'hours-per-week']</pre></div></div></div><div class=\"sk-serial\"><div class=\"sk-item\"><div class=\"sk-serial\"><div class=\"sk-item\"><div class=\"sk-estimator sk-toggleable\"><input class=\"sk-toggleable__control sk-hidden--visually\" id=\"aa66f0b8-7ebe-472c-988b-844daeab1fba\" type=\"checkbox\" ><label class=\"sk-toggleable__label\" for=\"aa66f0b8-7ebe-472c-988b-844daeab1fba\">StandardScaler</label><div class=\"sk-toggleable__content\"><pre>StandardScaler()</pre></div></div></div></div></div></div></div></div></div></div><div class=\"sk-item\"><div class=\"sk-estimator sk-toggleable\"><input class=\"sk-toggleable__control sk-hidden--visually\" id=\"d4d9f59a-2558-4192-8db1-5b9f62749f7a\" type=\"checkbox\" ><label class=\"sk-toggleable__label\" for=\"d4d9f59a-2558-4192-8db1-5b9f62749f7a\">DecisionTreeClassifier</label><div class=\"sk-toggleable__content\"><pre>DecisionTreeClassifier(max_depth=3)</pre></div></div></div></div></div></div></div>"
      ],
      "text/plain": [
       "Pipeline(steps=[('feature_transform',\n",
       "                 ColumnTransformer(transformers=[('categorical',\n",
       "                                                  Pipeline(steps=[('onehot',\n",
       "                                                                   OneHotEncoder(drop='first'))]),\n",
       "                                                  ['sex', 'education', 'race']),\n",
       "                                                 ('continuous',\n",
       "                                                  Pipeline(steps=[('scaler',\n",
       "                                                                   StandardScaler())]),\n",
       "                                                  ['age', 'education-num',\n",
       "                                                   'hours-per-week'])])),\n",
       "                ('classifier', DecisionTreeClassifier(max_depth=3))])"
      ]
     },
     "execution_count": 11,
     "metadata": {},
     "output_type": "execute_result"
    }
   ],
   "source": [
    "mk_tree(3)"
   ]
  },
  {
   "cell_type": "markdown",
   "id": "df428450-d5ef-4c00-aa04-41247de52d71",
   "metadata": {},
   "source": [
    "# Model evaluation"
   ]
  },
  {
   "cell_type": "code",
   "execution_count": 13,
   "id": "eb21083a-19df-4d29-ac1b-535c260a5297",
   "metadata": {},
   "outputs": [],
   "source": [
    "from sklearn.model_selection import train_test_split\n",
    "import sklearn.metrics"
   ]
  },
  {
   "cell_type": "code",
   "execution_count": 36,
   "id": "39a58f27-315c-4cc2-a9e0-390e444e249a",
   "metadata": {},
   "outputs": [],
   "source": [
    "Xtr, Xte, ytr, yte = train_test_split(df[features], df[target], test_size=0.3)"
   ]
  },
  {
   "cell_type": "code",
   "execution_count": 37,
   "id": "6ff384b8-f589-479d-b2d3-91972f29484f",
   "metadata": {},
   "outputs": [
    {
     "data": {
      "text/plain": [
       "14561    0\n",
       "24786    0\n",
       "18324    0\n",
       "31352    0\n",
       "28092    0\n",
       "        ..\n",
       "16491    0\n",
       "5097     0\n",
       "26291    0\n",
       "11726    1\n",
       "6330     1\n",
       "Name: target, Length: 22792, dtype: int64"
      ]
     },
     "execution_count": 37,
     "metadata": {},
     "output_type": "execute_result"
    }
   ],
   "source": [
    "ytr"
   ]
  },
  {
   "cell_type": "code",
   "execution_count": 38,
   "id": "5aa24bb4-a083-4aaf-963d-31a2069750a8",
   "metadata": {},
   "outputs": [
    {
     "data": {
      "text/plain": [
       "0.8039717473641109"
      ]
     },
     "execution_count": 38,
     "metadata": {},
     "output_type": "execute_result"
    }
   ],
   "source": [
    "sklearn.metrics.accuracy_score(yte, mk_tree(5).fit(Xtr, ytr).predict(Xte))"
   ]
  },
  {
   "cell_type": "markdown",
   "id": "4f0050ba-2d48-48a6-92e5-a4321809089b",
   "metadata": {},
   "source": [
    "## K-fold Cross-validation"
   ]
  },
  {
   "cell_type": "code",
   "execution_count": 39,
   "id": "f2c28727-9222-40e5-8f29-a216f47ff5b4",
   "metadata": {},
   "outputs": [],
   "source": [
    "from sklearn.model_selection import cross_val_score"
   ]
  },
  {
   "cell_type": "code",
   "execution_count": 47,
   "id": "da756842-c045-48d9-9372-f698fbb6bd8c",
   "metadata": {},
   "outputs": [],
   "source": [
    "cv_scores = cross_val_score(mk_tree(5), df[features], df[target], cv=30)"
   ]
  },
  {
   "cell_type": "code",
   "execution_count": 48,
   "id": "47b156c3-70ed-468e-9690-811bbba6cf2b",
   "metadata": {},
   "outputs": [
    {
     "data": {
      "text/plain": [
       "array([0.80847145, 0.78360958, 0.81123389, 0.81031308, 0.80294659,\n",
       "       0.80110497, 0.81123389, 0.81767956, 0.82412523, 0.77900552,\n",
       "       0.8038674 , 0.81382488, 0.80184332, 0.81751152, 0.80737327,\n",
       "       0.81935484, 0.81658986, 0.79078341, 0.80737327, 0.80092166,\n",
       "       0.81382488, 0.81751152, 0.82580645, 0.81751152, 0.80645161,\n",
       "       0.81013825, 0.81474654, 0.80645161, 0.80552995, 0.79170507])"
      ]
     },
     "execution_count": 48,
     "metadata": {},
     "output_type": "execute_result"
    }
   ],
   "source": [
    "cv_scores"
   ]
  },
  {
   "cell_type": "code",
   "execution_count": 42,
   "id": "ea57b145-9052-41f4-9445-d129fd10e505",
   "metadata": {},
   "outputs": [],
   "source": [
    "import numpy as np"
   ]
  },
  {
   "cell_type": "code",
   "execution_count": 49,
   "id": "638dc236-c3da-47dd-9974-cce47af9feb1",
   "metadata": {},
   "outputs": [],
   "source": [
    "bs_samples = pd.Series(\n",
    "    cv_scores[np.random.randint(20, size=20)].mean() for _ in range(1000))"
   ]
  },
  {
   "cell_type": "code",
   "execution_count": 51,
   "id": "6375a056-150f-43c1-9c1c-ebffa5493f33",
   "metadata": {},
   "outputs": [
    {
     "data": {
      "text/plain": [
       "<AxesSubplot:ylabel='Frequency'>"
      ]
     },
     "execution_count": 51,
     "metadata": {},
     "output_type": "execute_result"
    },
    {
     "data": {
      "image/png": "[encoded data removed]",
      "text/plain": [
       "<Figure size 432x288 with 1 Axes>"
      ]
     },
     "metadata": {
      "needs_background": "light"
     },
     "output_type": "display_data"
    }
   ],
   "source": [
    "bs_samples.plot.hist(bins=15)"
   ]
  },
  {
   "cell_type": "code",
   "execution_count": 56,
   "id": "097f7096-5eaf-4420-af8e-cdafc1d2eb66",
   "metadata": {},
   "outputs": [],
   "source": [
    "# look for good value for k in kNN model\n",
    "\n",
    "def knn_score(k):\n",
    "    return sklearn.metrics.accuracy_score(\n",
    "        yte, mk_knn(k).fit(Xtr, ytr).predict(Xte)\n",
    "    )"
   ]
  },
  {
   "cell_type": "code",
   "execution_count": 57,
   "id": "af436bb3-b42e-41d6-8bd0-1ef62949831a",
   "metadata": {},
   "outputs": [],
   "source": [
    "ks = range(5, 31, 5)"
   ]
  },
  {
   "cell_type": "code",
   "execution_count": 58,
   "id": "b00c1e49-4a96-4c54-bfcf-5e4ff301118b",
   "metadata": {},
   "outputs": [],
   "source": [
    "knn_scores = [knn_score(k) for k in ks]"
   ]
  },
  {
   "cell_type": "code",
   "execution_count": 59,
   "id": "fa3179c0-7c48-47c7-98fc-f6be0c17275e",
   "metadata": {},
   "outputs": [
    {
     "data": {
      "text/plain": [
       "<AxesSubplot:>"
      ]
     },
     "execution_count": 59,
     "metadata": {},
     "output_type": "execute_result"
    },
    {
     "data": {
      "image/png": "[encoded data removed]",
      "text/plain": [
       "<Figure size 432x288 with 1 Axes>"
      ]
     },
     "metadata": {
      "needs_background": "light"
     },
     "output_type": "display_data"
    }
   ],
   "source": [
    "pd.Series(knn_scores, index=ks).plot.line()"
   ]
  },
  {
   "cell_type": "markdown",
   "id": "120c1286-8ecf-461a-8638-0ddca21a93dd",
   "metadata": {},
   "source": [
    "## Using cross validation"
   ]
  },
  {
   "cell_type": "code",
   "execution_count": 60,
   "id": "bc5ae261-2304-4142-8d44-235b557b87a6",
   "metadata": {},
   "outputs": [],
   "source": [
    "ds = range(1, 15)"
   ]
  },
  {
   "cell_type": "code",
   "execution_count": 61,
   "id": "1a7e62bc-a05a-4416-9f89-c7cd638b9f28",
   "metadata": {},
   "outputs": [],
   "source": [
    "score_results = [cross_val_score(mk_tree(d), df[features], df[target], cv=5) for d in ds]"
   ]
  },
  {
   "cell_type": "code",
   "execution_count": 62,
   "id": "ef198c66-4256-4ae3-9c19-8b5a70941024",
   "metadata": {},
   "outputs": [
    {
     "data": {
      "text/plain": [
       "[array([0.75909719, 0.75921376, 0.75921376, 0.75921376, 0.75921376]),\n",
       " array([0.78120682, 0.78393735, 0.7882371 , 0.79038698, 0.78224816]),\n",
       " array([0.79594657, 0.80159705, 0.80451474, 0.80712531, 0.80175061]),\n",
       " array([0.8003992 , 0.80144349, 0.80727887, 0.80712531, 0.80451474]),\n",
       " array([0.80132044, 0.80651106, 0.8088145 , 0.81280713, 0.80558968]),\n",
       " array([0.8011669 , 0.80574324, 0.80835381, 0.81019656, 0.80528256]),\n",
       " array([0.80515891, 0.80712531, 0.8088145 , 0.81464988, 0.80681818]),\n",
       " array([0.80070628, 0.80605037, 0.80927518, 0.81096437, 0.80420762]),\n",
       " array([0.79932443, 0.80236486, 0.80927518, 0.80973587, 0.80359337]),\n",
       " array([0.79809612, 0.79914005, 0.80589681, 0.80820025, 0.80159705]),\n",
       " array([0.7968678 , 0.79898649, 0.80374693, 0.80405405, 0.8022113 ]),\n",
       " array([0.79118686, 0.79683661, 0.79929361, 0.80175061, 0.79699017]),\n",
       " array([0.78627361, 0.79284398, 0.79376536, 0.79683661, 0.79361179]),\n",
       " array([0.78243513, 0.79054054, 0.79376536, 0.79391892, 0.79437961])]"
      ]
     },
     "execution_count": 62,
     "metadata": {},
     "output_type": "execute_result"
    }
   ],
   "source": [
    "score_results"
   ]
  },
  {
   "cell_type": "code",
   "execution_count": 70,
   "id": "95fc60b9-1585-4e1a-b8d6-468bd5edf42e",
   "metadata": {},
   "outputs": [],
   "source": [
    "sr = pd.DataFrame(score_results, index=ds).T"
   ]
  },
  {
   "cell_type": "code",
   "execution_count": 71,
   "id": "0c1120fd-876f-4f6f-a989-418b4ba6b188",
   "metadata": {},
   "outputs": [
    {
     "data": {
      "text/html": [
       "<div>\n",
       "<style scoped>\n",
       "    .dataframe tbody tr th:only-of-type {\n",
       "        vertical-align: middle;\n",
       "    }\n",
       "\n",
       "    .dataframe tbody tr th {\n",
       "        vertical-align: top;\n",
       "    }\n",
       "\n",
       "    .dataframe thead th {\n",
       "        text-align: right;\n",
       "    }\n",
       "</style>\n",
       "<table border=\"1\" class=\"dataframe\">\n",
       "  <thead>\n",
       "    <tr style=\"text-align: right;\">\n",
       "      <th></th>\n",
       "      <th>1</th>\n",
       "      <th>2</th>\n",
       "      <th>3</th>\n",
       "      <th>4</th>\n",
       "      <th>5</th>\n",
       "      <th>6</th>\n",
       "      <th>7</th>\n",
       "      <th>8</th>\n",
       "      <th>9</th>\n",
       "      <th>10</th>\n",
       "      <th>11</th>\n",
       "      <th>12</th>\n",
       "      <th>13</th>\n",
       "      <th>14</th>\n",
       "    </tr>\n",
       "  </thead>\n",
       "  <tbody>\n",
       "    <tr>\n",
       "      <th>0</th>\n",
       "      <td>0.759097</td>\n",
       "      <td>0.781207</td>\n",
       "      <td>0.795947</td>\n",
       "      <td>0.800399</td>\n",
       "      <td>0.801320</td>\n",
       "      <td>0.801167</td>\n",
       "      <td>0.805159</td>\n",
       "      <td>0.800706</td>\n",
       "      <td>0.799324</td>\n",
       "      <td>0.798096</td>\n",
       "      <td>0.796868</td>\n",
       "      <td>0.791187</td>\n",
       "      <td>0.786274</td>\n",
       "      <td>0.782435</td>\n",
       "    </tr>\n",
       "    <tr>\n",
       "      <th>1</th>\n",
       "      <td>0.759214</td>\n",
       "      <td>0.783937</td>\n",
       "      <td>0.801597</td>\n",
       "      <td>0.801443</td>\n",
       "      <td>0.806511</td>\n",
       "      <td>0.805743</td>\n",
       "      <td>0.807125</td>\n",
       "      <td>0.806050</td>\n",
       "      <td>0.802365</td>\n",
       "      <td>0.799140</td>\n",
       "      <td>0.798986</td>\n",
       "      <td>0.796837</td>\n",
       "      <td>0.792844</td>\n",
       "      <td>0.790541</td>\n",
       "    </tr>\n",
       "    <tr>\n",
       "      <th>2</th>\n",
       "      <td>0.759214</td>\n",
       "      <td>0.788237</td>\n",
       "      <td>0.804515</td>\n",
       "      <td>0.807279</td>\n",
       "      <td>0.808814</td>\n",
       "      <td>0.808354</td>\n",
       "      <td>0.808814</td>\n",
       "      <td>0.809275</td>\n",
       "      <td>0.809275</td>\n",
       "      <td>0.805897</td>\n",
       "      <td>0.803747</td>\n",
       "      <td>0.799294</td>\n",
       "      <td>0.793765</td>\n",
       "      <td>0.793765</td>\n",
       "    </tr>\n",
       "    <tr>\n",
       "      <th>3</th>\n",
       "      <td>0.759214</td>\n",
       "      <td>0.790387</td>\n",
       "      <td>0.807125</td>\n",
       "      <td>0.807125</td>\n",
       "      <td>0.812807</td>\n",
       "      <td>0.810197</td>\n",
       "      <td>0.814650</td>\n",
       "      <td>0.810964</td>\n",
       "      <td>0.809736</td>\n",
       "      <td>0.808200</td>\n",
       "      <td>0.804054</td>\n",
       "      <td>0.801751</td>\n",
       "      <td>0.796837</td>\n",
       "      <td>0.793919</td>\n",
       "    </tr>\n",
       "    <tr>\n",
       "      <th>4</th>\n",
       "      <td>0.759214</td>\n",
       "      <td>0.782248</td>\n",
       "      <td>0.801751</td>\n",
       "      <td>0.804515</td>\n",
       "      <td>0.805590</td>\n",
       "      <td>0.805283</td>\n",
       "      <td>0.806818</td>\n",
       "      <td>0.804208</td>\n",
       "      <td>0.803593</td>\n",
       "      <td>0.801597</td>\n",
       "      <td>0.802211</td>\n",
       "      <td>0.796990</td>\n",
       "      <td>0.793612</td>\n",
       "      <td>0.794380</td>\n",
       "    </tr>\n",
       "  </tbody>\n",
       "</table>\n",
       "</div>"
      ],
      "text/plain": [
       "         1         2         3         4         5         6         7   \\\n",
       "0  0.759097  0.781207  0.795947  0.800399  0.801320  0.801167  0.805159   \n",
       "1  0.759214  0.783937  0.801597  0.801443  0.806511  0.805743  0.807125   \n",
       "2  0.759214  0.788237  0.804515  0.807279  0.808814  0.808354  0.808814   \n",
       "3  0.759214  0.790387  0.807125  0.807125  0.812807  0.810197  0.814650   \n",
       "4  0.759214  0.782248  0.801751  0.804515  0.805590  0.805283  0.806818   \n",
       "\n",
       "         8         9         10        11        12        13        14  \n",
       "0  0.800706  0.799324  0.798096  0.796868  0.791187  0.786274  0.782435  \n",
       "1  0.806050  0.802365  0.799140  0.798986  0.796837  0.792844  0.790541  \n",
       "2  0.809275  0.809275  0.805897  0.803747  0.799294  0.793765  0.793765  \n",
       "3  0.810964  0.809736  0.808200  0.804054  0.801751  0.796837  0.793919  \n",
       "4  0.804208  0.803593  0.801597  0.802211  0.796990  0.793612  0.794380  "
      ]
     },
     "execution_count": 71,
     "metadata": {},
     "output_type": "execute_result"
    }
   ],
   "source": [
    "sr"
   ]
  },
  {
   "cell_type": "code",
   "execution_count": 73,
   "id": "898448ed-0c56-4dd4-b49a-57cb0612a926",
   "metadata": {},
   "outputs": [
    {
     "data": {
      "text/plain": [
       "<AxesSubplot:>"
      ]
     },
     "execution_count": 73,
     "metadata": {},
     "output_type": "execute_result"
    },
    {
     "data": {
      "image/png": "[encoded data removed]",
      "text/plain": [
       "<Figure size 432x288 with 1 Axes>"
      ]
     },
     "metadata": {
      "needs_background": "light"
     },
     "output_type": "display_data"
    }
   ],
   "source": [
    "sr.mean().plot.line()"
   ]
  },
  {
   "cell_type": "code",
   "execution_count": 65,
   "id": "fdbbe683-7a7e-46ec-a495-ff4ce7178ce2",
   "metadata": {},
   "outputs": [],
   "source": [
    "import matplotlib.pyplot as plt"
   ]
  },
  {
   "cell_type": "code",
   "execution_count": 75,
   "id": "fdbed970-770f-4cd8-a0a4-c9eb9f499c5b",
   "metadata": {},
   "outputs": [
    {
     "data": {
      "text/plain": [
       "<matplotlib.collections.PolyCollection at 0x1484b98e0>"
      ]
     },
     "execution_count": 75,
     "metadata": {},
     "output_type": "execute_result"
    },
    {
     "data": {
      "image/png": "[encoded data removed]",
      "text/plain": [
       "<Figure size 432x288 with 1 Axes>"
      ]
     },
     "metadata": {
      "needs_background": "light"
     },
     "output_type": "display_data"
    }
   ],
   "source": [
    "sr.mean().plot.line()\n",
    "plt.fill_between(ds, sr.min(), sr.max(), alpha=0.5)"
   ]
  },
  {
   "cell_type": "markdown",
   "id": "46d0845d-4134-448b-a83b-b7b26e9c6f18",
   "metadata": {},
   "source": [
    "# Grid Search"
   ]
  },
  {
   "cell_type": "code",
   "execution_count": 76,
   "id": "40d3bd47-2da1-4468-a22c-3ce4d70ebcd9",
   "metadata": {},
   "outputs": [],
   "source": [
    "from sklearn.model_selection import GridSearchCV"
   ]
  },
  {
   "cell_type": "code",
   "execution_count": 77,
   "id": "48375605-bfbb-49bd-844b-b883b7e30800",
   "metadata": {},
   "outputs": [],
   "source": [
    "param_grid = {'classifier__max_depth': ds}\n",
    "grid_search = GridSearchCV(mk_tree(1), param_grid, cv=10)"
   ]
  },
  {
   "cell_type": "code",
   "execution_count": 78,
   "id": "b91e42d5-edf7-42b1-887e-d62840f16114",
   "metadata": {},
   "outputs": [],
   "source": [
    "fit_result = grid_search.fit(df[features], df[target])"
   ]
  },
  {
   "cell_type": "code",
   "execution_count": 80,
   "id": "bfeb0d4c-4eb3-43c7-9afd-92a5380d1ce3",
   "metadata": {},
   "outputs": [
    {
     "data": {
      "text/plain": [
       "{'memory': None,\n",
       " 'steps': [('feature_transform',\n",
       "   ColumnTransformer(transformers=[('categorical',\n",
       "                                    Pipeline(steps=[('onehot',\n",
       "                                                     OneHotEncoder(drop='first'))]),\n",
       "                                    ['sex', 'education', 'race']),\n",
       "                                   ('continuous',\n",
       "                                    Pipeline(steps=[('scaler', StandardScaler())]),\n",
       "                                    ['age', 'education-num', 'hours-per-week'])])),\n",
       "  ('classifier', DecisionTreeClassifier(max_depth=7))],\n",
       " 'verbose': False,\n",
       " 'feature_transform': ColumnTransformer(transformers=[('categorical',\n",
       "                                  Pipeline(steps=[('onehot',\n",
       "                                                   OneHotEncoder(drop='first'))]),\n",
       "                                  ['sex', 'education', 'race']),\n",
       "                                 ('continuous',\n",
       "                                  Pipeline(steps=[('scaler', StandardScaler())]),\n",
       "                                  ['age', 'education-num', 'hours-per-week'])]),\n",
       " 'classifier': DecisionTreeClassifier(max_depth=7),\n",
       " 'feature_transform__n_jobs': None,\n",
       " 'feature_transform__remainder': 'drop',\n",
       " 'feature_transform__sparse_threshold': 0.3,\n",
       " 'feature_transform__transformer_weights': None,\n",
       " 'feature_transform__transformers': [('categorical',\n",
       "   Pipeline(steps=[('onehot', OneHotEncoder(drop='first'))]),\n",
       "   ['sex', 'education', 'race']),\n",
       "  ('continuous',\n",
       "   Pipeline(steps=[('scaler', StandardScaler())]),\n",
       "   ['age', 'education-num', 'hours-per-week'])],\n",
       " 'feature_transform__verbose': False,\n",
       " 'feature_transform__categorical': Pipeline(steps=[('onehot', OneHotEncoder(drop='first'))]),\n",
       " 'feature_transform__continuous': Pipeline(steps=[('scaler', StandardScaler())]),\n",
       " 'feature_transform__categorical__memory': None,\n",
       " 'feature_transform__categorical__steps': [('onehot',\n",
       "   OneHotEncoder(drop='first'))],\n",
       " 'feature_transform__categorical__verbose': False,\n",
       " 'feature_transform__categorical__onehot': OneHotEncoder(drop='first'),\n",
       " 'feature_transform__categorical__onehot__categories': 'auto',\n",
       " 'feature_transform__categorical__onehot__drop': 'first',\n",
       " 'feature_transform__categorical__onehot__dtype': numpy.float64,\n",
       " 'feature_transform__categorical__onehot__handle_unknown': 'error',\n",
       " 'feature_transform__categorical__onehot__sparse': True,\n",
       " 'feature_transform__continuous__memory': None,\n",
       " 'feature_transform__continuous__steps': [('scaler', StandardScaler())],\n",
       " 'feature_transform__continuous__verbose': False,\n",
       " 'feature_transform__continuous__scaler': StandardScaler(),\n",
       " 'feature_transform__continuous__scaler__copy': True,\n",
       " 'feature_transform__continuous__scaler__with_mean': True,\n",
       " 'feature_transform__continuous__scaler__with_std': True,\n",
       " 'classifier__ccp_alpha': 0.0,\n",
       " 'classifier__class_weight': None,\n",
       " 'classifier__criterion': 'gini',\n",
       " 'classifier__max_depth': 7,\n",
       " 'classifier__max_features': None,\n",
       " 'classifier__max_leaf_nodes': None,\n",
       " 'classifier__min_impurity_decrease': 0.0,\n",
       " 'classifier__min_impurity_split': None,\n",
       " 'classifier__min_samples_leaf': 1,\n",
       " 'classifier__min_samples_split': 2,\n",
       " 'classifier__min_weight_fraction_leaf': 0.0,\n",
       " 'classifier__random_state': None,\n",
       " 'classifier__splitter': 'best'}"
      ]
     },
     "execution_count": 80,
     "metadata": {},
     "output_type": "execute_result"
    }
   ],
   "source": [
    "fit_result.best_estimator_.get_params()"
   ]
  },
  {
   "cell_type": "markdown",
   "id": "a6bbf792-ce9a-4155-b86f-b6297f95763f",
   "metadata": {},
   "source": [
    "## Feature Selection"
   ]
  },
  {
   "cell_type": "code",
   "execution_count": 102,
   "id": "c12f98db-24a6-4119-ab5d-443a9822fe46",
   "metadata": {},
   "outputs": [
    {
     "data": {
      "text/plain": [
       "<AxesSubplot:xlabel='education'>"
      ]
     },
     "execution_count": 102,
     "metadata": {},
     "output_type": "execute_result"
    },
    {
     "data": {
      "image/png": "[encoded data removed]",
      "text/plain": [
       "<Figure size 432x288 with 1 Axes>"
      ]
     },
     "metadata": {
      "needs_background": "light"
     },
     "output_type": "display_data"
    }
   ],
   "source": [
    "df.groupby('education').size().plot.bar()"
   ]
  },
  {
   "cell_type": "code",
   "execution_count": 82,
   "id": "bd9cc243-9672-4311-8cc9-050f198dc1a2",
   "metadata": {},
   "outputs": [],
   "source": [
    "dummies = pd.get_dummies(df[['occupation', 'education']])"
   ]
  },
  {
   "cell_type": "markdown",
   "id": "d55c4967-6f64-4af2-bfbc-451111eb1317",
   "metadata": {},
   "source": [
    "## Variance cutoff"
   ]
  },
  {
   "cell_type": "code",
   "execution_count": 83,
   "id": "3a9eb478-5a23-4296-ad52-40c8125e56cc",
   "metadata": {},
   "outputs": [
    {
     "data": {
      "text/plain": [
       "occupation_ ?                    0.053399\n",
       "occupation_ Adm-clerical         0.102380\n",
       "occupation_ Armed-Forces         0.000276\n",
       "occupation_ Craft-repair         0.110043\n",
       "occupation_ Exec-managerial      0.109283\n",
       "occupation_ Farming-fishing      0.029596\n",
       "occupation_ Handlers-cleaners    0.040306\n",
       "occupation_ Machine-op-inspct    0.057706\n",
       "occupation_ Other-service        0.090957\n",
       "occupation_ Priv-house-serv      0.004555\n",
       "occupation_ Prof-specialty       0.110983\n",
       "occupation_ Protective-serv      0.019535\n",
       "occupation_ Sales                0.099535\n",
       "occupation_ Tech-support         0.027689\n",
       "occupation_ Transport-moving     0.046642\n",
       "education_ 10th                  0.027834\n",
       "education_ 11th                  0.034785\n",
       "education_ 12th                  0.013122\n",
       "education_ 1st-4th               0.005133\n",
       "education_ 5th-6th               0.010123\n",
       "education_ 7th-8th               0.019447\n",
       "education_ 9th                   0.015537\n",
       "education_ Assoc-acdm            0.031696\n",
       "education_ Assoc-voc             0.040643\n",
       "education_ Bachelors             0.137417\n",
       "education_ Doctorate             0.012523\n",
       "education_ HS-grad               0.218501\n",
       "education_ Masters               0.050117\n",
       "education_ Preschool             0.001564\n",
       "education_ Prof-school           0.017377\n",
       "education_ Some-college          0.173784\n",
       "dtype: float64"
      ]
     },
     "execution_count": 83,
     "metadata": {},
     "output_type": "execute_result"
    }
   ],
   "source": [
    "dummies.var()"
   ]
  },
  {
   "cell_type": "code",
   "execution_count": 84,
   "id": "6fc49a64-f12f-4e24-b113-19ac6fa8f684",
   "metadata": {},
   "outputs": [],
   "source": [
    "from sklearn.feature_selection import VarianceThreshold"
   ]
  },
  {
   "cell_type": "code",
   "execution_count": 95,
   "id": "7679a4d9-9783-47d6-ae73-39106873aff7",
   "metadata": {},
   "outputs": [],
   "source": [
    "vt = VarianceThreshold(0.9*(1 - 0.9)).fit(dummies)"
   ]
  },
  {
   "cell_type": "code",
   "execution_count": 96,
   "id": "1d40795f-5d8c-4e8a-a9f0-6bc39728b184",
   "metadata": {},
   "outputs": [
    {
     "data": {
      "text/plain": [
       "Index(['occupation_ Adm-clerical', 'occupation_ Craft-repair',\n",
       "       'occupation_ Exec-managerial', 'occupation_ Other-service',\n",
       "       'occupation_ Prof-specialty', 'occupation_ Sales',\n",
       "       'education_ Bachelors', 'education_ HS-grad',\n",
       "       'education_ Some-college'],\n",
       "      dtype='object')"
      ]
     },
     "execution_count": 96,
     "metadata": {},
     "output_type": "execute_result"
    }
   ],
   "source": [
    "dummies.columns[vt.get_support()]"
   ]
  },
  {
   "cell_type": "code",
   "execution_count": 97,
   "id": "24ac82d7-4953-43ea-969d-fe85fc644844",
   "metadata": {},
   "outputs": [
    {
     "data": {
      "text/plain": [
       "9"
      ]
     },
     "execution_count": 97,
     "metadata": {},
     "output_type": "execute_result"
    }
   ],
   "source": [
    "k = vt.get_support().sum()\n",
    "k"
   ]
  },
  {
   "cell_type": "markdown",
   "id": "9b80302d-dba7-4777-b7f0-c70880f70e10",
   "metadata": {},
   "source": [
    "## Univariate"
   ]
  },
  {
   "cell_type": "code",
   "execution_count": 98,
   "id": "506925dd-f7d7-45b5-b36b-8f9a5f95e8f8",
   "metadata": {},
   "outputs": [],
   "source": [
    "from sklearn.feature_selection import SelectKBest"
   ]
  },
  {
   "cell_type": "code",
   "execution_count": 99,
   "id": "beb172a0-deba-4b54-a15d-61b89b35b8a0",
   "metadata": {},
   "outputs": [],
   "source": [
    "skb = SelectKBest(k=k).fit(dummies, df[target])"
   ]
  },
  {
   "cell_type": "code",
   "execution_count": 101,
   "id": "085c7d46-6f7c-418c-8410-84ebf594b9cd",
   "metadata": {},
   "outputs": [
    {
     "data": {
      "text/plain": [
       "Index(['occupation_ Adm-clerical', 'occupation_ Exec-managerial',\n",
       "       'occupation_ Other-service', 'occupation_ Prof-specialty',\n",
       "       'education_ Bachelors', 'education_ Doctorate', 'education_ HS-grad',\n",
       "       'education_ Masters', 'education_ Prof-school'],\n",
       "      dtype='object')"
      ]
     },
     "execution_count": 101,
     "metadata": {},
     "output_type": "execute_result"
    }
   ],
   "source": [
    "dummies.columns[skb.get_support()]"
   ]
  },
  {
   "cell_type": "markdown",
   "id": "55120b1a-aaaf-49f0-ad7c-589970e96adb",
   "metadata": {},
   "source": [
    "## Sequential feature selection"
   ]
  },
  {
   "cell_type": "code",
   "execution_count": 103,
   "id": "86b7d8ce-8682-4030-8ca7-80ab8815f8b7",
   "metadata": {},
   "outputs": [],
   "source": [
    "from sklearn.feature_selection import SequentialFeatureSelector\n",
    "sfs = SequentialFeatureSelector(DecisionTreeClassifier(max_depth=4), n_features_to_select=k)"
   ]
  },
  {
   "cell_type": "code",
   "execution_count": 104,
   "id": "f4009dd9-d563-4bc6-9726-c8d7dc8b30fa",
   "metadata": {},
   "outputs": [
    {
     "data": {
      "text/html": [
       "<style>#sk-60f6f73b-6d51-48ec-b511-673b6bdafe3b {color: black;background-color: white;}#sk-60f6f73b-6d51-48ec-b511-673b6bdafe3b pre{padding: 0;}#sk-60f6f73b-6d51-48ec-b511-673b6bdafe3b div.sk-toggleable {background-color: white;}#sk-60f6f73b-6d51-48ec-b511-673b6bdafe3b label.sk-toggleable__label {cursor: pointer;display: block;width: 100%;margin-bottom: 0;padding: 0.2em 0.3em;box-sizing: border-box;text-align: center;}#sk-60f6f73b-6d51-48ec-b511-673b6bdafe3b div.sk-toggleable__content {max-height: 0;max-width: 0;overflow: hidden;text-align: left;background-color: #f0f8ff;}#sk-60f6f73b-6d51-48ec-b511-673b6bdafe3b div.sk-toggleable__content pre {margin: 0.2em;color: black;border-radius: 0.25em;background-color: #f0f8ff;}#sk-60f6f73b-6d51-48ec-b511-673b6bdafe3b input.sk-toggleable__control:checked~div.sk-toggleable__content {max-height: 200px;max-width: 100%;overflow: auto;}#sk-60f6f73b-6d51-48ec-b511-673b6bdafe3b div.sk-estimator input.sk-toggleable__control:checked~label.sk-toggleable__label {background-color: #d4ebff;}#sk-60f6f73b-6d51-48ec-b511-673b6bdafe3b div.sk-label input.sk-toggleable__control:checked~label.sk-toggleable__label {background-color: #d4ebff;}#sk-60f6f73b-6d51-48ec-b511-673b6bdafe3b input.sk-hidden--visually {border: 0;clip: rect(1px 1px 1px 1px);clip: rect(1px, 1px, 1px, 1px);height: 1px;margin: -1px;overflow: hidden;padding: 0;position: absolute;width: 1px;}#sk-60f6f73b-6d51-48ec-b511-673b6bdafe3b div.sk-estimator {font-family: monospace;background-color: #f0f8ff;margin: 0.25em 0.25em;border: 1px dotted black;border-radius: 0.25em;box-sizing: border-box;}#sk-60f6f73b-6d51-48ec-b511-673b6bdafe3b div.sk-estimator:hover {background-color: #d4ebff;}#sk-60f6f73b-6d51-48ec-b511-673b6bdafe3b div.sk-parallel-item::after {content: \"\";width: 100%;border-bottom: 1px solid gray;flex-grow: 1;}#sk-60f6f73b-6d51-48ec-b511-673b6bdafe3b div.sk-label:hover label.sk-toggleable__label {background-color: #d4ebff;}#sk-60f6f73b-6d51-48ec-b511-673b6bdafe3b div.sk-serial::before {content: \"\";position: absolute;border-left: 1px solid gray;box-sizing: border-box;top: 2em;bottom: 0;left: 50%;}#sk-60f6f73b-6d51-48ec-b511-673b6bdafe3b div.sk-serial {display: flex;flex-direction: column;align-items: center;background-color: white;}#sk-60f6f73b-6d51-48ec-b511-673b6bdafe3b div.sk-item {z-index: 1;}#sk-60f6f73b-6d51-48ec-b511-673b6bdafe3b div.sk-parallel {display: flex;align-items: stretch;justify-content: center;background-color: white;}#sk-60f6f73b-6d51-48ec-b511-673b6bdafe3b div.sk-parallel-item {display: flex;flex-direction: column;position: relative;background-color: white;}#sk-60f6f73b-6d51-48ec-b511-673b6bdafe3b div.sk-parallel-item:first-child::after {align-self: flex-end;width: 50%;}#sk-60f6f73b-6d51-48ec-b511-673b6bdafe3b div.sk-parallel-item:last-child::after {align-self: flex-start;width: 50%;}#sk-60f6f73b-6d51-48ec-b511-673b6bdafe3b div.sk-parallel-item:only-child::after {width: 0;}#sk-60f6f73b-6d51-48ec-b511-673b6bdafe3b div.sk-dashed-wrapped {border: 1px dashed gray;margin: 0.2em;box-sizing: border-box;padding-bottom: 0.1em;background-color: white;position: relative;}#sk-60f6f73b-6d51-48ec-b511-673b6bdafe3b div.sk-label label {font-family: monospace;font-weight: bold;background-color: white;display: inline-block;line-height: 1.2em;}#sk-60f6f73b-6d51-48ec-b511-673b6bdafe3b div.sk-label-container {position: relative;z-index: 2;text-align: center;}#sk-60f6f73b-6d51-48ec-b511-673b6bdafe3b div.sk-container {display: inline-block;position: relative;}</style><div id=\"sk-60f6f73b-6d51-48ec-b511-673b6bdafe3b\" class\"sk-top-container\"><div class=\"sk-container\"><div class=\"sk-item sk-dashed-wrapped\"><div class=\"sk-label-container\"><div class=\"sk-label sk-toggleable\"><input class=\"sk-toggleable__control sk-hidden--visually\" id=\"2ee32e7d-e273-4121-93cd-d21df91a41c0\" type=\"checkbox\" ><label class=\"sk-toggleable__label\" for=\"2ee32e7d-e273-4121-93cd-d21df91a41c0\">SequentialFeatureSelector</label><div class=\"sk-toggleable__content\"><pre>SequentialFeatureSelector(estimator=DecisionTreeClassifier(max_depth=4),\n",
       "                          n_features_to_select=9)</pre></div></div></div><div class=\"sk-parallel\"><div class=\"sk-parallel-item\"><div class=\"sk-item\"><div class=\"sk-serial\"><div class=\"sk-item\"><div class=\"sk-estimator sk-toggleable\"><input class=\"sk-toggleable__control sk-hidden--visually\" id=\"d9a79e78-cea9-4851-ac12-4f5038fed2c1\" type=\"checkbox\" ><label class=\"sk-toggleable__label\" for=\"d9a79e78-cea9-4851-ac12-4f5038fed2c1\">DecisionTreeClassifier</label><div class=\"sk-toggleable__content\"><pre>DecisionTreeClassifier(max_depth=4)</pre></div></div></div></div></div></div></div></div></div></div>"
      ],
      "text/plain": [
       "SequentialFeatureSelector(estimator=DecisionTreeClassifier(max_depth=4),\n",
       "                          n_features_to_select=9)"
      ]
     },
     "execution_count": 104,
     "metadata": {},
     "output_type": "execute_result"
    }
   ],
   "source": [
    "sfs.fit(dummies, df[target])"
   ]
  },
  {
   "cell_type": "code",
   "execution_count": 105,
   "id": "02b67a0c-13e0-4c6d-b946-1124f916dab4",
   "metadata": {},
   "outputs": [
    {
     "data": {
      "text/plain": [
       "(32561, 31)"
      ]
     },
     "execution_count": 105,
     "metadata": {},
     "output_type": "execute_result"
    }
   ],
   "source": [
    "dummies.shape"
   ]
  },
  {
   "cell_type": "code",
   "execution_count": 106,
   "id": "33cedd30-1dde-4584-bc23-65d7201d0377",
   "metadata": {},
   "outputs": [
    {
     "data": {
      "text/plain": [
       "Index(['occupation_ Armed-Forces', 'occupation_ Craft-repair',\n",
       "       'occupation_ Exec-managerial', 'occupation_ Farming-fishing',\n",
       "       'occupation_ Priv-house-serv', 'occupation_ Sales',\n",
       "       'education_ Doctorate', 'education_ Masters', 'education_ Prof-school'],\n",
       "      dtype='object')"
      ]
     },
     "execution_count": 106,
     "metadata": {},
     "output_type": "execute_result"
    }
   ],
   "source": [
    "dummies.columns[sfs.get_support()]"
   ]
  },
  {
   "cell_type": "code",
   "execution_count": 107,
   "id": "bd294aa9-521b-4b45-91c4-d0c2007d41f3",
   "metadata": {},
   "outputs": [],
   "source": [
    "selectors = {\n",
    "    'variance threshold': vt,\n",
    "    'select k best': skb,\n",
    "    'forward stepwise': sfs\n",
    "}"
   ]
  },
  {
   "cell_type": "code",
   "execution_count": 108,
   "id": "775325a3-61c8-465f-a317-d0176017c342",
   "metadata": {},
   "outputs": [],
   "source": [
    "classifier = DecisionTreeClassifier(max_depth=4)\n",
    "s_scores = {k: cross_val_score(classifier, selectors[k].transform(dummies), df[target], cv=20) for k in selectors}"
   ]
  },
  {
   "cell_type": "code",
   "execution_count": 110,
   "id": "15dd8345-279f-484a-a0d5-cd37d94876ec",
   "metadata": {},
   "outputs": [
    {
     "data": {
      "text/plain": [
       "<AxesSubplot:>"
      ]
     },
     "execution_count": 110,
     "metadata": {},
     "output_type": "execute_result"
    },
    {
     "data": {
      "image/png": "[encoded data removed]",
      "text/plain": [
       "<Figure size 432x288 with 1 Axes>"
      ]
     },
     "metadata": {
      "needs_background": "light"
     },
     "output_type": "display_data"
    }
   ],
   "source": [
    "pd.DataFrame(s_scores).plot.box()"
   ]
  },
  {
   "cell_type": "code",
   "execution_count": null,
   "id": "4f60ba7c-4f1f-44dc-b6ce-79e591107680",
   "metadata": {},
   "outputs": [],
   "source": []
  }
 ],
 "metadata": {
  "kernelspec": {
   "display_name": "Python 3 (ipykernel)",
   "language": "python",
   "name": "python3"
  },
  "language_info": {
   "codemirror_mode": {
    "name": "ipython",
    "version": 3
   },
   "file_extension": ".py",
   "mimetype": "text/x-python",
   "name": "python",
   "nbconvert_exporter": "python",
   "pygments_lexer": "ipython3",
   "version": "3.9.6"
  }
 },
 "nbformat": 4,
 "nbformat_minor": 5
}
