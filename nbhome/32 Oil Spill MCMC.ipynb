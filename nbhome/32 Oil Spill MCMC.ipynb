{
 "cells": [
  {
   "cell_type": "code",
   "execution_count": 1,
   "metadata": {},
   "outputs": [],
   "source": [
    "import pandas"
   ]
  },
  {
   "cell_type": "code",
   "execution_count": 2,
   "metadata": {},
   "outputs": [],
   "source": [
    "tables = pandas.read_html(\"https://en.wikipedia.org/wiki/List_of_oil_spills\")"
   ]
  },
  {
   "cell_type": "code",
   "execution_count": 3,
   "metadata": {},
   "outputs": [],
   "source": [
    "tables[1].to_csv(\"data/spills.csv\")"
   ]
  },
  {
   "cell_type": "code",
   "execution_count": 4,
   "metadata": {},
   "outputs": [],
   "source": [
    "def robust_float(x):\n",
    "    try:\n",
    "        return float(x)\n",
    "    except ValueError:\n",
    "        return float('nan')"
   ]
  },
  {
   "cell_type": "code",
   "execution_count": 5,
   "metadata": {},
   "outputs": [],
   "source": [
    "tonnes = tables[1]['Max Tonnes'].apply(robust_float)"
   ]
  },
  {
   "cell_type": "code",
   "execution_count": 6,
   "metadata": {},
   "outputs": [],
   "source": [
    "import re"
   ]
  },
  {
   "cell_type": "code",
   "execution_count": 7,
   "metadata": {},
   "outputs": [],
   "source": [
    "y = tables[1]['Dates'].apply(lambda x: int(re.search('\\d{4}', x).group()))"
   ]
  },
  {
   "cell_type": "code",
   "execution_count": 8,
   "metadata": {},
   "outputs": [],
   "source": [
    "spills = y.groupby(y).size()"
   ]
  },
  {
   "cell_type": "code",
   "execution_count": 9,
   "metadata": {},
   "outputs": [
    {
     "data": {
      "text/plain": [
       "Int64Index([1903, 1907, 1910, 1937, 1940, 1944, 1945, 1946, 1948, 1950, 1953,\n",
       "            1958, 1962, 1967, 1968, 1969, 1970, 1971, 1972, 1973, 1974, 1975,\n",
       "            1976, 1977, 1978, 1979, 1980, 1981, 1983, 1984, 1985, 1986, 1987,\n",
       "            1988, 1989, 1990, 1991, 1992, 1993, 1994, 1995, 1996, 1997, 1998,\n",
       "            1999, 2000, 2001, 2002, 2003, 2004, 2005, 2006, 2007, 2008, 2009,\n",
       "            2010, 2011, 2012, 2013, 2014, 2015, 2016, 2017, 2018, 2019, 2020,\n",
       "            2021, 2022],\n",
       "           dtype='int64', name='Dates')"
      ]
     },
     "execution_count": 9,
     "metadata": {},
     "output_type": "execute_result"
    }
   ],
   "source": [
    "spills.index"
   ]
  },
  {
   "cell_type": "code",
   "execution_count": 10,
   "metadata": {},
   "outputs": [],
   "source": [
    "spills = spills[spills.index > 1970]"
   ]
  },
  {
   "cell_type": "code",
   "execution_count": 11,
   "metadata": {},
   "outputs": [
    {
     "data": {
      "text/plain": [
       "<AxesSubplot:xlabel='Dates'>"
      ]
     },
     "execution_count": 11,
     "metadata": {},
     "output_type": "execute_result"
    },
    {
     "data": {
      "image/png": "[encoded data removed]",
      "text/plain": [
       "<Figure size 432x288 with 1 Axes>"
      ]
     },
     "metadata": {
      "needs_background": "light"
     },
     "output_type": "display_data"
    }
   ],
   "source": [
    "spills.plot(marker='o', ls='')"
   ]
  },
  {
   "cell_type": "code",
   "execution_count": 14,
   "metadata": {},
   "outputs": [],
   "source": [
    "total_tonnes = tonnes.groupby(y).sum()\n",
    "total_tonnes = total_tonnes[total_tonnes.index > 1970]"
   ]
  },
  {
   "cell_type": "code",
   "execution_count": 15,
   "metadata": {},
   "outputs": [
    {
     "data": {
      "text/plain": [
       "<AxesSubplot:xlabel='Dates'>"
      ]
     },
     "execution_count": 15,
     "metadata": {},
     "output_type": "execute_result"
    },
    {
     "data": {
      "image/png": "[encoded data removed]",
      "text/plain": [
       "<Figure size 432x288 with 1 Axes>"
      ]
     },
     "metadata": {
      "needs_background": "light"
     },
     "output_type": "display_data"
    }
   ],
   "source": [
    "total_tonnes.plot(marker='o', ls='')"
   ]
  },
  {
   "cell_type": "code",
   "execution_count": 16,
   "metadata": {},
   "outputs": [],
   "source": [
    "years = spills.index"
   ]
  },
  {
   "cell_type": "code",
   "execution_count": 17,
   "metadata": {},
   "outputs": [],
   "source": [
    "import tensorflow as tf\n",
    "import tensorflow_probability as tfp\n",
    "\n",
    "tfd = tfp.distributions"
   ]
  },
  {
   "cell_type": "code",
   "execution_count": 18,
   "metadata": {},
   "outputs": [],
   "source": [
    "def disaster_count_model(disaster_rate_fn):\n",
    "    disaster_count = tfd.JointDistributionNamed(dict(\n",
    "        e=tfd.Exponential(rate=1.),\n",
    "        l=tfd.Exponential(rate=1.),\n",
    "        s=tfd.Uniform(float(years.min()), float(years.max())),\n",
    "        d_t=lambda s, l, e: tfd.Independent(\n",
    "            tfd.Poisson(rate=disaster_rate_fn(tf.constant(years, dtype=tf.float32), s[...,tf.newaxis], l[...,tf.newaxis], e[...,tf.newaxis])),\n",
    "            reinterpreted_batch_ndims=1)\n",
    "    ))\n",
    "    return disaster_count\n",
    "\n",
    "def disaster_rate_switch(ys, s, l, e):\n",
    "    return tf.where(ys < s, e, l)\n",
    "\n",
    "def disaster_rate_sigmoid(ys, s, l, e):\n",
    "    return e + tf.sigmoid(ys - s) * (l - e)\n",
    "\n",
    "model_switch = disaster_count_model(disaster_rate_switch)\n",
    "model_sigmoid = disaster_count_model(disaster_rate_sigmoid)"
   ]
  },
  {
   "cell_type": "code",
   "execution_count": 19,
   "metadata": {},
   "outputs": [
    {
     "name": "stderr",
     "output_type": "stream",
     "text": [
      "2022-10-09 21:25:50.927076: W tensorflow/core/platform/profile_utils/cpu_utils.cc:128] Failed to get CPU frequency: 0 Hz\n"
     ]
    },
    {
     "data": {
      "text/plain": [
       "{'s': <tf.Tensor: shape=(3,), dtype=float32, numpy=array([1991.5247, 1982.404 , 1975.7794], dtype=float32)>,\n",
       " 'l': <tf.Tensor: shape=(3,), dtype=float32, numpy=array([0.86815566, 0.3003133 , 3.0220253 ], dtype=float32)>,\n",
       " 'e': <tf.Tensor: shape=(3,), dtype=float32, numpy=array([0.77581865, 0.33044854, 0.45834905], dtype=float32)>,\n",
       " 'd_t': <tf.Tensor: shape=(3, 51), dtype=float32, numpy=\n",
       " array([[ 0.,  0.,  0.,  1.,  3.,  0.,  0.,  0.,  0.,  0.,  1.,  0.,  0.,\n",
       "          1.,  1.,  0.,  0.,  1.,  2.,  2.,  0.,  0.,  1.,  0.,  1.,  1.,\n",
       "          3.,  1.,  2.,  2.,  1.,  2.,  1.,  1.,  1.,  2.,  2.,  0.,  0.,\n",
       "          4.,  0.,  1.,  1.,  2.,  2.,  0.,  2.,  0.,  0.,  0.,  1.],\n",
       "        [ 0.,  0.,  0.,  1.,  1.,  0.,  0.,  1.,  0.,  1.,  0.,  0.,  1.,\n",
       "          0.,  1.,  0.,  1.,  0.,  0.,  0.,  0.,  0.,  1.,  1.,  0.,  0.,\n",
       "          2.,  0.,  0.,  0.,  0.,  0.,  0.,  0.,  0.,  0.,  1.,  0.,  0.,\n",
       "          1.,  0.,  1.,  0.,  0.,  1.,  1.,  1.,  1.,  1.,  0.,  0.],\n",
       "        [ 0.,  0.,  0.,  3.,  2.,  2.,  3.,  1.,  3.,  1.,  3.,  1.,  3.,\n",
       "          6.,  2.,  6.,  2.,  2.,  4.,  5.,  2.,  5.,  3.,  3.,  1.,  4.,\n",
       "          0.,  3.,  8.,  6.,  2.,  7.,  5.,  4.,  3.,  2.,  2.,  5., 11.,\n",
       "          2.,  2.,  3.,  2.,  1.,  3.,  3.,  2.,  1.,  4.,  2.,  2.]],\n",
       "       dtype=float32)>}"
      ]
     },
     "execution_count": 19,
     "metadata": {},
     "output_type": "execute_result"
    }
   ],
   "source": [
    "model_sigmoid.sample(3)"
   ]
  },
  {
   "cell_type": "code",
   "execution_count": 20,
   "metadata": {},
   "outputs": [
    {
     "name": "stdout",
     "output_type": "stream",
     "text": [
      "[array([-301.45364, -301.45364], dtype=float32), array([-300.24185, -300.24185], dtype=float32)]\n",
      "[-169.69983, -165.9459]\n",
      "[-inf, -inf]\n"
     ]
    }
   ],
   "source": [
    "def target_log_prob_fn(model, s, e, l):\n",
    "    return model.log_prob(s=s, e=e, l=l, d_t=spills)\n",
    "\n",
    "models = [model_switch, model_sigmoid]\n",
    "print([target_log_prob_fn(m, [1980.]*2, [3.]*2, [.9]*2).numpy() for m in models])  # Somewhat likely result\n",
    "print([target_log_prob_fn(m, 1990., 1., 5.).numpy() for m in models])  # Rather unlikely result\n",
    "print([target_log_prob_fn(m, -10., 1., 1.).numpy() for m in models]) # Impossible result"
   ]
  },
  {
   "cell_type": "markdown",
   "metadata": {},
   "source": [
    "# MAP estimate"
   ]
  },
  {
   "cell_type": "code",
   "execution_count": 21,
   "metadata": {},
   "outputs": [],
   "source": [
    "s, e, l = tf.Variable(2000.), tf.Variable(1.), tf.Variable(1.)"
   ]
  },
  {
   "cell_type": "code",
   "execution_count": 22,
   "metadata": {},
   "outputs": [],
   "source": [
    "loss = lambda: -target_log_prob_fn(model_sigmoid, s, e, l)"
   ]
  },
  {
   "cell_type": "code",
   "execution_count": 23,
   "metadata": {},
   "outputs": [],
   "source": [
    "loss_hist = []\n",
    "var_hist = {v: [] for v in ['s', 'e', 'l']}\n",
    "opt = tf.optimizers.SGD(learning_rate=0.2)\n",
    "for _ in range(100):\n",
    "    opt.minimize(loss, [s,e,l])\n",
    "    loss_hist.append(loss())\n",
    "    var_hist['s'].append(s.numpy())\n",
    "    var_hist['e'].append(e.numpy())\n",
    "    var_hist['l'].append(l.numpy())"
   ]
  },
  {
   "cell_type": "code",
   "execution_count": 30,
   "metadata": {},
   "outputs": [],
   "source": [
    "import matplotlib.pyplot as plt"
   ]
  },
  {
   "cell_type": "code",
   "execution_count": 31,
   "metadata": {},
   "outputs": [
    {
     "data": {
      "text/plain": [
       "[<matplotlib.lines.Line2D at 0x2c59d7dc0>]"
      ]
     },
     "execution_count": 31,
     "metadata": {},
     "output_type": "execute_result"
    },
    {
     "data": {
      "image/png": "[encoded data removed]",
      "text/plain": [
       "<Figure size 432x288 with 1 Axes>"
      ]
     },
     "metadata": {
      "needs_background": "light"
     },
     "output_type": "display_data"
    }
   ],
   "source": [
    "plt.plot(loss_hist)"
   ]
  },
  {
   "cell_type": "code",
   "execution_count": 32,
   "metadata": {},
   "outputs": [
    {
     "data": {
      "text/plain": [
       "[<matplotlib.lines.Line2D at 0x2c6d757b0>]"
      ]
     },
     "execution_count": 32,
     "metadata": {},
     "output_type": "execute_result"
    },
    {
     "data": {
      "image/png": "[encoded data removed]",
      "text/plain": [
       "<Figure size 432x288 with 1 Axes>"
      ]
     },
     "metadata": {
      "needs_background": "light"
     },
     "output_type": "display_data"
    }
   ],
   "source": [
    "plt.plot(var_hist['s'])"
   ]
  },
  {
   "cell_type": "code",
   "execution_count": 33,
   "metadata": {},
   "outputs": [
    {
     "data": {
      "text/plain": [
       "<matplotlib.legend.Legend at 0x2c6dec100>"
      ]
     },
     "execution_count": 33,
     "metadata": {},
     "output_type": "execute_result"
    },
    {
     "data": {
      "image/png": "[encoded data removed]",
      "text/plain": [
       "<Figure size 432x288 with 1 Axes>"
      ]
     },
     "metadata": {
      "needs_background": "light"
     },
     "output_type": "display_data"
    }
   ],
   "source": [
    "plt.plot(var_hist['e'], label='e')\n",
    "plt.plot(var_hist['l'], label='l')\n",
    "plt.legend()"
   ]
  },
  {
   "cell_type": "code",
   "execution_count": 34,
   "metadata": {},
   "outputs": [],
   "source": [
    "es = tf.linspace(2., 5., 20)\n",
    "ls = tf.linspace(5., 10., 20)\n",
    "switches = tf.linspace(2000., 2010., 20)"
   ]
  },
  {
   "cell_type": "markdown",
   "metadata": {},
   "source": [
    "# Grid approximation"
   ]
  },
  {
   "cell_type": "code",
   "execution_count": 35,
   "metadata": {},
   "outputs": [],
   "source": [
    "grid = tf.meshgrid(switches, es, ls)"
   ]
  },
  {
   "cell_type": "code",
   "execution_count": 36,
   "metadata": {},
   "outputs": [
    {
     "data": {
      "text/plain": [
       "<tf.Tensor: shape=(8000,), dtype=float32, numpy=array([2000., 2000., 2000., ..., 2010., 2010., 2010.], dtype=float32)>"
      ]
     },
     "execution_count": 36,
     "metadata": {},
     "output_type": "execute_result"
    }
   ],
   "source": [
    "tf.reshape(grid[0], [-1])"
   ]
  },
  {
   "cell_type": "code",
   "execution_count": 37,
   "metadata": {},
   "outputs": [],
   "source": [
    "log_probs = target_log_prob_fn(model_sigmoid, *[tf.reshape(grid[i], [-1]) for i in range(3)])"
   ]
  },
  {
   "cell_type": "code",
   "execution_count": 38,
   "metadata": {},
   "outputs": [
    {
     "data": {
      "text/plain": [
       "<tf.Tensor: shape=(8000,), dtype=float32, numpy=\n",
       "array([-139.2846 , -138.14435, -137.35368, ..., -142.8981 , -144.07274,\n",
       "       -145.30519], dtype=float32)>"
      ]
     },
     "execution_count": 38,
     "metadata": {},
     "output_type": "execute_result"
    }
   ],
   "source": [
    "log_probs"
   ]
  },
  {
   "cell_type": "code",
   "execution_count": 39,
   "metadata": {},
   "outputs": [],
   "source": [
    "log_probs = tf.reshape(log_probs, [20]*3)"
   ]
  },
  {
   "cell_type": "code",
   "execution_count": 40,
   "metadata": {},
   "outputs": [
    {
     "data": {
      "text/plain": [
       "(<tf.Tensor: shape=(), dtype=float32, numpy=3.5789473>,\n",
       " <tf.Tensor: shape=(), dtype=float32, numpy=7.631579>)"
      ]
     },
     "execution_count": 40,
     "metadata": {},
     "output_type": "execute_result"
    }
   ],
   "source": [
    "es[10], ls[10]"
   ]
  },
  {
   "cell_type": "code",
   "execution_count": 41,
   "metadata": {},
   "outputs": [
    {
     "data": {
      "text/plain": [
       "[<matplotlib.lines.Line2D at 0x2c6e3b250>]"
      ]
     },
     "execution_count": 41,
     "metadata": {},
     "output_type": "execute_result"
    },
    {
     "data": {
      "image/png": "[encoded data removed]",
      "text/plain": [
       "<Figure size 432x288 with 1 Axes>"
      ]
     },
     "metadata": {
      "needs_background": "light"
     },
     "output_type": "display_data"
    }
   ],
   "source": [
    "plt.plot(switches, log_probs[:,10,10])"
   ]
  },
  {
   "cell_type": "code",
   "execution_count": 42,
   "metadata": {},
   "outputs": [
    {
     "data": {
      "text/plain": [
       "[<matplotlib.lines.Line2D at 0x2c6deff10>]"
      ]
     },
     "execution_count": 42,
     "metadata": {},
     "output_type": "execute_result"
    },
    {
     "data": {
      "image/png": "[encoded data removed]",
      "text/plain": [
       "<Figure size 432x288 with 1 Axes>"
      ]
     },
     "metadata": {
      "needs_background": "light"
     },
     "output_type": "display_data"
    }
   ],
   "source": [
    "plt.plot(es, log_probs[10,:,10])"
   ]
  },
  {
   "cell_type": "markdown",
   "metadata": {},
   "source": [
    "# MCMC"
   ]
  },
  {
   "cell_type": "code",
   "execution_count": 43,
   "metadata": {},
   "outputs": [],
   "source": [
    "state = tf.constant([0.3])\n",
    "sigma = 0.1\n",
    "N = 60\n",
    "k = 34\n",
    "accept = []\n",
    "hist = []\n",
    "for _ in range(500):\n",
    "    candidate = state + tfd.Uniform(-sigma, sigma).sample(1)\n",
    "    candidate = max(min(candidate, 1), 0)\n",
    "    alpha = tfd.Binomial(N, probs=candidate).prob(k) / tfd.Binomial(N, probs=state).prob(k)\n",
    "    u = tfd.Uniform(0., 1.).sample(1)\n",
    "    if u <= alpha:\n",
    "        state = candidate\n",
    "        accept.append(1.)\n",
    "    else:\n",
    "        accept.append(0.)\n",
    "    hist.append(state.numpy()[0])"
   ]
  },
  {
   "cell_type": "code",
   "execution_count": 44,
   "metadata": {},
   "outputs": [
    {
     "data": {
      "text/plain": [
       "<tf.Tensor: shape=(), dtype=float32, numpy=0.694>"
      ]
     },
     "execution_count": 44,
     "metadata": {},
     "output_type": "execute_result"
    }
   ],
   "source": [
    "tf.reduce_mean(accept)"
   ]
  },
  {
   "cell_type": "code",
   "execution_count": 45,
   "metadata": {},
   "outputs": [
    {
     "data": {
      "text/plain": [
       "[<matplotlib.lines.Line2D at 0x2c70e45e0>]"
      ]
     },
     "execution_count": 45,
     "metadata": {},
     "output_type": "execute_result"
    },
    {
     "data": {
      "image/png": "[encoded data removed]",
      "text/plain": [
       "<Figure size 432x288 with 1 Axes>"
      ]
     },
     "metadata": {
      "needs_background": "light"
     },
     "output_type": "display_data"
    }
   ],
   "source": [
    "plt.plot(hist)"
   ]
  },
  {
   "cell_type": "code",
   "execution_count": 46,
   "metadata": {},
   "outputs": [
    {
     "data": {
      "text/plain": [
       "(array([ 4.,  6.,  0.,  3.,  0.,  4.,  3., 15., 35., 30., 36., 69., 68.,\n",
       "        66., 47., 49., 30., 24.,  6.,  5.]),\n",
       " array([0.2754498 , 0.29786283, 0.3202758 , 0.34268883, 0.36510184,\n",
       "        0.38751483, 0.40992785, 0.43234086, 0.45475388, 0.47716686,\n",
       "        0.49957988, 0.52199286, 0.5444059 , 0.5668189 , 0.5892319 ,\n",
       "        0.6116449 , 0.63405794, 0.6564709 , 0.6788839 , 0.7012969 ,\n",
       "        0.72370994], dtype=float32),\n",
       " <BarContainer object of 20 artists>)"
      ]
     },
     "execution_count": 46,
     "metadata": {},
     "output_type": "execute_result"
    },
    {
     "data": {
      "image/png": "[encoded data removed]",
      "text/plain": [
       "<Figure size 432x288 with 1 Axes>"
      ]
     },
     "metadata": {
      "needs_background": "light"
     },
     "output_type": "display_data"
    }
   ],
   "source": [
    "plt.hist(hist, bins=20)"
   ]
  },
  {
   "cell_type": "code",
   "execution_count": 24,
   "metadata": {},
   "outputs": [],
   "source": [
    "tfb = tfp.bijectors\n",
    "\n",
    "@tf.function(autograph=False, experimental_compile=False)\n",
    "def make_chain(target_log_prob_fn, n_chains, num_results, num_burnin_steps):\n",
    "    kernel = tfp.mcmc.TransformedTransitionKernel(\n",
    "       inner_kernel=tfp.mcmc.HamiltonianMonteCarlo(\n",
    "          target_log_prob_fn=target_log_prob_fn,\n",
    "          step_size=0.05,\n",
    "          num_leapfrog_steps=3),\n",
    "       bijector=[\n",
    "          # The switchpoint is constrained between zero and len(years).\n",
    "          # Hence we supply a bijector that maps the real numbers (in a\n",
    "          # differentiable way) to the interval (0;len(yers))\n",
    "          tfb.Sigmoid(low=float(years.min()), high=float(years.max())),\n",
    "          # Early and late disaster rate: The exponential distribution is\n",
    "          # defined on the positive real numbers\n",
    "          tfb.Softplus(),\n",
    "          tfb.Softplus(),\n",
    "      ])\n",
    "    kernel = tfp.mcmc.SimpleStepSizeAdaptation(\n",
    "        inner_kernel=kernel,\n",
    "        num_adaptation_steps=int(0.8*num_burnin_steps))\n",
    "\n",
    "    states = tfp.mcmc.sample_chain(\n",
    "      num_results=num_results,\n",
    "      num_burnin_steps=num_burnin_steps,\n",
    "      current_state=[\n",
    "          # The three latent variables\n",
    "          #tf.ones([n_chains], name='init_switchpoint')*float(years.min() + (years.max() - years.min())/2),\n",
    "          tfd.Uniform(float(years.min()), float(years.max())).sample(n_chains),\n",
    "          tf.ones([n_chains], name='init_early_disaster_rate'),\n",
    "          tf.ones([n_chains], name='init_late_disaster_rate'),\n",
    "      ],\n",
    "      trace_fn=None,\n",
    "      kernel=kernel)\n",
    "    return states\n",
    "\n",
    "switch_samples = [s.numpy() for s in make_chain(\n",
    "    lambda *args: target_log_prob_fn(model_switch, *args), 4, 10000, 3000)]\n",
    "sigmoid_samples = [s.numpy() for s in make_chain(\n",
    "    lambda *args: target_log_prob_fn(model_sigmoid, *args), 4, 10000, 3000)]\n",
    "switch_samples_raw = [s.numpy() for s in make_chain(\n",
    "    lambda *args: target_log_prob_fn(model_switch, *args), 4, 1000, 0)]\n",
    "sigmoid_samples_raw = [s.numpy() for s in make_chain(\n",
    "    lambda *args: target_log_prob_fn(model_sigmoid, *args), 4, 1000, 0)]"
   ]
  },
  {
   "cell_type": "code",
   "execution_count": 26,
   "metadata": {},
   "outputs": [],
   "source": [
    "import matplotlib.pyplot as plt"
   ]
  },
  {
   "cell_type": "code",
   "execution_count": 27,
   "metadata": {},
   "outputs": [
    {
     "data": {
      "image/png": "[encoded data removed]",
      "text/plain": [
       "<Figure size 432x288 with 1 Axes>"
      ]
     },
     "metadata": {
      "needs_background": "light"
     },
     "output_type": "display_data"
    }
   ],
   "source": [
    "for i in range(4):\n",
    "    plt.plot(switch_samples_raw[0][:,i], alpha=0.3)"
   ]
  },
  {
   "cell_type": "code",
   "execution_count": 28,
   "metadata": {},
   "outputs": [
    {
     "data": {
      "image/png": "[encoded data removed]",
      "text/plain": [
       "<Figure size 432x288 with 1 Axes>"
      ]
     },
     "metadata": {
      "needs_background": "light"
     },
     "output_type": "display_data"
    }
   ],
   "source": [
    "plt.hist(switch_samples[0][:,0], bins=20)\n",
    "None"
   ]
  },
  {
   "cell_type": "code",
   "execution_count": 29,
   "metadata": {},
   "outputs": [
    {
     "data": {
      "image/png": "[encoded data removed]",
      "text/plain": [
       "<Figure size 432x288 with 1 Axes>"
      ]
     },
     "metadata": {
      "needs_background": "light"
     },
     "output_type": "display_data"
    }
   ],
   "source": [
    "for i in range(4):\n",
    "    plt.hist(sigmoid_samples[0][:,i], bins=20, alpha=0.3)\n",
    "None"
   ]
  },
  {
   "cell_type": "code",
   "execution_count": 30,
   "metadata": {},
   "outputs": [
    {
     "data": {
      "image/png": "[encoded data removed]",
      "text/plain": [
       "<Figure size 432x288 with 1 Axes>"
      ]
     },
     "metadata": {
      "needs_background": "light"
     },
     "output_type": "display_data"
    }
   ],
   "source": [
    "for i in range(4):\n",
    "    plt.hist(sigmoid_samples[1][:,i], bins=20, alpha=0.3)\n",
    "None"
   ]
  },
  {
   "cell_type": "code",
   "execution_count": 31,
   "metadata": {},
   "outputs": [
    {
     "data": {
      "image/png": "[encoded data removed]",
      "text/plain": [
       "<Figure size 432x288 with 1 Axes>"
      ]
     },
     "metadata": {
      "needs_background": "light"
     },
     "output_type": "display_data"
    }
   ],
   "source": [
    "for i in range(4):\n",
    "    plt.hist(sigmoid_samples[2][:,i], bins=20, alpha=0.3)\n",
    "None"
   ]
  },
  {
   "cell_type": "code",
   "execution_count": 32,
   "metadata": {},
   "outputs": [
    {
     "data": {
      "image/png": "[encoded data removed]",
      "text/plain": [
       "<Figure size 432x288 with 1 Axes>"
      ]
     },
     "metadata": {
      "needs_background": "light"
     },
     "output_type": "display_data"
    }
   ],
   "source": [
    "plt.hist(sigmoid_samples[1][:,0], bins=20, alpha=0.5)\n",
    "plt.hist(sigmoid_samples[2][:,0], bins=20, alpha=0.5)\n",
    "None"
   ]
  },
  {
   "cell_type": "code",
   "execution_count": 33,
   "metadata": {},
   "outputs": [
    {
     "name": "stdout",
     "output_type": "stream",
     "text": [
      "Rhat, switchpoint:  tf.Tensor(1.0001019, shape=(), dtype=float32)\n",
      "Rhat, rate early:  tf.Tensor(1.0000447, shape=(), dtype=float32)\n",
      "Rhat, rate late:  tf.Tensor(1.0006906, shape=(), dtype=float32)\n"
     ]
    }
   ],
   "source": [
    "for i, var in enumerate(['switchpoint', 'rate early', 'rate late']):\n",
    "    print(f\"Rhat, {var}: \", tfp.mcmc.potential_scale_reduction(sigmoid_samples[i]))"
   ]
  },
  {
   "cell_type": "code",
   "execution_count": 34,
   "metadata": {},
   "outputs": [
    {
     "name": "stdout",
     "output_type": "stream",
     "text": [
      "Rhat, switchpoint:  tf.Tensor(29.241365, shape=(), dtype=float32)\n",
      "Rhat, rate early:  tf.Tensor(4.8549767, shape=(), dtype=float32)\n",
      "Rhat, rate late:  tf.Tensor(18.326767, shape=(), dtype=float32)\n"
     ]
    }
   ],
   "source": [
    "for i, var in enumerate(['switchpoint', 'rate early', 'rate late']):\n",
    "    print(f\"Rhat, {var}: \", tfp.mcmc.potential_scale_reduction(switch_samples[i]))"
   ]
  },
  {
   "cell_type": "code",
   "execution_count": 160,
   "metadata": {},
   "outputs": [
    {
     "data": {
      "text/plain": [
       "\u001b[0;31mSignature:\u001b[0m\n",
       "\u001b[0mtfp\u001b[0m\u001b[0;34m.\u001b[0m\u001b[0mmcmc\u001b[0m\u001b[0;34m.\u001b[0m\u001b[0mpotential_scale_reduction\u001b[0m\u001b[0;34m(\u001b[0m\u001b[0;34m\u001b[0m\n",
       "\u001b[0;34m\u001b[0m    \u001b[0mchains_states\u001b[0m\u001b[0;34m,\u001b[0m\u001b[0;34m\u001b[0m\n",
       "\u001b[0;34m\u001b[0m    \u001b[0mindependent_chain_ndims\u001b[0m\u001b[0;34m=\u001b[0m\u001b[0;36m1\u001b[0m\u001b[0;34m,\u001b[0m\u001b[0;34m\u001b[0m\n",
       "\u001b[0;34m\u001b[0m    \u001b[0msplit_chains\u001b[0m\u001b[0;34m=\u001b[0m\u001b[0;32mFalse\u001b[0m\u001b[0;34m,\u001b[0m\u001b[0;34m\u001b[0m\n",
       "\u001b[0;34m\u001b[0m    \u001b[0mvalidate_args\u001b[0m\u001b[0;34m=\u001b[0m\u001b[0;32mFalse\u001b[0m\u001b[0;34m,\u001b[0m\u001b[0;34m\u001b[0m\n",
       "\u001b[0;34m\u001b[0m    \u001b[0mname\u001b[0m\u001b[0;34m=\u001b[0m\u001b[0;32mNone\u001b[0m\u001b[0;34m,\u001b[0m\u001b[0;34m\u001b[0m\n",
       "\u001b[0;34m\u001b[0m\u001b[0;34m)\u001b[0m\u001b[0;34m\u001b[0m\u001b[0;34m\u001b[0m\u001b[0m\n",
       "\u001b[0;31mDocstring:\u001b[0m\n",
       "Gelman and Rubin (1992)'s potential scale reduction for chain convergence.\n",
       "\n",
       "Given `N > 1` states from each of `C > 1` independent chains, the potential\n",
       "scale reduction factor, commonly referred to as R-hat, measures convergence of\n",
       "the chains (to the same target) by testing for equality of means.\n",
       "Specifically, R-hat measures the degree to which variance (of the means)\n",
       "between chains exceeds what one would expect if the chains were identically\n",
       "distributed. See [Gelman and Rubin (1992)][1]; [Brooks and Gelman (1998)][2].\n",
       "\n",
       "Some guidelines:\n",
       "\n",
       "* The initial state of the chains should be drawn from a distribution\n",
       "  overdispersed with respect to the target.\n",
       "* If all chains converge to the target, then as `N --> infinity`, R-hat --> 1.\n",
       "  Before that, R-hat > 1 (except in pathological cases, e.g. if the chain\n",
       "  paths were identical).\n",
       "* The above holds for any number of chains `C > 1`.  Increasing `C` does\n",
       "  improve effectiveness of the diagnostic.\n",
       "* Sometimes, R-hat < 1.2 is used to indicate approximate convergence, but of\n",
       "  course this is problem-dependent. See [Brooks and Gelman (1998)][2].\n",
       "* R-hat only measures non-convergence of the mean. If higher moments, or\n",
       "  other statistics are desired, a different diagnostic should be used. See\n",
       "  [Brooks and Gelman (1998)][2].\n",
       "\n",
       "Args:\n",
       "  chains_states:  `Tensor` or Python `list` of `Tensor`s representing the\n",
       "    states of a Markov Chain at each result step.  The `ith` state is\n",
       "    assumed to have shape `[Ni, Ci1, Ci2,...,CiD] + A`.\n",
       "    Dimension `0` indexes the `Ni > 1` result steps of the Markov Chain.\n",
       "    Dimensions `1` through `D` index the `Ci1 x ... x CiD` independent\n",
       "    chains to be tested for convergence to the same target.\n",
       "    The remaining dimensions, `A`, can have any shape (even empty).\n",
       "  independent_chain_ndims: Integer type `Tensor` with value `>= 1` giving the\n",
       "    number of dimensions, from `dim = 1` to `dim = D`, holding independent\n",
       "    chain results to be tested for convergence.\n",
       "  split_chains: Python `bool`. If `True`, divide samples from each chain into\n",
       "    first and second halves, treating these as separate chains.  This makes\n",
       "    R-hat more robust to non-stationary chains, and is recommended in [3].\n",
       "  validate_args: Whether to add runtime checks of argument validity. If False,\n",
       "    and arguments are incorrect, correct behavior is not guaranteed.\n",
       "  name: `String` name to prepend to created tf.  Default:\n",
       "    `potential_scale_reduction`.\n",
       "\n",
       "Returns:\n",
       "  `Tensor` or Python `list` of `Tensor`s representing the R-hat statistic for\n",
       "  the state(s).  Same `dtype` as `state`, and shape equal to\n",
       "  `state.shape[1 + independent_chain_ndims:]`.\n",
       "\n",
       "Raises:\n",
       "  ValueError:  If `independent_chain_ndims < 1`.\n",
       "\n",
       "#### Examples\n",
       "\n",
       "Diagnosing convergence by monitoring 10 chains that each attempt to\n",
       "sample from a 2-variate normal.\n",
       "\n",
       "```python\n",
       "import tensorflow as tf\n",
       "import tensorflow_probability as tfp\n",
       "tfd = tfp.distributions\n",
       "\n",
       "target = tfd.MultivariateNormalDiag(scale_diag=[1., 2.])\n",
       "\n",
       "# Get 10 (2x) overdispersed initial states.\n",
       "initial_state = target.sample(10) * 2.\n",
       "==> (10, 2)\n",
       "\n",
       "# Get 1000 samples from the 10 independent chains.\n",
       "chains_states = tfp.mcmc.sample_chain(\n",
       "    num_burnin_steps=200,\n",
       "    num_results=1000,\n",
       "    current_state=initial_state,\n",
       "    trace_fn=None,\n",
       "    kernel=tfp.mcmc.HamiltonianMonteCarlo(\n",
       "        target_log_prob_fn=target.log_prob,\n",
       "        step_size=0.05,\n",
       "        num_leapfrog_steps=20))\n",
       "chains_states.shape\n",
       "==> (1000, 10, 2)\n",
       "\n",
       "rhat = tfp.mcmc.diagnostic.potential_scale_reduction(\n",
       "    chains_states, independent_chain_ndims=1)\n",
       "\n",
       "# The second dimension needed a longer burn-in.\n",
       "rhat.eval()\n",
       "==> [1.05, 1.3]\n",
       "```\n",
       "\n",
       "To see why R-hat is reasonable, let `X` be a random variable drawn uniformly\n",
       "from the combined states (combined over all chains).  Then, in the limit\n",
       "`N, C --> infinity`, with `E`, `Var` denoting expectation and variance,\n",
       "\n",
       "```R-hat = ( E[Var[X | chain]] + Var[E[X | chain]] ) / E[Var[X | chain]].```\n",
       "\n",
       "Using the law of total variance, the numerator is the variance of the combined\n",
       "states, and the denominator is the total variance minus the variance of the\n",
       "the individual chain means.  If the chains are all drawing from the same\n",
       "distribution, they will have the same mean, and thus the ratio should be one.\n",
       "\n",
       "#### References\n",
       "\n",
       "[1]: Stephen P. Brooks and Andrew Gelman. General Methods for Monitoring\n",
       "     Convergence of Iterative Simulations. _Journal of Computational and\n",
       "     Graphical Statistics_, 7(4), 1998.\n",
       "\n",
       "[2]: Andrew Gelman and Donald B. Rubin. Inference from Iterative Simulation\n",
       "     Using Multiple Sequences. _Statistical Science_, 7(4):457-472, 1992.\n",
       "\n",
       "[3]: Aki Vehtari, Andrew Gelman, Daniel Simpson, Bob Carpenter, Paul-Christian\n",
       "     Burkner. Rank-normalization, folding, and localization: An improved R-hat\n",
       "     for assessing convergence of MCMC, 2019. Retrieved from\n",
       "     http://arxiv.org/abs/1903.08008\n",
       "\u001b[0;31mFile:\u001b[0m      ~/.venv/venv/lib/python3.8/site-packages/tensorflow_probability/python/mcmc/diagnostic.py\n",
       "\u001b[0;31mType:\u001b[0m      function\n"
      ]
     },
     "metadata": {},
     "output_type": "display_data"
    }
   ],
   "source": [
    "?tfp.mcmc.potential_scale_reduction"
   ]
  },
  {
   "cell_type": "code",
   "execution_count": null,
   "metadata": {},
   "outputs": [],
   "source": []
  }
 ],
 "metadata": {
  "kernelspec": {
   "display_name": "Python 3 (ipykernel)",
   "language": "python",
   "name": "python3"
  },
  "language_info": {
   "codemirror_mode": {
    "name": "ipython",
    "version": 3
   },
   "file_extension": ".py",
   "mimetype": "text/x-python",
   "name": "python",
   "nbconvert_exporter": "python",
   "pygments_lexer": "ipython3",
   "version": "3.10.4"
  }
 },
 "nbformat": 4,
 "nbformat_minor": 4
}
