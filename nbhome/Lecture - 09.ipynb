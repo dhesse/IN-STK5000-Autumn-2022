{
 "cells": [
  {
   "cell_type": "markdown",
   "id": "e8b4cb1a-e133-4b4c-a6bc-0820db3d7cf8",
   "metadata": {},
   "source": [
    "# Model Evaluation, Scarcity, Abundance of Data"
   ]
  },
  {
   "cell_type": "markdown",
   "id": "b1688cc3-b482-4043-8d63-8aad9a9c77c2",
   "metadata": {},
   "source": [
    "# Reading the data"
   ]
  },
  {
   "cell_type": "code",
   "execution_count": 3,
   "id": "1b754ab1-2031-46a0-8b83-76c2cc44fae9",
   "metadata": {},
   "outputs": [],
   "source": [
    "df = pd.read_csv(\"data/income_data.csv\")"
   ]
  },
  {
   "cell_type": "code",
   "execution_count": 4,
   "id": "133776b6-cf5d-41a1-b08e-55fb394ea316",
   "metadata": {},
   "outputs": [
    {
     "data": {
      "text/html": [
       "<div>\n",
       "<style scoped>\n",
       "    .dataframe tbody tr th:only-of-type {\n",
       "        vertical-align: middle;\n",
       "    }\n",
       "\n",
       "    .dataframe tbody tr th {\n",
       "        vertical-align: top;\n",
       "    }\n",
       "\n",
       "    .dataframe thead th {\n",
       "        text-align: right;\n",
       "    }\n",
       "</style>\n",
       "<table border=\"1\" class=\"dataframe\">\n",
       "  <thead>\n",
       "    <tr style=\"text-align: right;\">\n",
       "      <th></th>\n",
       "      <th>age</th>\n",
       "      <th>workclass</th>\n",
       "      <th>fnlwgt</th>\n",
       "      <th>education</th>\n",
       "      <th>education-num</th>\n",
       "      <th>marital-status</th>\n",
       "      <th>occupation</th>\n",
       "      <th>relationship</th>\n",
       "      <th>race</th>\n",
       "      <th>sex</th>\n",
       "      <th>capital-gain</th>\n",
       "      <th>capital-loss</th>\n",
       "      <th>hours-per-week</th>\n",
       "      <th>native-country</th>\n",
       "      <th>income</th>\n",
       "      <th>target</th>\n",
       "    </tr>\n",
       "  </thead>\n",
       "  <tbody>\n",
       "    <tr>\n",
       "      <th>0</th>\n",
       "      <td>39</td>\n",
       "      <td>State-gov</td>\n",
       "      <td>77516</td>\n",
       "      <td>Bachelors</td>\n",
       "      <td>13</td>\n",
       "      <td>Never-married</td>\n",
       "      <td>Adm-clerical</td>\n",
       "      <td>Not-in-family</td>\n",
       "      <td>White</td>\n",
       "      <td>Male</td>\n",
       "      <td>2174</td>\n",
       "      <td>0</td>\n",
       "      <td>40</td>\n",
       "      <td>United-States</td>\n",
       "      <td>&lt;=50K</td>\n",
       "      <td>0</td>\n",
       "    </tr>\n",
       "    <tr>\n",
       "      <th>1</th>\n",
       "      <td>50</td>\n",
       "      <td>Self-emp-not-inc</td>\n",
       "      <td>83311</td>\n",
       "      <td>Bachelors</td>\n",
       "      <td>13</td>\n",
       "      <td>Married-civ-spouse</td>\n",
       "      <td>Exec-managerial</td>\n",
       "      <td>Husband</td>\n",
       "      <td>White</td>\n",
       "      <td>Male</td>\n",
       "      <td>0</td>\n",
       "      <td>0</td>\n",
       "      <td>13</td>\n",
       "      <td>United-States</td>\n",
       "      <td>&lt;=50K</td>\n",
       "      <td>0</td>\n",
       "    </tr>\n",
       "    <tr>\n",
       "      <th>2</th>\n",
       "      <td>38</td>\n",
       "      <td>Private</td>\n",
       "      <td>215646</td>\n",
       "      <td>HS-grad</td>\n",
       "      <td>9</td>\n",
       "      <td>Divorced</td>\n",
       "      <td>Handlers-cleaners</td>\n",
       "      <td>Not-in-family</td>\n",
       "      <td>White</td>\n",
       "      <td>Male</td>\n",
       "      <td>0</td>\n",
       "      <td>0</td>\n",
       "      <td>40</td>\n",
       "      <td>United-States</td>\n",
       "      <td>&lt;=50K</td>\n",
       "      <td>0</td>\n",
       "    </tr>\n",
       "    <tr>\n",
       "      <th>3</th>\n",
       "      <td>53</td>\n",
       "      <td>Private</td>\n",
       "      <td>234721</td>\n",
       "      <td>11th</td>\n",
       "      <td>7</td>\n",
       "      <td>Married-civ-spouse</td>\n",
       "      <td>Handlers-cleaners</td>\n",
       "      <td>Husband</td>\n",
       "      <td>Black</td>\n",
       "      <td>Male</td>\n",
       "      <td>0</td>\n",
       "      <td>0</td>\n",
       "      <td>40</td>\n",
       "      <td>United-States</td>\n",
       "      <td>&lt;=50K</td>\n",
       "      <td>0</td>\n",
       "    </tr>\n",
       "    <tr>\n",
       "      <th>4</th>\n",
       "      <td>28</td>\n",
       "      <td>Private</td>\n",
       "      <td>338409</td>\n",
       "      <td>Bachelors</td>\n",
       "      <td>13</td>\n",
       "      <td>Married-civ-spouse</td>\n",
       "      <td>Prof-specialty</td>\n",
       "      <td>Wife</td>\n",
       "      <td>Black</td>\n",
       "      <td>Female</td>\n",
       "      <td>0</td>\n",
       "      <td>0</td>\n",
       "      <td>40</td>\n",
       "      <td>Cuba</td>\n",
       "      <td>&lt;=50K</td>\n",
       "      <td>0</td>\n",
       "    </tr>\n",
       "  </tbody>\n",
       "</table>\n",
       "</div>"
      ],
      "text/plain": [
       "   age          workclass  fnlwgt   education  education-num  \\\n",
       "0   39          State-gov   77516   Bachelors             13   \n",
       "1   50   Self-emp-not-inc   83311   Bachelors             13   \n",
       "2   38            Private  215646     HS-grad              9   \n",
       "3   53            Private  234721        11th              7   \n",
       "4   28            Private  338409   Bachelors             13   \n",
       "\n",
       "        marital-status          occupation    relationship    race      sex  \\\n",
       "0        Never-married        Adm-clerical   Not-in-family   White     Male   \n",
       "1   Married-civ-spouse     Exec-managerial         Husband   White     Male   \n",
       "2             Divorced   Handlers-cleaners   Not-in-family   White     Male   \n",
       "3   Married-civ-spouse   Handlers-cleaners         Husband   Black     Male   \n",
       "4   Married-civ-spouse      Prof-specialty            Wife   Black   Female   \n",
       "\n",
       "   capital-gain  capital-loss  hours-per-week  native-country  income  target  \n",
       "0          2174             0              40   United-States   <=50K       0  \n",
       "1             0             0              13   United-States   <=50K       0  \n",
       "2             0             0              40   United-States   <=50K       0  \n",
       "3             0             0              40   United-States   <=50K       0  \n",
       "4             0             0              40            Cuba   <=50K       0  "
      ]
     },
     "execution_count": 4,
     "metadata": {},
     "output_type": "execute_result"
    }
   ],
   "source": [
    "df.head()"
   ]
  },
  {
   "cell_type": "code",
   "execution_count": 5,
   "id": "57ef4802-d3b5-4c31-a566-e8bc7b772185",
   "metadata": {},
   "outputs": [],
   "source": [
    "cat_columns = ['sex', 'education', 'race']\n",
    "cont_columns = ['age', 'education-num', 'hours-per-week']\n",
    "features = cat_columns + cont_columns\n",
    "target = \"target\""
   ]
  },
  {
   "cell_type": "markdown",
   "id": "aae90ee0-5449-45f5-b21a-24a09acdea48",
   "metadata": {},
   "source": [
    "# Building the first pipeline"
   ]
  },
  {
   "cell_type": "code",
   "execution_count": 6,
   "id": "1ef22218-2400-4b82-9c08-8947148bdb07",
   "metadata": {},
   "outputs": [],
   "source": [
    "from sklearn.pipeline import Pipeline\n",
    "from sklearn.compose import ColumnTransformer\n",
    "from sklearn.neighbors import KNeighborsClassifier\n",
    "from sklearn.tree import DecisionTreeClassifier\n",
    "from sklearn.preprocessing import OneHotEncoder, StandardScaler"
   ]
  },
  {
   "cell_type": "code",
   "execution_count": 184,
   "id": "979f1af9-ba2f-485c-ad03-d7053cb42b33",
   "metadata": {},
   "outputs": [],
   "source": [
    "cat_trans = Pipeline(steps=[('onehot', OneHotEncoder(drop='first',\n",
    "                                                     min_frequency=0.05,\n",
    "                                                    handle_unknown='infrequent_if_exist'))])\n",
    "cont_trans = Pipeline(steps=[('scaler', StandardScaler())])\n",
    "\n",
    "feat_trans = ColumnTransformer(\n",
    "    transformers=[('categorical', cat_trans, cat_columns),\n",
    "                  ('continuous', cont_trans, cont_columns)])\n",
    "\n",
    "def mk_knn(k):\n",
    "    return Pipeline(steps=[\n",
    "        ('feature_transform', feat_trans),\n",
    "        ('classifier', KNeighborsClassifier(n_neighbors=k))\n",
    "    ])\n",
    "\n",
    "def mk_tree(d):\n",
    "    return Pipeline(steps=[\n",
    "        ('feature_transform', feat_trans),\n",
    "        ('classifier', DecisionTreeClassifier(max_depth=d))\n",
    "    ])"
   ]
  },
  {
   "cell_type": "code",
   "execution_count": 185,
   "id": "2c3d3398-98e2-41e3-9815-d9674f843e67",
   "metadata": {},
   "outputs": [
    {
     "data": {
      "text/html": [
       "<style>#sk-container-id-4 {color: black;background-color: white;}#sk-container-id-4 pre{padding: 0;}#sk-container-id-4 div.sk-toggleable {background-color: white;}#sk-container-id-4 label.sk-toggleable__label {cursor: pointer;display: block;width: 100%;margin-bottom: 0;padding: 0.3em;box-sizing: border-box;text-align: center;}#sk-container-id-4 label.sk-toggleable__label-arrow:before {content: \"▸\";float: left;margin-right: 0.25em;color: #696969;}#sk-container-id-4 label.sk-toggleable__label-arrow:hover:before {color: black;}#sk-container-id-4 div.sk-estimator:hover label.sk-toggleable__label-arrow:before {color: black;}#sk-container-id-4 div.sk-toggleable__content {max-height: 0;max-width: 0;overflow: hidden;text-align: left;background-color: #f0f8ff;}#sk-container-id-4 div.sk-toggleable__content pre {margin: 0.2em;color: black;border-radius: 0.25em;background-color: #f0f8ff;}#sk-container-id-4 input.sk-toggleable__control:checked~div.sk-toggleable__content {max-height: 200px;max-width: 100%;overflow: auto;}#sk-container-id-4 input.sk-toggleable__control:checked~label.sk-toggleable__label-arrow:before {content: \"▾\";}#sk-container-id-4 div.sk-estimator input.sk-toggleable__control:checked~label.sk-toggleable__label {background-color: #d4ebff;}#sk-container-id-4 div.sk-label input.sk-toggleable__control:checked~label.sk-toggleable__label {background-color: #d4ebff;}#sk-container-id-4 input.sk-hidden--visually {border: 0;clip: rect(1px 1px 1px 1px);clip: rect(1px, 1px, 1px, 1px);height: 1px;margin: -1px;overflow: hidden;padding: 0;position: absolute;width: 1px;}#sk-container-id-4 div.sk-estimator {font-family: monospace;background-color: #f0f8ff;border: 1px dotted black;border-radius: 0.25em;box-sizing: border-box;margin-bottom: 0.5em;}#sk-container-id-4 div.sk-estimator:hover {background-color: #d4ebff;}#sk-container-id-4 div.sk-parallel-item::after {content: \"\";width: 100%;border-bottom: 1px solid gray;flex-grow: 1;}#sk-container-id-4 div.sk-label:hover label.sk-toggleable__label {background-color: #d4ebff;}#sk-container-id-4 div.sk-serial::before {content: \"\";position: absolute;border-left: 1px solid gray;box-sizing: border-box;top: 0;bottom: 0;left: 50%;z-index: 0;}#sk-container-id-4 div.sk-serial {display: flex;flex-direction: column;align-items: center;background-color: white;padding-right: 0.2em;padding-left: 0.2em;position: relative;}#sk-container-id-4 div.sk-item {position: relative;z-index: 1;}#sk-container-id-4 div.sk-parallel {display: flex;align-items: stretch;justify-content: center;background-color: white;position: relative;}#sk-container-id-4 div.sk-item::before, #sk-container-id-4 div.sk-parallel-item::before {content: \"\";position: absolute;border-left: 1px solid gray;box-sizing: border-box;top: 0;bottom: 0;left: 50%;z-index: -1;}#sk-container-id-4 div.sk-parallel-item {display: flex;flex-direction: column;z-index: 1;position: relative;background-color: white;}#sk-container-id-4 div.sk-parallel-item:first-child::after {align-self: flex-end;width: 50%;}#sk-container-id-4 div.sk-parallel-item:last-child::after {align-self: flex-start;width: 50%;}#sk-container-id-4 div.sk-parallel-item:only-child::after {width: 0;}#sk-container-id-4 div.sk-dashed-wrapped {border: 1px dashed gray;margin: 0 0.4em 0.5em 0.4em;box-sizing: border-box;padding-bottom: 0.4em;background-color: white;}#sk-container-id-4 div.sk-label label {font-family: monospace;font-weight: bold;display: inline-block;line-height: 1.2em;}#sk-container-id-4 div.sk-label-container {text-align: center;}#sk-container-id-4 div.sk-container {/* jupyter's `normalize.less` sets `[hidden] { display: none; }` but bootstrap.min.css set `[hidden] { display: none !important; }` so we also need the `!important` here to be able to override the default hidden behavior on the sphinx rendered scikit-learn.org. See: https://github.com/scikit-learn/scikit-learn/issues/21755 */display: inline-block !important;position: relative;}#sk-container-id-4 div.sk-text-repr-fallback {display: none;}</style><div id=\"sk-container-id-4\" class=\"sk-top-container\"><div class=\"sk-text-repr-fallback\"><pre>Pipeline(steps=[(&#x27;feature_transform&#x27;,\n",
       "                 ColumnTransformer(transformers=[(&#x27;categorical&#x27;,\n",
       "                                                  Pipeline(steps=[(&#x27;onehot&#x27;,\n",
       "                                                                   OneHotEncoder(drop=&#x27;first&#x27;,\n",
       "                                                                                 handle_unknown=&#x27;infrequent_if_exist&#x27;,\n",
       "                                                                                 min_frequency=0.05))]),\n",
       "                                                  [&#x27;sex&#x27;, &#x27;education&#x27;, &#x27;race&#x27;]),\n",
       "                                                 (&#x27;continuous&#x27;,\n",
       "                                                  Pipeline(steps=[(&#x27;scaler&#x27;,\n",
       "                                                                   StandardScaler())]),\n",
       "                                                  [&#x27;age&#x27;, &#x27;education-num&#x27;,\n",
       "                                                   &#x27;hours-per-week&#x27;])])),\n",
       "                (&#x27;classifier&#x27;, DecisionTreeClassifier(max_depth=3))])</pre><b>In a Jupyter environment, please rerun this cell to show the HTML representation or trust the notebook. <br />On GitHub, the HTML representation is unable to render, please try loading this page with nbviewer.org.</b></div><div class=\"sk-container\" hidden><div class=\"sk-item sk-dashed-wrapped\"><div class=\"sk-label-container\"><div class=\"sk-label sk-toggleable\"><input class=\"sk-toggleable__control sk-hidden--visually\" id=\"sk-estimator-id-22\" type=\"checkbox\" ><label for=\"sk-estimator-id-22\" class=\"sk-toggleable__label sk-toggleable__label-arrow\">Pipeline</label><div class=\"sk-toggleable__content\"><pre>Pipeline(steps=[(&#x27;feature_transform&#x27;,\n",
       "                 ColumnTransformer(transformers=[(&#x27;categorical&#x27;,\n",
       "                                                  Pipeline(steps=[(&#x27;onehot&#x27;,\n",
       "                                                                   OneHotEncoder(drop=&#x27;first&#x27;,\n",
       "                                                                                 handle_unknown=&#x27;infrequent_if_exist&#x27;,\n",
       "                                                                                 min_frequency=0.05))]),\n",
       "                                                  [&#x27;sex&#x27;, &#x27;education&#x27;, &#x27;race&#x27;]),\n",
       "                                                 (&#x27;continuous&#x27;,\n",
       "                                                  Pipeline(steps=[(&#x27;scaler&#x27;,\n",
       "                                                                   StandardScaler())]),\n",
       "                                                  [&#x27;age&#x27;, &#x27;education-num&#x27;,\n",
       "                                                   &#x27;hours-per-week&#x27;])])),\n",
       "                (&#x27;classifier&#x27;, DecisionTreeClassifier(max_depth=3))])</pre></div></div></div><div class=\"sk-serial\"><div class=\"sk-item sk-dashed-wrapped\"><div class=\"sk-label-container\"><div class=\"sk-label sk-toggleable\"><input class=\"sk-toggleable__control sk-hidden--visually\" id=\"sk-estimator-id-23\" type=\"checkbox\" ><label for=\"sk-estimator-id-23\" class=\"sk-toggleable__label sk-toggleable__label-arrow\">feature_transform: ColumnTransformer</label><div class=\"sk-toggleable__content\"><pre>ColumnTransformer(transformers=[(&#x27;categorical&#x27;,\n",
       "                                 Pipeline(steps=[(&#x27;onehot&#x27;,\n",
       "                                                  OneHotEncoder(drop=&#x27;first&#x27;,\n",
       "                                                                handle_unknown=&#x27;infrequent_if_exist&#x27;,\n",
       "                                                                min_frequency=0.05))]),\n",
       "                                 [&#x27;sex&#x27;, &#x27;education&#x27;, &#x27;race&#x27;]),\n",
       "                                (&#x27;continuous&#x27;,\n",
       "                                 Pipeline(steps=[(&#x27;scaler&#x27;, StandardScaler())]),\n",
       "                                 [&#x27;age&#x27;, &#x27;education-num&#x27;, &#x27;hours-per-week&#x27;])])</pre></div></div></div><div class=\"sk-parallel\"><div class=\"sk-parallel-item\"><div class=\"sk-item\"><div class=\"sk-label-container\"><div class=\"sk-label sk-toggleable\"><input class=\"sk-toggleable__control sk-hidden--visually\" id=\"sk-estimator-id-24\" type=\"checkbox\" ><label for=\"sk-estimator-id-24\" class=\"sk-toggleable__label sk-toggleable__label-arrow\">categorical</label><div class=\"sk-toggleable__content\"><pre>[&#x27;sex&#x27;, &#x27;education&#x27;, &#x27;race&#x27;]</pre></div></div></div><div class=\"sk-serial\"><div class=\"sk-item\"><div class=\"sk-serial\"><div class=\"sk-item\"><div class=\"sk-estimator sk-toggleable\"><input class=\"sk-toggleable__control sk-hidden--visually\" id=\"sk-estimator-id-25\" type=\"checkbox\" ><label for=\"sk-estimator-id-25\" class=\"sk-toggleable__label sk-toggleable__label-arrow\">OneHotEncoder</label><div class=\"sk-toggleable__content\"><pre>OneHotEncoder(drop=&#x27;first&#x27;, handle_unknown=&#x27;infrequent_if_exist&#x27;,\n",
       "              min_frequency=0.05)</pre></div></div></div></div></div></div></div></div><div class=\"sk-parallel-item\"><div class=\"sk-item\"><div class=\"sk-label-container\"><div class=\"sk-label sk-toggleable\"><input class=\"sk-toggleable__control sk-hidden--visually\" id=\"sk-estimator-id-26\" type=\"checkbox\" ><label for=\"sk-estimator-id-26\" class=\"sk-toggleable__label sk-toggleable__label-arrow\">continuous</label><div class=\"sk-toggleable__content\"><pre>[&#x27;age&#x27;, &#x27;education-num&#x27;, &#x27;hours-per-week&#x27;]</pre></div></div></div><div class=\"sk-serial\"><div class=\"sk-item\"><div class=\"sk-serial\"><div class=\"sk-item\"><div class=\"sk-estimator sk-toggleable\"><input class=\"sk-toggleable__control sk-hidden--visually\" id=\"sk-estimator-id-27\" type=\"checkbox\" ><label for=\"sk-estimator-id-27\" class=\"sk-toggleable__label sk-toggleable__label-arrow\">StandardScaler</label><div class=\"sk-toggleable__content\"><pre>StandardScaler()</pre></div></div></div></div></div></div></div></div></div></div><div class=\"sk-item\"><div class=\"sk-estimator sk-toggleable\"><input class=\"sk-toggleable__control sk-hidden--visually\" id=\"sk-estimator-id-28\" type=\"checkbox\" ><label for=\"sk-estimator-id-28\" class=\"sk-toggleable__label sk-toggleable__label-arrow\">DecisionTreeClassifier</label><div class=\"sk-toggleable__content\"><pre>DecisionTreeClassifier(max_depth=3)</pre></div></div></div></div></div></div></div>"
      ],
      "text/plain": [
       "Pipeline(steps=[('feature_transform',\n",
       "                 ColumnTransformer(transformers=[('categorical',\n",
       "                                                  Pipeline(steps=[('onehot',\n",
       "                                                                   OneHotEncoder(drop='first',\n",
       "                                                                                 handle_unknown='infrequent_if_exist',\n",
       "                                                                                 min_frequency=0.05))]),\n",
       "                                                  ['sex', 'education', 'race']),\n",
       "                                                 ('continuous',\n",
       "                                                  Pipeline(steps=[('scaler',\n",
       "                                                                   StandardScaler())]),\n",
       "                                                  ['age', 'education-num',\n",
       "                                                   'hours-per-week'])])),\n",
       "                ('classifier', DecisionTreeClassifier(max_depth=3))])"
      ]
     },
     "execution_count": 185,
     "metadata": {},
     "output_type": "execute_result"
    }
   ],
   "source": [
    "mk_tree(3)"
   ]
  },
  {
   "cell_type": "markdown",
   "id": "61a4f7d0-2bdd-413e-96b6-b7dac435bedc",
   "metadata": {},
   "source": [
    "## K-fold Cross-validation"
   ]
  },
  {
   "cell_type": "code",
   "execution_count": 186,
   "id": "a30f799b-f3e4-4392-b079-15fe91998522",
   "metadata": {},
   "outputs": [],
   "source": [
    "from sklearn.model_selection import cross_val_score"
   ]
  },
  {
   "cell_type": "code",
   "execution_count": 187,
   "id": "953005b7-5652-4d1f-86a3-fa8c58feb222",
   "metadata": {},
   "outputs": [],
   "source": [
    "cv_scores = cross_val_score(mk_tree(5), df[features], df[target], cv=50)"
   ]
  },
  {
   "cell_type": "code",
   "execution_count": 188,
   "id": "d14a5d27-1024-4c31-b1e9-8702a1e5cb1e",
   "metadata": {},
   "outputs": [
    {
     "data": {
      "text/plain": [
       "array([0.80368098, 0.80214724, 0.7898773 , 0.79907975, 0.81441718,\n",
       "       0.82055215, 0.79907975, 0.79601227, 0.80368098, 0.79754601,\n",
       "       0.81441718, 0.80645161, 0.83563748, 0.8187404 , 0.8156682 ,\n",
       "       0.78494624, 0.78801843, 0.80337942, 0.80184332, 0.80645161,\n",
       "       0.8218126 , 0.80645161, 0.81259601, 0.83102919, 0.78648233,\n",
       "       0.8141321 , 0.82642089, 0.8187404 , 0.79877112, 0.78955453,\n",
       "       0.80645161, 0.8141321 , 0.79877112, 0.80645161, 0.80491551,\n",
       "       0.82949309, 0.8141321 , 0.82488479, 0.81259601, 0.8156682 ,\n",
       "       0.80952381, 0.80184332, 0.80337942, 0.82642089, 0.81259601,\n",
       "       0.81259601, 0.80030722, 0.80491551, 0.79877112, 0.78801843])"
      ]
     },
     "execution_count": 188,
     "metadata": {},
     "output_type": "execute_result"
    }
   ],
   "source": [
    "cv_scores"
   ]
  },
  {
   "cell_type": "code",
   "execution_count": 189,
   "id": "d4d8318c-5070-47f9-b54d-b5e7c903bee7",
   "metadata": {},
   "outputs": [
    {
     "data": {
      "text/plain": [
       "<AxesSubplot:ylabel='Count'>"
      ]
     },
     "execution_count": 189,
     "metadata": {},
     "output_type": "execute_result"
    },
    {
     "data": {
      "image/png": "[encoded data removed]",
      "text/plain": [
       "<Figure size 432x288 with 1 Axes>"
      ]
     },
     "metadata": {
      "needs_background": "light"
     },
     "output_type": "display_data"
    }
   ],
   "source": [
    "sns.histplot(cv_scores)"
   ]
  },
  {
   "cell_type": "markdown",
   "id": "93cbba4a-7dc1-4441-b706-df38c07cd233",
   "metadata": {},
   "source": [
    "## Stratified K-Fold"
   ]
  },
  {
   "cell_type": "code",
   "execution_count": 222,
   "id": "0c044ee9-e520-4a28-8d5a-ea9ca6881da8",
   "metadata": {},
   "outputs": [],
   "source": [
    "from sklearn.model_selection import StratifiedKFold, KFold"
   ]
  },
  {
   "cell_type": "code",
   "execution_count": 223,
   "id": "65d2d3d3-d58f-47cc-895b-6dae1e25b126",
   "metadata": {},
   "outputs": [],
   "source": [
    "cv_scores_strat = cross_val_score(mk_tree(5), df[features], df[target], cv=StratifiedKFold(n_splits=50))"
   ]
  },
  {
   "cell_type": "code",
   "execution_count": 224,
   "id": "100acd2e-434b-483d-b452-cfe417d85914",
   "metadata": {},
   "outputs": [
    {
     "data": {
      "text/plain": [
       "<AxesSubplot:ylabel='Count'>"
      ]
     },
     "execution_count": 224,
     "metadata": {},
     "output_type": "execute_result"
    },
    {
     "data": {
      "image/png": "[encoded data removed]",
      "text/plain": [
       "<Figure size 432x288 with 1 Axes>"
      ]
     },
     "metadata": {
      "needs_background": "light"
     },
     "output_type": "display_data"
    }
   ],
   "source": [
    "sns.histplot(cv_scores_strat)"
   ]
  },
  {
   "cell_type": "code",
   "execution_count": 225,
   "id": "866bb3df-15d0-4de7-8198-49474b8dd796",
   "metadata": {},
   "outputs": [],
   "source": [
    "cv_scores = cross_val_score(mk_tree(5), df[features], df[target], cv=KFold(n_splits=50))"
   ]
  },
  {
   "cell_type": "code",
   "execution_count": 226,
   "id": "4b805b82-f377-4d64-91db-ce76689e6c32",
   "metadata": {},
   "outputs": [
    {
     "data": {
      "text/plain": [
       "<AxesSubplot:ylabel='Count'>"
      ]
     },
     "execution_count": 226,
     "metadata": {},
     "output_type": "execute_result"
    },
    {
     "data": {
      "image/png": "[encoded data removed]",
      "text/plain": [
       "<Figure size 432x288 with 1 Axes>"
      ]
     },
     "metadata": {
      "needs_background": "light"
     },
     "output_type": "display_data"
    }
   ],
   "source": [
    "sns.histplot(cv_scores)"
   ]
  },
  {
   "cell_type": "code",
   "execution_count": 227,
   "id": "e5a77684-13ec-4e0f-bf2c-eb0f7eff4886",
   "metadata": {},
   "outputs": [
    {
     "data": {
      "text/plain": [
       "<AxesSubplot:ylabel='Count'>"
      ]
     },
     "execution_count": 227,
     "metadata": {},
     "output_type": "execute_result"
    },
    {
     "data": {
      "image/png": "[encoded data removed]",
      "text/plain": [
       "<Figure size 432x288 with 1 Axes>"
      ]
     },
     "metadata": {
      "needs_background": "light"
     },
     "output_type": "display_data"
    }
   ],
   "source": [
    "sns.histplot(cv_scores)\n",
    "sns.histplot(cv_scores_strat, color='red')"
   ]
  },
  {
   "cell_type": "markdown",
   "id": "b97a3cdd-bd4b-4817-bcf0-039faee29e1d",
   "metadata": {},
   "source": [
    "# If there was no time last lecture: Shooting yourself in the foot - correct use of pipelines"
   ]
  },
  {
   "cell_type": "code",
   "execution_count": 1,
   "id": "f05a9c73-94e5-4dce-981a-a8839b689842",
   "metadata": {},
   "outputs": [],
   "source": [
    "from sklearn.linear_model import LogisticRegression"
   ]
  },
  {
   "cell_type": "code",
   "execution_count": 229,
   "id": "e8e9449b-fb5d-4218-a45e-a0f6b59ea39d",
   "metadata": {},
   "outputs": [],
   "source": [
    "import numpy"
   ]
  },
  {
   "cell_type": "code",
   "execution_count": 230,
   "id": "358c37ca-c110-4bd6-98aa-135b776221d6",
   "metadata": {},
   "outputs": [],
   "source": [
    "k, N = 5000, 500"
   ]
  },
  {
   "cell_type": "code",
   "execution_count": 231,
   "id": "f515a94f-559d-4947-8520-93c12d6c93ed",
   "metadata": {},
   "outputs": [],
   "source": [
    "X = numpy.random.rand(k*N).reshape(N, k)"
   ]
  },
  {
   "cell_type": "code",
   "execution_count": 232,
   "id": "a5d6bf58-7ff6-497f-9778-f09923bb230d",
   "metadata": {},
   "outputs": [],
   "source": [
    "y = numpy.random.choice([0, 1], N)"
   ]
  },
  {
   "cell_type": "code",
   "execution_count": 233,
   "id": "8e21339d-e9cf-46d3-8daa-98891994258a",
   "metadata": {},
   "outputs": [],
   "source": [
    "from sklearn.feature_selection import SelectKBest"
   ]
  },
  {
   "cell_type": "code",
   "execution_count": 234,
   "id": "0d73bc31-a615-4906-bc7e-e9b81d2e4525",
   "metadata": {},
   "outputs": [],
   "source": [
    "Xp = SelectKBest(k=10).fit_transform(X, y)"
   ]
  },
  {
   "cell_type": "code",
   "execution_count": 235,
   "id": "6563abf1-39d2-4f67-a374-61a7593bc71d",
   "metadata": {},
   "outputs": [],
   "source": [
    "import seaborn as sns"
   ]
  },
  {
   "cell_type": "code",
   "execution_count": 236,
   "id": "397832b6-5359-45f2-a2d9-b3a1f41d4cbb",
   "metadata": {},
   "outputs": [],
   "source": [
    "cv_scores = pd.DataFrame({\n",
    "    'full data': cross_val_score(LogisticRegression(max_iter=10_000), X, y, cv=20),\n",
    "    'selected features': cross_val_score(LogisticRegression(max_iter=10_000), Xp, y, cv=20)}\n",
    ")"
   ]
  },
  {
   "cell_type": "code",
   "execution_count": 237,
   "id": "08fb49eb-7343-43dd-ba74-cc33bf1caf6d",
   "metadata": {},
   "outputs": [
    {
     "data": {
      "text/plain": [
       "<seaborn.axisgrid.FacetGrid at 0x2a86b4a90>"
      ]
     },
     "execution_count": 237,
     "metadata": {},
     "output_type": "execute_result"
    },
    {
     "data": {
      "image/png": "[encoded data removed]",
      "text/plain": [
       "<Figure size 360x360 with 1 Axes>"
      ]
     },
     "metadata": {
      "needs_background": "light"
     },
     "output_type": "display_data"
    }
   ],
   "source": [
    "sns.catplot(data=cv_scores.stack().reset_index(name='accuracy'), x='level_1', y='accuracy')"
   ]
  },
  {
   "cell_type": "markdown",
   "id": "744eeb78-0649-490a-81bf-a04a3967c30a",
   "metadata": {},
   "source": [
    "## The right way"
   ]
  },
  {
   "cell_type": "code",
   "execution_count": 252,
   "id": "ed0432f3-d321-4e29-9a5b-d99da8cddfa2",
   "metadata": {},
   "outputs": [],
   "source": [
    "from sklearn.feature_selection import SelectKBest"
   ]
  },
  {
   "cell_type": "code",
   "execution_count": 256,
   "id": "1f26c769-13d0-4deb-ade5-6f3cd1d5c1b4",
   "metadata": {},
   "outputs": [],
   "source": [
    "def mk_knn_fs(k):\n",
    "    return Pipeline(steps=[\n",
    "        ('feature_transform', feat_trans),\n",
    "        ('feature_select', SelectKBest(k=10)),\n",
    "        ('classifier', KNeighborsClassifier(n_neighbors=k))\n",
    "    ])"
   ]
  },
  {
   "cell_type": "code",
   "execution_count": 257,
   "id": "e3104c53-d6fa-4608-8a49-9625f1fb854b",
   "metadata": {},
   "outputs": [
    {
     "data": {
      "text/html": [
       "<style>#sk-container-id-6 {color: black;background-color: white;}#sk-container-id-6 pre{padding: 0;}#sk-container-id-6 div.sk-toggleable {background-color: white;}#sk-container-id-6 label.sk-toggleable__label {cursor: pointer;display: block;width: 100%;margin-bottom: 0;padding: 0.3em;box-sizing: border-box;text-align: center;}#sk-container-id-6 label.sk-toggleable__label-arrow:before {content: \"▸\";float: left;margin-right: 0.25em;color: #696969;}#sk-container-id-6 label.sk-toggleable__label-arrow:hover:before {color: black;}#sk-container-id-6 div.sk-estimator:hover label.sk-toggleable__label-arrow:before {color: black;}#sk-container-id-6 div.sk-toggleable__content {max-height: 0;max-width: 0;overflow: hidden;text-align: left;background-color: #f0f8ff;}#sk-container-id-6 div.sk-toggleable__content pre {margin: 0.2em;color: black;border-radius: 0.25em;background-color: #f0f8ff;}#sk-container-id-6 input.sk-toggleable__control:checked~div.sk-toggleable__content {max-height: 200px;max-width: 100%;overflow: auto;}#sk-container-id-6 input.sk-toggleable__control:checked~label.sk-toggleable__label-arrow:before {content: \"▾\";}#sk-container-id-6 div.sk-estimator input.sk-toggleable__control:checked~label.sk-toggleable__label {background-color: #d4ebff;}#sk-container-id-6 div.sk-label input.sk-toggleable__control:checked~label.sk-toggleable__label {background-color: #d4ebff;}#sk-container-id-6 input.sk-hidden--visually {border: 0;clip: rect(1px 1px 1px 1px);clip: rect(1px, 1px, 1px, 1px);height: 1px;margin: -1px;overflow: hidden;padding: 0;position: absolute;width: 1px;}#sk-container-id-6 div.sk-estimator {font-family: monospace;background-color: #f0f8ff;border: 1px dotted black;border-radius: 0.25em;box-sizing: border-box;margin-bottom: 0.5em;}#sk-container-id-6 div.sk-estimator:hover {background-color: #d4ebff;}#sk-container-id-6 div.sk-parallel-item::after {content: \"\";width: 100%;border-bottom: 1px solid gray;flex-grow: 1;}#sk-container-id-6 div.sk-label:hover label.sk-toggleable__label {background-color: #d4ebff;}#sk-container-id-6 div.sk-serial::before {content: \"\";position: absolute;border-left: 1px solid gray;box-sizing: border-box;top: 0;bottom: 0;left: 50%;z-index: 0;}#sk-container-id-6 div.sk-serial {display: flex;flex-direction: column;align-items: center;background-color: white;padding-right: 0.2em;padding-left: 0.2em;position: relative;}#sk-container-id-6 div.sk-item {position: relative;z-index: 1;}#sk-container-id-6 div.sk-parallel {display: flex;align-items: stretch;justify-content: center;background-color: white;position: relative;}#sk-container-id-6 div.sk-item::before, #sk-container-id-6 div.sk-parallel-item::before {content: \"\";position: absolute;border-left: 1px solid gray;box-sizing: border-box;top: 0;bottom: 0;left: 50%;z-index: -1;}#sk-container-id-6 div.sk-parallel-item {display: flex;flex-direction: column;z-index: 1;position: relative;background-color: white;}#sk-container-id-6 div.sk-parallel-item:first-child::after {align-self: flex-end;width: 50%;}#sk-container-id-6 div.sk-parallel-item:last-child::after {align-self: flex-start;width: 50%;}#sk-container-id-6 div.sk-parallel-item:only-child::after {width: 0;}#sk-container-id-6 div.sk-dashed-wrapped {border: 1px dashed gray;margin: 0 0.4em 0.5em 0.4em;box-sizing: border-box;padding-bottom: 0.4em;background-color: white;}#sk-container-id-6 div.sk-label label {font-family: monospace;font-weight: bold;display: inline-block;line-height: 1.2em;}#sk-container-id-6 div.sk-label-container {text-align: center;}#sk-container-id-6 div.sk-container {/* jupyter's `normalize.less` sets `[hidden] { display: none; }` but bootstrap.min.css set `[hidden] { display: none !important; }` so we also need the `!important` here to be able to override the default hidden behavior on the sphinx rendered scikit-learn.org. See: https://github.com/scikit-learn/scikit-learn/issues/21755 */display: inline-block !important;position: relative;}#sk-container-id-6 div.sk-text-repr-fallback {display: none;}</style><div id=\"sk-container-id-6\" class=\"sk-top-container\"><div class=\"sk-text-repr-fallback\"><pre>Pipeline(steps=[(&#x27;feature_transform&#x27;,\n",
       "                 ColumnTransformer(transformers=[(&#x27;categorical&#x27;,\n",
       "                                                  Pipeline(steps=[(&#x27;onehot&#x27;,\n",
       "                                                                   OneHotEncoder(drop=&#x27;first&#x27;,\n",
       "                                                                                 handle_unknown=&#x27;infrequent_if_exist&#x27;,\n",
       "                                                                                 min_frequency=0.05))]),\n",
       "                                                  [&#x27;sex&#x27;, &#x27;education&#x27;, &#x27;race&#x27;]),\n",
       "                                                 (&#x27;continuous&#x27;,\n",
       "                                                  Pipeline(steps=[(&#x27;scaler&#x27;,\n",
       "                                                                   StandardScaler())]),\n",
       "                                                  [&#x27;age&#x27;, &#x27;education-num&#x27;,\n",
       "                                                   &#x27;hours-per-week&#x27;])])),\n",
       "                (&#x27;feature_select&#x27;, SelectKBest()),\n",
       "                (&#x27;classifier&#x27;, KNeighborsClassifier(n_neighbors=20))])</pre><b>In a Jupyter environment, please rerun this cell to show the HTML representation or trust the notebook. <br />On GitHub, the HTML representation is unable to render, please try loading this page with nbviewer.org.</b></div><div class=\"sk-container\" hidden><div class=\"sk-item sk-dashed-wrapped\"><div class=\"sk-label-container\"><div class=\"sk-label sk-toggleable\"><input class=\"sk-toggleable__control sk-hidden--visually\" id=\"sk-estimator-id-37\" type=\"checkbox\" ><label for=\"sk-estimator-id-37\" class=\"sk-toggleable__label sk-toggleable__label-arrow\">Pipeline</label><div class=\"sk-toggleable__content\"><pre>Pipeline(steps=[(&#x27;feature_transform&#x27;,\n",
       "                 ColumnTransformer(transformers=[(&#x27;categorical&#x27;,\n",
       "                                                  Pipeline(steps=[(&#x27;onehot&#x27;,\n",
       "                                                                   OneHotEncoder(drop=&#x27;first&#x27;,\n",
       "                                                                                 handle_unknown=&#x27;infrequent_if_exist&#x27;,\n",
       "                                                                                 min_frequency=0.05))]),\n",
       "                                                  [&#x27;sex&#x27;, &#x27;education&#x27;, &#x27;race&#x27;]),\n",
       "                                                 (&#x27;continuous&#x27;,\n",
       "                                                  Pipeline(steps=[(&#x27;scaler&#x27;,\n",
       "                                                                   StandardScaler())]),\n",
       "                                                  [&#x27;age&#x27;, &#x27;education-num&#x27;,\n",
       "                                                   &#x27;hours-per-week&#x27;])])),\n",
       "                (&#x27;feature_select&#x27;, SelectKBest()),\n",
       "                (&#x27;classifier&#x27;, KNeighborsClassifier(n_neighbors=20))])</pre></div></div></div><div class=\"sk-serial\"><div class=\"sk-item sk-dashed-wrapped\"><div class=\"sk-label-container\"><div class=\"sk-label sk-toggleable\"><input class=\"sk-toggleable__control sk-hidden--visually\" id=\"sk-estimator-id-38\" type=\"checkbox\" ><label for=\"sk-estimator-id-38\" class=\"sk-toggleable__label sk-toggleable__label-arrow\">feature_transform: ColumnTransformer</label><div class=\"sk-toggleable__content\"><pre>ColumnTransformer(transformers=[(&#x27;categorical&#x27;,\n",
       "                                 Pipeline(steps=[(&#x27;onehot&#x27;,\n",
       "                                                  OneHotEncoder(drop=&#x27;first&#x27;,\n",
       "                                                                handle_unknown=&#x27;infrequent_if_exist&#x27;,\n",
       "                                                                min_frequency=0.05))]),\n",
       "                                 [&#x27;sex&#x27;, &#x27;education&#x27;, &#x27;race&#x27;]),\n",
       "                                (&#x27;continuous&#x27;,\n",
       "                                 Pipeline(steps=[(&#x27;scaler&#x27;, StandardScaler())]),\n",
       "                                 [&#x27;age&#x27;, &#x27;education-num&#x27;, &#x27;hours-per-week&#x27;])])</pre></div></div></div><div class=\"sk-parallel\"><div class=\"sk-parallel-item\"><div class=\"sk-item\"><div class=\"sk-label-container\"><div class=\"sk-label sk-toggleable\"><input class=\"sk-toggleable__control sk-hidden--visually\" id=\"sk-estimator-id-39\" type=\"checkbox\" ><label for=\"sk-estimator-id-39\" class=\"sk-toggleable__label sk-toggleable__label-arrow\">categorical</label><div class=\"sk-toggleable__content\"><pre>[&#x27;sex&#x27;, &#x27;education&#x27;, &#x27;race&#x27;]</pre></div></div></div><div class=\"sk-serial\"><div class=\"sk-item\"><div class=\"sk-serial\"><div class=\"sk-item\"><div class=\"sk-estimator sk-toggleable\"><input class=\"sk-toggleable__control sk-hidden--visually\" id=\"sk-estimator-id-40\" type=\"checkbox\" ><label for=\"sk-estimator-id-40\" class=\"sk-toggleable__label sk-toggleable__label-arrow\">OneHotEncoder</label><div class=\"sk-toggleable__content\"><pre>OneHotEncoder(drop=&#x27;first&#x27;, handle_unknown=&#x27;infrequent_if_exist&#x27;,\n",
       "              min_frequency=0.05)</pre></div></div></div></div></div></div></div></div><div class=\"sk-parallel-item\"><div class=\"sk-item\"><div class=\"sk-label-container\"><div class=\"sk-label sk-toggleable\"><input class=\"sk-toggleable__control sk-hidden--visually\" id=\"sk-estimator-id-41\" type=\"checkbox\" ><label for=\"sk-estimator-id-41\" class=\"sk-toggleable__label sk-toggleable__label-arrow\">continuous</label><div class=\"sk-toggleable__content\"><pre>[&#x27;age&#x27;, &#x27;education-num&#x27;, &#x27;hours-per-week&#x27;]</pre></div></div></div><div class=\"sk-serial\"><div class=\"sk-item\"><div class=\"sk-serial\"><div class=\"sk-item\"><div class=\"sk-estimator sk-toggleable\"><input class=\"sk-toggleable__control sk-hidden--visually\" id=\"sk-estimator-id-42\" type=\"checkbox\" ><label for=\"sk-estimator-id-42\" class=\"sk-toggleable__label sk-toggleable__label-arrow\">StandardScaler</label><div class=\"sk-toggleable__content\"><pre>StandardScaler()</pre></div></div></div></div></div></div></div></div></div></div><div class=\"sk-item\"><div class=\"sk-estimator sk-toggleable\"><input class=\"sk-toggleable__control sk-hidden--visually\" id=\"sk-estimator-id-43\" type=\"checkbox\" ><label for=\"sk-estimator-id-43\" class=\"sk-toggleable__label sk-toggleable__label-arrow\">SelectKBest</label><div class=\"sk-toggleable__content\"><pre>SelectKBest()</pre></div></div></div><div class=\"sk-item\"><div class=\"sk-estimator sk-toggleable\"><input class=\"sk-toggleable__control sk-hidden--visually\" id=\"sk-estimator-id-44\" type=\"checkbox\" ><label for=\"sk-estimator-id-44\" class=\"sk-toggleable__label sk-toggleable__label-arrow\">KNeighborsClassifier</label><div class=\"sk-toggleable__content\"><pre>KNeighborsClassifier(n_neighbors=20)</pre></div></div></div></div></div></div></div>"
      ],
      "text/plain": [
       "Pipeline(steps=[('feature_transform',\n",
       "                 ColumnTransformer(transformers=[('categorical',\n",
       "                                                  Pipeline(steps=[('onehot',\n",
       "                                                                   OneHotEncoder(drop='first',\n",
       "                                                                                 handle_unknown='infrequent_if_exist',\n",
       "                                                                                 min_frequency=0.05))]),\n",
       "                                                  ['sex', 'education', 'race']),\n",
       "                                                 ('continuous',\n",
       "                                                  Pipeline(steps=[('scaler',\n",
       "                                                                   StandardScaler())]),\n",
       "                                                  ['age', 'education-num',\n",
       "                                                   'hours-per-week'])])),\n",
       "                ('feature_select', SelectKBest()),\n",
       "                ('classifier', KNeighborsClassifier(n_neighbors=20))])"
      ]
     },
     "execution_count": 257,
     "metadata": {},
     "output_type": "execute_result"
    }
   ],
   "source": [
    "mk_knn_fs(20)"
   ]
  },
  {
   "cell_type": "code",
   "execution_count": 261,
   "id": "e298e241-485d-46a1-89fa-8514577c322f",
   "metadata": {},
   "outputs": [
    {
     "data": {
      "text/plain": [
       "<AxesSubplot:>"
      ]
     },
     "execution_count": 261,
     "metadata": {},
     "output_type": "execute_result"
    },
    {
     "data": {
      "image/png": "[encoded data removed]",
      "text/plain": [
       "<Figure size 432x288 with 1 Axes>"
      ]
     },
     "metadata": {
      "needs_background": "light"
     },
     "output_type": "display_data"
    }
   ],
   "source": [
    "sns.boxplot(data=cross_val_score(mk_knn_fs(20), df[features], df[target], cv=20))"
   ]
  },
  {
   "cell_type": "markdown",
   "id": "d36a0f6e-ef9b-488f-ae51-3fff3270042c",
   "metadata": {},
   "source": [
    "## Reproducibility - When using shuffle split"
   ]
  },
  {
   "cell_type": "code",
   "execution_count": 238,
   "id": "8969f8d0-9640-4889-88ac-98767fa7e5f9",
   "metadata": {},
   "outputs": [],
   "source": [
    "from sklearn.model_selection import ShuffleSplit"
   ]
  },
  {
   "cell_type": "code",
   "execution_count": 243,
   "id": "08be3a4a-4727-4144-8d24-1627ddf4221f",
   "metadata": {},
   "outputs": [
    {
     "data": {
      "text/plain": [
       "array([0.79889469, 0.80288609, 0.80165797, 0.7881486 , 0.80227203,\n",
       "       0.79521032, 0.79889469, 0.79244704, 0.79551735, 0.80257906])"
      ]
     },
     "execution_count": 243,
     "metadata": {},
     "output_type": "execute_result"
    }
   ],
   "source": [
    "cross_val_score(mk_knn(10), df[features], df[target], cv=ShuffleSplit(random_state=42))"
   ]
  },
  {
   "cell_type": "markdown",
   "id": "5f01ae42-1642-46b2-926f-907b4803e6b5",
   "metadata": {},
   "source": [
    "## With scarse data: Leave-one-out"
   ]
  },
  {
   "cell_type": "code",
   "execution_count": 190,
   "id": "b1c362c1-7ebc-4a18-a76f-0c395a055cd4",
   "metadata": {},
   "outputs": [],
   "source": [
    "from sklearn.model_selection import LeaveOneOut"
   ]
  },
  {
   "cell_type": "code",
   "execution_count": 201,
   "id": "fee1e7e0-8cec-4dd0-adae-0dda0016b8fa",
   "metadata": {},
   "outputs": [],
   "source": [
    "df_red = df.sample(100)"
   ]
  },
  {
   "cell_type": "code",
   "execution_count": 202,
   "id": "83cfbb68-9bfc-4ca3-8512-a52ca28afea9",
   "metadata": {},
   "outputs": [
    {
     "name": "stderr",
     "output_type": "stream",
     "text": [
      "/Users/DIRH/.pyenv/versions/3.10.4/lib/python3.10/site-packages/sklearn/preprocessing/_encoders.py:188: UserWarning: Found unknown categories in columns [1] during transform. These unknown categories will be encoded as all zeros\n",
      "  warnings.warn(\n",
      "/Users/DIRH/.pyenv/versions/3.10.4/lib/python3.10/site-packages/sklearn/preprocessing/_encoders.py:188: UserWarning: Found unknown categories in columns [1, 2] during transform. These unknown categories will be encoded as all zeros\n",
      "  warnings.warn(\n",
      "/Users/DIRH/.pyenv/versions/3.10.4/lib/python3.10/site-packages/sklearn/preprocessing/_encoders.py:188: UserWarning: Found unknown categories in columns [1] during transform. These unknown categories will be encoded as all zeros\n",
      "  warnings.warn(\n"
     ]
    }
   ],
   "source": [
    "loo_cv = cross_val_score(mk_tree(3), df_red[features], df_red[target], cv=LeaveOneOut())"
   ]
  },
  {
   "cell_type": "code",
   "execution_count": 203,
   "id": "6bd45ebe-2da7-4dc4-9c72-f8519c8c3474",
   "metadata": {},
   "outputs": [
    {
     "data": {
      "text/plain": [
       "0.6"
      ]
     },
     "execution_count": 203,
     "metadata": {},
     "output_type": "execute_result"
    }
   ],
   "source": [
    "loo_cv.mean()"
   ]
  },
  {
   "cell_type": "code",
   "execution_count": 207,
   "id": "b03b339a-4cf5-4fe4-bb33-ab444fbff347",
   "metadata": {},
   "outputs": [
    {
     "data": {
      "text/plain": [
       "array([1., 1., 0., 0., 0., 0., 0., 1., 1., 0., 1., 0., 1., 1., 1., 1., 1.,\n",
       "       0., 1., 0., 1., 0., 1., 0., 1., 1., 1., 0., 0., 1., 1., 1., 0., 1.,\n",
       "       0., 1., 1., 0., 0., 0., 1., 0., 0., 0., 1., 1., 0., 1., 0., 1., 1.,\n",
       "       0., 1., 1., 1., 1., 0., 0., 1., 0., 1., 1., 1., 1., 1., 0., 1., 1.,\n",
       "       1., 1., 1., 1., 1., 0., 0., 0., 1., 1., 0., 1., 0., 0., 0., 1., 1.,\n",
       "       0., 1., 1., 0., 1., 1., 1., 1., 1., 0., 1., 0., 0., 1., 1.])"
      ]
     },
     "execution_count": 207,
     "metadata": {},
     "output_type": "execute_result"
    }
   ],
   "source": [
    "loo_cv"
   ]
  },
  {
   "cell_type": "code",
   "execution_count": 215,
   "id": "7cf80355-9b11-4ca3-8f63-cc95391fcca3",
   "metadata": {},
   "outputs": [],
   "source": [
    "import scipy\n",
    "import matplotlib.pyplot as plt"
   ]
  },
  {
   "cell_type": "code",
   "execution_count": 245,
   "id": "f058be23-953b-44a7-8082-1cc23973c511",
   "metadata": {},
   "outputs": [],
   "source": [
    "k, n = loo_cv.sum(), loo_cv.shape[0]"
   ]
  },
  {
   "cell_type": "code",
   "execution_count": 251,
   "id": "d3315e6a-85e7-4b65-8332-c3a4eb93aaa4",
   "metadata": {},
   "outputs": [
    {
     "data": {
      "text/plain": [
       "[<matplotlib.lines.Line2D at 0x2aac45cc0>]"
      ]
     },
     "execution_count": 251,
     "metadata": {},
     "output_type": "execute_result"
    },
    {
     "data": {
      "image/png": "[encoded data removed]",
      "text/plain": [
       "<Figure size 432x288 with 1 Axes>"
      ]
     },
     "metadata": {
      "needs_background": "light"
     },
     "output_type": "display_data"
    }
   ],
   "source": [
    "ps=numpy.linspace(0.4, 0.8, 100)\n",
    "plt.plot(ps, scipy.stats.binom.pmf(k=k, n=n, p=ps))"
   ]
  },
  {
   "cell_type": "code",
   "execution_count": 1,
   "id": "3c25fa1b-0681-48d6-bfeb-5f2689a0cfbe",
   "metadata": {},
   "outputs": [
    {
     "data": {
      "text/plain": [
       "age_cat\n",
       "25 - 45            0.459723\n",
       "Greater than 45    0.315990\n",
       "Less than 25       0.565075\n",
       "Name: two_year_recid, dtype: float64"
      ]
     },
     "execution_count": 1,
     "metadata": {},
     "output_type": "execute_result"
    }
   ],
   "source": [
    "import pandas\n",
    "import numpy\n",
    "from scipy.stats import binom\n",
    "import matplotlib.pyplot as plt\n",
    "\n",
    "\n",
    "url = ('https://github.com/dhesse/IN-STK5000-Autumn21'\n",
    "       '/raw/main/compas-scores-two-years.csv.gz')\n",
    "data = pandas.read_csv(url) # load the data\n",
    "data.groupby('age_cat')['two_year_recid'].mean() # point estimate"
   ]
  },
  {
   "cell_type": "code",
   "execution_count": 14,
   "id": "98c60d94-33c1-4fef-a593-44c75f531e43",
   "metadata": {},
   "outputs": [
    {
     "data": {
      "text/plain": [
       "<AxesSubplot:ylabel='Frequency'>"
      ]
     },
     "execution_count": 14,
     "metadata": {},
     "output_type": "execute_result"
    },
    {
     "data": {
      "image/png": "[encoded data removed]",
      "text/plain": [
       "<Figure size 432x288 with 1 Axes>"
      ]
     },
     "metadata": {
      "needs_background": "light"
     },
     "output_type": "display_data"
    }
   ],
   "source": [
    "bss = pandas.DataFrame([\n",
    "    data.sample(data.shape[0], replace=True).\n",
    "        groupby('age_cat')['two_year_recid'].mean()\n",
    "    for _ in range(10000)])\n",
    "bss.plot.hist(bins=30)"
   ]
  },
  {
   "cell_type": "code",
   "execution_count": 16,
   "id": "4d76277f-2b68-4da0-b9a4-ce2149ac7519",
   "metadata": {},
   "outputs": [
    {
     "data": {
      "text/plain": [
       "<matplotlib.legend.Legend at 0x1659d8580>"
      ]
     },
     "execution_count": 16,
     "metadata": {},
     "output_type": "execute_result"
    },
    {
     "data": {
      "image/png": "[encoded data removed]",
      "text/plain": [
       "<Figure size 432x288 with 1 Axes>"
      ]
     },
     "metadata": {
      "needs_background": "light"
     },
     "output_type": "display_data"
    }
   ],
   "source": [
    "params = pandas.DataFrame({\n",
    "    'N': data.groupby('age_cat').size(),\n",
    "    'k': data.groupby('age_cat')['two_year_recid'].sum(),\n",
    "})\n",
    "binomial = params.apply(\n",
    "    lambda x: binom.rvs(x['N'], # make a model and draw samples\n",
    "                        x['k']/x['N'],\n",
    "                        size=5000)/x['N'], axis=1, result_type='expand').T\n",
    "ax = binomial.plot.hist(bins=40, density=True, alpha=0.5)\n",
    "bss.plot.hist(bins=40, ax=ax, density=True, alpha=0.5)\n",
    "plt.legend(bbox_to_anchor=(1,1))"
   ]
  },
  {
   "cell_type": "code",
   "execution_count": 23,
   "id": "39ce7fe8-4ef3-4c33-9633-5ff9e0748ae0",
   "metadata": {},
   "outputs": [],
   "source": [
    "from sklearn.model_selection import train_test_split\n",
    "from sklearn.metrics import confusion_matrix, ConfusionMatrixDisplay\n",
    "from sklearn.tree import DecisionTreeClassifier, plot_tree"
   ]
  },
  {
   "cell_type": "code",
   "execution_count": 19,
   "id": "e82c2478-c752-4b3f-b400-d1fa2687c9fe",
   "metadata": {},
   "outputs": [],
   "source": [
    "Xtr, Xte, ytr, yte = train_test_split(data[['age_cat']], data['two_year_recid'], test_size=0.2)"
   ]
  },
  {
   "cell_type": "code",
   "execution_count": 21,
   "id": "615b816f-ef6e-4ef9-9096-7a9c2a5dafcd",
   "metadata": {},
   "outputs": [
    {
     "data": {
      "text/plain": [
       "age_cat\n",
       "25 - 45            0.463689\n",
       "Greater than 45    0.317422\n",
       "Less than 25       0.565822\n",
       "Name: two_year_recid, dtype: float64"
      ]
     },
     "execution_count": 21,
     "metadata": {},
     "output_type": "execute_result"
    }
   ],
   "source": [
    "ytr.groupby(Xtr['age_cat']).mean()"
   ]
  },
  {
   "cell_type": "code",
   "execution_count": 22,
   "id": "f28b3429-184e-41f4-8df6-4e23b86b057d",
   "metadata": {},
   "outputs": [],
   "source": [
    "pred = Xte['age_cat'] == 'Less than 25'"
   ]
  },
  {
   "cell_type": "code",
   "execution_count": 35,
   "id": "b4890818-6c4f-49f0-bc2a-6331665f4c87",
   "metadata": {},
   "outputs": [
    {
     "data": {
      "text/plain": [
       "<sklearn.metrics._plot.confusion_matrix.ConfusionMatrixDisplay at 0x173bae9b0>"
      ]
     },
     "execution_count": 35,
     "metadata": {},
     "output_type": "execute_result"
    },
    {
     "data": {
      "image/png": "[encoded data removed]",
      "text/plain": [
       "<Figure size 432x288 with 2 Axes>"
      ]
     },
     "metadata": {
      "needs_background": "light"
     },
     "output_type": "display_data"
    }
   ],
   "source": [
    "ConfusionMatrixDisplay(confusion_matrix(yte, pred)).plot()"
   ]
  },
  {
   "cell_type": "code",
   "execution_count": 37,
   "id": "4ece8fc5-af13-4f30-8dfb-af8a62ea342f",
   "metadata": {},
   "outputs": [
    {
     "data": {
      "text/plain": [
       "array([[675, 134],\n",
       "       [462, 172]])"
      ]
     },
     "execution_count": 37,
     "metadata": {},
     "output_type": "execute_result"
    }
   ],
   "source": [
    "confusion_matrix(yte, pred)"
   ]
  },
  {
   "cell_type": "code",
   "execution_count": 48,
   "id": "b38cdd90-8415-472c-97c2-757010ef82ba",
   "metadata": {},
   "outputs": [],
   "source": [
    "X = pandas.get_dummies(data[['age_cat', 'priors_count']])\n",
    "y = data['two_year_recid']"
   ]
  },
  {
   "cell_type": "code",
   "execution_count": 49,
   "id": "4de1abbe-d886-4e06-b72b-b53e6d7855a8",
   "metadata": {},
   "outputs": [],
   "source": [
    "import numpy"
   ]
  },
  {
   "cell_type": "code",
   "execution_count": 72,
   "id": "425119a8-5910-4e1b-a594-d2ffbfb33926",
   "metadata": {},
   "outputs": [],
   "source": [
    "cms = []\n",
    "for _ in range(1000):\n",
    "    idx = numpy.random.choice(len(y), len(y), True)\n",
    "    Xtr, Xte, ytr, yte = train_test_split(X.iloc[idx], y.iloc[idx], test_size=0.2)\n",
    "    model = DecisionTreeClassifier(max_depth=2).fit(Xtr, ytr)\n",
    "    cms.append(confusion_matrix(yte, model.predict(Xte), normalize='true'))"
   ]
  },
  {
   "cell_type": "code",
   "execution_count": 69,
   "id": "c0441338-04d7-43a6-be30-fd8323989153",
   "metadata": {},
   "outputs": [],
   "source": [
    "from itertools import product"
   ]
  },
  {
   "cell_type": "code",
   "execution_count": 70,
   "id": "ebaeef76-6116-4c5d-8247-7ee29dd5ce8e",
   "metadata": {},
   "outputs": [],
   "source": [
    "labels = [['tnr', 'fnr'], ['fpr', 'tpr']]"
   ]
  },
  {
   "cell_type": "code",
   "execution_count": 73,
   "id": "0c88b9e4-ec48-4474-9cdc-38fc83c16bdd",
   "metadata": {},
   "outputs": [
    {
     "data": {
      "image/png": "[encoded data removed]",
      "text/plain": [
       "<Figure size 432x288 with 1 Axes>"
      ]
     },
     "metadata": {
      "needs_background": "light"
     },
     "output_type": "display_data"
    },
    {
     "data": {
      "image/png": "[encoded data removed]",
      "text/plain": [
       "<Figure size 432x288 with 1 Axes>"
      ]
     },
     "metadata": {
      "needs_background": "light"
     },
     "output_type": "display_data"
    },
    {
     "data": {
      "image/png": "[encoded data removed]",
      "text/plain": [
       "<Figure size 432x288 with 1 Axes>"
      ]
     },
     "metadata": {
      "needs_background": "light"
     },
     "output_type": "display_data"
    },
    {
     "data": {
      "image/png": "[encoded data removed]",
      "text/plain": [
       "<Figure size 432x288 with 1 Axes>"
      ]
     },
     "metadata": {
      "needs_background": "light"
     },
     "output_type": "display_data"
    },
    {
     "data": {
      "text/plain": [
       "<Figure size 432x288 with 0 Axes>"
      ]
     },
     "metadata": {},
     "output_type": "display_data"
    }
   ],
   "source": [
    "for i, j in product([0,1], repeat=2):\n",
    "    plt.hist([c[i,j] for c in cms])\n",
    "    plt.title(labels[i][j])\n",
    "    plt.figure()"
   ]
  },
  {
   "cell_type": "code",
   "execution_count": 1,
   "id": "cd0c8ede-6f4f-413e-ba2d-c50e3ba8d9a8",
   "metadata": {},
   "outputs": [],
   "source": [
    "import pandas\n",
    "import numpy\n",
    "from scipy.stats import binom\n",
    "import matplotlib.pyplot as plt\n",
    "plt.rcParams['figure.dpi'] = 200"
   ]
  },
  {
   "cell_type": "code",
   "execution_count": 2,
   "id": "fece84d5-d0a6-488f-8d90-8f73ce2ccb68",
   "metadata": {},
   "outputs": [],
   "source": [
    "url = ('https://github.com/dhesse/IN-STK5000-Autumn21'\n",
    "       '/raw/main/compas-scores-two-years.csv.gz')\n",
    "data = pandas.read_csv(url)"
   ]
  },
  {
   "cell_type": "code",
   "execution_count": 1,
   "id": "681f6b21-f7b6-4008-b7a6-3ae1b983631d",
   "metadata": {},
   "outputs": [],
   "source": [
    "import pandas as pd"
   ]
  },
  {
   "cell_type": "code",
   "execution_count": 18,
   "id": "cd6619cc-e253-4c63-a1d5-ca2ec76417a5",
   "metadata": {},
   "outputs": [],
   "source": [
    "from sklearn.tree import DecisionTreeClassifier\n",
    "from sklearn.linear_model import LogisticRegression\n",
    "from sklearn.model_selection import cross_val_score"
   ]
  },
  {
   "cell_type": "code",
   "execution_count": 42,
   "id": "c9ce98a8-af43-4ef2-a85c-b4ef1bc29970",
   "metadata": {},
   "outputs": [
    {
     "data": {
      "text/plain": [
       "array([0.6950797 , 0.67290367, 0.63270963, 0.6950797 , 0.67822469])"
      ]
     },
     "execution_count": 42,
     "metadata": {},
     "output_type": "execute_result"
    }
   ],
   "source": [
    "features = ['age', 'juv_misd_count', 'priors_count']\n",
    "target = 'two_year_recid'\n",
    "X = data[features]\n",
    "y = data[target]\n",
    "cross_val_score(DecisionTreeClassifier(max_depth=5), X, y)"
   ]
  },
  {
   "cell_type": "code",
   "execution_count": 43,
   "id": "1eb72f53-1e25-4800-88dc-9e0717178a1f",
   "metadata": {},
   "outputs": [],
   "source": [
    "model = DecisionTreeClassifier(max_depth=5).fit(X, y)"
   ]
  },
  {
   "cell_type": "code",
   "execution_count": 44,
   "id": "2e0e3e7d-7cfa-40c4-81d2-782177f64266",
   "metadata": {},
   "outputs": [
    {
     "data": {
      "text/plain": [
       "0.716304347826087"
      ]
     },
     "execution_count": 44,
     "metadata": {},
     "output_type": "execute_result"
    }
   ],
   "source": [
    "model.predict_proba([[30, 3, 0]])[0][0]"
   ]
  },
  {
   "cell_type": "code",
   "execution_count": 40,
   "id": "57ee38fc-2605-448e-a41c-10a138d5b5ad",
   "metadata": {},
   "outputs": [],
   "source": [
    "models = []\n",
    "for _ in range(1000):\n",
    "    sample = data.sample(data.shape[0], replace=True)\n",
    "    models.append(DecisionTreeClassifier(max_depth=5).fit(sample[features], sample[target]))"
   ]
  },
  {
   "cell_type": "code",
   "execution_count": 41,
   "id": "434be226-58fc-4d7c-b4da-06c9b0481656",
   "metadata": {},
   "outputs": [
    {
     "data": {
      "text/plain": [
       "(array([ 15.,  38., 101., 259., 263., 167.,  87.,  38.,  10.,   4.,   2.,\n",
       "          0.,   0.,   0.,   0.,   3.,   3.,   0.,   0.,  10.]),\n",
       " array([0.65319426, 0.67053455, 0.68787484, 0.70521512, 0.72255541,\n",
       "        0.7398957 , 0.75723598, 0.77457627, 0.79191656, 0.80925684,\n",
       "        0.82659713, 0.84393742, 0.86127771, 0.87861799, 0.89595828,\n",
       "        0.91329857, 0.93063885, 0.94797914, 0.96531943, 0.98265971,\n",
       "        1.        ]),\n",
       " <BarContainer object of 20 artists>)"
      ]
     },
     "execution_count": 41,
     "metadata": {},
     "output_type": "execute_result"
    },
    {
     "data": {
      "image/png": "[encoded data removed]",
      "text/plain": [
       "<Figure size 1200x800 with 1 Axes>"
      ]
     },
     "metadata": {
      "needs_background": "light"
     },
     "output_type": "display_data"
    }
   ],
   "source": [
    "plt.hist([m.predict_proba([[30, 3, 0]])[0][0] for m in models], bins=20)"
   ]
  },
  {
   "cell_type": "markdown",
   "id": "1de898bb-3b44-40e3-85ef-6c82d435988f",
   "metadata": {},
   "source": [
    "## Model selection"
   ]
  },
  {
   "cell_type": "code",
   "execution_count": 56,
   "id": "137997ee-fa1d-4e14-bde6-f59e5d83e3c6",
   "metadata": {},
   "outputs": [],
   "source": [
    "# look for good value for k in kNN model\n",
    "\n",
    "def knn_score(k):\n",
    "    return sklearn.metrics.accuracy_score(\n",
    "        yte, mk_knn(k).fit(Xtr, ytr).predict(Xte)\n",
    "    )"
   ]
  },
  {
   "cell_type": "code",
   "execution_count": 57,
   "id": "e7bd0ded-86b1-4090-8c01-b4c261de093b",
   "metadata": {},
   "outputs": [],
   "source": [
    "ks = range(5, 31, 5)"
   ]
  },
  {
   "cell_type": "code",
   "execution_count": 58,
   "id": "dd0b8957-3edc-4478-9c1c-8134f264ab69",
   "metadata": {},
   "outputs": [],
   "source": [
    "knn_scores = [knn_score(k) for k in ks]"
   ]
  },
  {
   "cell_type": "code",
   "execution_count": 59,
   "id": "23adfe99-f232-49ca-9679-c7048d7e9049",
   "metadata": {},
   "outputs": [
    {
     "data": {
      "text/plain": [
       "<AxesSubplot:>"
      ]
     },
     "execution_count": 59,
     "metadata": {},
     "output_type": "execute_result"
    },
    {
     "data": {
      "image/png": "[encoded data removed]",
      "text/plain": [
       "<Figure size 432x288 with 1 Axes>"
      ]
     },
     "metadata": {
      "needs_background": "light"
     },
     "output_type": "display_data"
    }
   ],
   "source": [
    "pd.Series(knn_scores, index=ks).plot.line()"
   ]
  },
  {
   "cell_type": "markdown",
   "id": "9e30c414-791e-4d2e-8a9c-aa0f2413fb11",
   "metadata": {},
   "source": [
    "## Using cross validation"
   ]
  },
  {
   "cell_type": "code",
   "execution_count": 60,
   "id": "f0fc342b-4e57-4aa9-8cde-65dfc177fac2",
   "metadata": {},
   "outputs": [],
   "source": [
    "ds = range(1, 15)"
   ]
  },
  {
   "cell_type": "code",
   "execution_count": 61,
   "id": "d5f3d91d-7197-4298-9090-1dd0be29c051",
   "metadata": {},
   "outputs": [],
   "source": [
    "score_results = [cross_val_score(mk_tree(d), df[features], df[target], cv=5) for d in ds]"
   ]
  },
  {
   "cell_type": "code",
   "execution_count": 62,
   "id": "71dea564-4d37-4e9c-9fa5-720c2e02d0ea",
   "metadata": {},
   "outputs": [
    {
     "data": {
      "text/plain": [
       "[array([0.75909719, 0.75921376, 0.75921376, 0.75921376, 0.75921376]),\n",
       " array([0.78120682, 0.78393735, 0.7882371 , 0.79038698, 0.78224816]),\n",
       " array([0.79594657, 0.80159705, 0.80451474, 0.80712531, 0.80175061]),\n",
       " array([0.8003992 , 0.80144349, 0.80727887, 0.80712531, 0.80451474]),\n",
       " array([0.80132044, 0.80651106, 0.8088145 , 0.81280713, 0.80558968]),\n",
       " array([0.8011669 , 0.80574324, 0.80835381, 0.81019656, 0.80528256]),\n",
       " array([0.80515891, 0.80712531, 0.8088145 , 0.81464988, 0.80681818]),\n",
       " array([0.80070628, 0.80605037, 0.80927518, 0.81096437, 0.80420762]),\n",
       " array([0.79932443, 0.80236486, 0.80927518, 0.80973587, 0.80359337]),\n",
       " array([0.79809612, 0.79914005, 0.80589681, 0.80820025, 0.80159705]),\n",
       " array([0.7968678 , 0.79898649, 0.80374693, 0.80405405, 0.8022113 ]),\n",
       " array([0.79118686, 0.79683661, 0.79929361, 0.80175061, 0.79699017]),\n",
       " array([0.78627361, 0.79284398, 0.79376536, 0.79683661, 0.79361179]),\n",
       " array([0.78243513, 0.79054054, 0.79376536, 0.79391892, 0.79437961])]"
      ]
     },
     "execution_count": 62,
     "metadata": {},
     "output_type": "execute_result"
    }
   ],
   "source": [
    "score_results"
   ]
  },
  {
   "cell_type": "code",
   "execution_count": 70,
   "id": "c5c762dc-5ffc-4d77-b84a-c83d90980ca0",
   "metadata": {},
   "outputs": [],
   "source": [
    "sr = pd.DataFrame(score_results, index=ds).T"
   ]
  },
  {
   "cell_type": "code",
   "execution_count": 71,
   "id": "3c09cb87-a11e-4bd0-885f-98c5671d4d02",
   "metadata": {},
   "outputs": [
    {
     "data": {
      "text/html": [
       "<div>\n",
       "<style scoped>\n",
       "    .dataframe tbody tr th:only-of-type {\n",
       "        vertical-align: middle;\n",
       "    }\n",
       "\n",
       "    .dataframe tbody tr th {\n",
       "        vertical-align: top;\n",
       "    }\n",
       "\n",
       "    .dataframe thead th {\n",
       "        text-align: right;\n",
       "    }\n",
       "</style>\n",
       "<table border=\"1\" class=\"dataframe\">\n",
       "  <thead>\n",
       "    <tr style=\"text-align: right;\">\n",
       "      <th></th>\n",
       "      <th>1</th>\n",
       "      <th>2</th>\n",
       "      <th>3</th>\n",
       "      <th>4</th>\n",
       "      <th>5</th>\n",
       "      <th>6</th>\n",
       "      <th>7</th>\n",
       "      <th>8</th>\n",
       "      <th>9</th>\n",
       "      <th>10</th>\n",
       "      <th>11</th>\n",
       "      <th>12</th>\n",
       "      <th>13</th>\n",
       "      <th>14</th>\n",
       "    </tr>\n",
       "  </thead>\n",
       "  <tbody>\n",
       "    <tr>\n",
       "      <th>0</th>\n",
       "      <td>0.759097</td>\n",
       "      <td>0.781207</td>\n",
       "      <td>0.795947</td>\n",
       "      <td>0.800399</td>\n",
       "      <td>0.801320</td>\n",
       "      <td>0.801167</td>\n",
       "      <td>0.805159</td>\n",
       "      <td>0.800706</td>\n",
       "      <td>0.799324</td>\n",
       "      <td>0.798096</td>\n",
       "      <td>0.796868</td>\n",
       "      <td>0.791187</td>\n",
       "      <td>0.786274</td>\n",
       "      <td>0.782435</td>\n",
       "    </tr>\n",
       "    <tr>\n",
       "      <th>1</th>\n",
       "      <td>0.759214</td>\n",
       "      <td>0.783937</td>\n",
       "      <td>0.801597</td>\n",
       "      <td>0.801443</td>\n",
       "      <td>0.806511</td>\n",
       "      <td>0.805743</td>\n",
       "      <td>0.807125</td>\n",
       "      <td>0.806050</td>\n",
       "      <td>0.802365</td>\n",
       "      <td>0.799140</td>\n",
       "      <td>0.798986</td>\n",
       "      <td>0.796837</td>\n",
       "      <td>0.792844</td>\n",
       "      <td>0.790541</td>\n",
       "    </tr>\n",
       "    <tr>\n",
       "      <th>2</th>\n",
       "      <td>0.759214</td>\n",
       "      <td>0.788237</td>\n",
       "      <td>0.804515</td>\n",
       "      <td>0.807279</td>\n",
       "      <td>0.808814</td>\n",
       "      <td>0.808354</td>\n",
       "      <td>0.808814</td>\n",
       "      <td>0.809275</td>\n",
       "      <td>0.809275</td>\n",
       "      <td>0.805897</td>\n",
       "      <td>0.803747</td>\n",
       "      <td>0.799294</td>\n",
       "      <td>0.793765</td>\n",
       "      <td>0.793765</td>\n",
       "    </tr>\n",
       "    <tr>\n",
       "      <th>3</th>\n",
       "      <td>0.759214</td>\n",
       "      <td>0.790387</td>\n",
       "      <td>0.807125</td>\n",
       "      <td>0.807125</td>\n",
       "      <td>0.812807</td>\n",
       "      <td>0.810197</td>\n",
       "      <td>0.814650</td>\n",
       "      <td>0.810964</td>\n",
       "      <td>0.809736</td>\n",
       "      <td>0.808200</td>\n",
       "      <td>0.804054</td>\n",
       "      <td>0.801751</td>\n",
       "      <td>0.796837</td>\n",
       "      <td>0.793919</td>\n",
       "    </tr>\n",
       "    <tr>\n",
       "      <th>4</th>\n",
       "      <td>0.759214</td>\n",
       "      <td>0.782248</td>\n",
       "      <td>0.801751</td>\n",
       "      <td>0.804515</td>\n",
       "      <td>0.805590</td>\n",
       "      <td>0.805283</td>\n",
       "      <td>0.806818</td>\n",
       "      <td>0.804208</td>\n",
       "      <td>0.803593</td>\n",
       "      <td>0.801597</td>\n",
       "      <td>0.802211</td>\n",
       "      <td>0.796990</td>\n",
       "      <td>0.793612</td>\n",
       "      <td>0.794380</td>\n",
       "    </tr>\n",
       "  </tbody>\n",
       "</table>\n",
       "</div>"
      ],
      "text/plain": [
       "         1         2         3         4         5         6         7   \\\n",
       "0  0.759097  0.781207  0.795947  0.800399  0.801320  0.801167  0.805159   \n",
       "1  0.759214  0.783937  0.801597  0.801443  0.806511  0.805743  0.807125   \n",
       "2  0.759214  0.788237  0.804515  0.807279  0.808814  0.808354  0.808814   \n",
       "3  0.759214  0.790387  0.807125  0.807125  0.812807  0.810197  0.814650   \n",
       "4  0.759214  0.782248  0.801751  0.804515  0.805590  0.805283  0.806818   \n",
       "\n",
       "         8         9         10        11        12        13        14  \n",
       "0  0.800706  0.799324  0.798096  0.796868  0.791187  0.786274  0.782435  \n",
       "1  0.806050  0.802365  0.799140  0.798986  0.796837  0.792844  0.790541  \n",
       "2  0.809275  0.809275  0.805897  0.803747  0.799294  0.793765  0.793765  \n",
       "3  0.810964  0.809736  0.808200  0.804054  0.801751  0.796837  0.793919  \n",
       "4  0.804208  0.803593  0.801597  0.802211  0.796990  0.793612  0.794380  "
      ]
     },
     "execution_count": 71,
     "metadata": {},
     "output_type": "execute_result"
    }
   ],
   "source": [
    "sr"
   ]
  },
  {
   "cell_type": "code",
   "execution_count": 73,
   "id": "cd3c50f9-4be5-467c-99f5-a1c01a7a4e47",
   "metadata": {},
   "outputs": [
    {
     "data": {
      "text/plain": [
       "<AxesSubplot:>"
      ]
     },
     "execution_count": 73,
     "metadata": {},
     "output_type": "execute_result"
    },
    {
     "data": {
      "image/png": "[encoded data removed]",
      "text/plain": [
       "<Figure size 432x288 with 1 Axes>"
      ]
     },
     "metadata": {
      "needs_background": "light"
     },
     "output_type": "display_data"
    }
   ],
   "source": [
    "sr.mean().plot.line()"
   ]
  },
  {
   "cell_type": "code",
   "execution_count": 65,
   "id": "3025677d-e179-4e9f-8bff-33488cbc4ab5",
   "metadata": {},
   "outputs": [],
   "source": [
    "import matplotlib.pyplot as plt"
   ]
  },
  {
   "cell_type": "code",
   "execution_count": 75,
   "id": "11d7eb74-e974-4f0e-9557-82499695f08e",
   "metadata": {},
   "outputs": [
    {
     "data": {
      "text/plain": [
       "<matplotlib.collections.PolyCollection at 0x1484b98e0>"
      ]
     },
     "execution_count": 75,
     "metadata": {},
     "output_type": "execute_result"
    },
    {
     "data": {
      "image/png": "[encoded data removed]",
      "text/plain": [
       "<Figure size 432x288 with 1 Axes>"
      ]
     },
     "metadata": {
      "needs_background": "light"
     },
     "output_type": "display_data"
    }
   ],
   "source": [
    "sr.mean().plot.line()\n",
    "plt.fill_between(ds, sr.min(), sr.max(), alpha=0.5)"
   ]
  },
  {
   "cell_type": "markdown",
   "id": "ca4bdce4-af3f-47ff-bb70-03aea723d5fb",
   "metadata": {},
   "source": [
    "# Grid Search"
   ]
  },
  {
   "cell_type": "code",
   "execution_count": 76,
   "id": "6964fc71-d98c-4c11-af11-111c9ec0b1c7",
   "metadata": {},
   "outputs": [],
   "source": [
    "from sklearn.model_selection import GridSearchCV"
   ]
  },
  {
   "cell_type": "code",
   "execution_count": 77,
   "id": "f83e4b11-118a-4fb3-8d79-db13af75a771",
   "metadata": {},
   "outputs": [],
   "source": [
    "param_grid = {'classifier__max_depth': ds}\n",
    "grid_search = GridSearchCV(mk_tree(1), param_grid, cv=10)"
   ]
  },
  {
   "cell_type": "code",
   "execution_count": 78,
   "id": "6cb7f273-3e74-40e3-aabb-c92cd7b3dcf2",
   "metadata": {},
   "outputs": [],
   "source": [
    "fit_result = grid_search.fit(df[features], df[target])"
   ]
  },
  {
   "cell_type": "code",
   "execution_count": 80,
   "id": "89f14b65-8709-46c8-958d-20af5ff74f5e",
   "metadata": {},
   "outputs": [
    {
     "data": {
      "text/plain": [
       "{'memory': None,\n",
       " 'steps': [('feature_transform',\n",
       "   ColumnTransformer(transformers=[('categorical',\n",
       "                                    Pipeline(steps=[('onehot',\n",
       "                                                     OneHotEncoder(drop='first'))]),\n",
       "                                    ['sex', 'education', 'race']),\n",
       "                                   ('continuous',\n",
       "                                    Pipeline(steps=[('scaler', StandardScaler())]),\n",
       "                                    ['age', 'education-num', 'hours-per-week'])])),\n",
       "  ('classifier', DecisionTreeClassifier(max_depth=7))],\n",
       " 'verbose': False,\n",
       " 'feature_transform': ColumnTransformer(transformers=[('categorical',\n",
       "                                  Pipeline(steps=[('onehot',\n",
       "                                                   OneHotEncoder(drop='first'))]),\n",
       "                                  ['sex', 'education', 'race']),\n",
       "                                 ('continuous',\n",
       "                                  Pipeline(steps=[('scaler', StandardScaler())]),\n",
       "                                  ['age', 'education-num', 'hours-per-week'])]),\n",
       " 'classifier': DecisionTreeClassifier(max_depth=7),\n",
       " 'feature_transform__n_jobs': None,\n",
       " 'feature_transform__remainder': 'drop',\n",
       " 'feature_transform__sparse_threshold': 0.3,\n",
       " 'feature_transform__transformer_weights': None,\n",
       " 'feature_transform__transformers': [('categorical',\n",
       "   Pipeline(steps=[('onehot', OneHotEncoder(drop='first'))]),\n",
       "   ['sex', 'education', 'race']),\n",
       "  ('continuous',\n",
       "   Pipeline(steps=[('scaler', StandardScaler())]),\n",
       "   ['age', 'education-num', 'hours-per-week'])],\n",
       " 'feature_transform__verbose': False,\n",
       " 'feature_transform__categorical': Pipeline(steps=[('onehot', OneHotEncoder(drop='first'))]),\n",
       " 'feature_transform__continuous': Pipeline(steps=[('scaler', StandardScaler())]),\n",
       " 'feature_transform__categorical__memory': None,\n",
       " 'feature_transform__categorical__steps': [('onehot',\n",
       "   OneHotEncoder(drop='first'))],\n",
       " 'feature_transform__categorical__verbose': False,\n",
       " 'feature_transform__categorical__onehot': OneHotEncoder(drop='first'),\n",
       " 'feature_transform__categorical__onehot__categories': 'auto',\n",
       " 'feature_transform__categorical__onehot__drop': 'first',\n",
       " 'feature_transform__categorical__onehot__dtype': numpy.float64,\n",
       " 'feature_transform__categorical__onehot__handle_unknown': 'error',\n",
       " 'feature_transform__categorical__onehot__sparse': True,\n",
       " 'feature_transform__continuous__memory': None,\n",
       " 'feature_transform__continuous__steps': [('scaler', StandardScaler())],\n",
       " 'feature_transform__continuous__verbose': False,\n",
       " 'feature_transform__continuous__scaler': StandardScaler(),\n",
       " 'feature_transform__continuous__scaler__copy': True,\n",
       " 'feature_transform__continuous__scaler__with_mean': True,\n",
       " 'feature_transform__continuous__scaler__with_std': True,\n",
       " 'classifier__ccp_alpha': 0.0,\n",
       " 'classifier__class_weight': None,\n",
       " 'classifier__criterion': 'gini',\n",
       " 'classifier__max_depth': 7,\n",
       " 'classifier__max_features': None,\n",
       " 'classifier__max_leaf_nodes': None,\n",
       " 'classifier__min_impurity_decrease': 0.0,\n",
       " 'classifier__min_impurity_split': None,\n",
       " 'classifier__min_samples_leaf': 1,\n",
       " 'classifier__min_samples_split': 2,\n",
       " 'classifier__min_weight_fraction_leaf': 0.0,\n",
       " 'classifier__random_state': None,\n",
       " 'classifier__splitter': 'best'}"
      ]
     },
     "execution_count": 80,
     "metadata": {},
     "output_type": "execute_result"
    }
   ],
   "source": [
    "fit_result.best_estimator_.get_params()"
   ]
  }
 ],
 "metadata": {
  "kernelspec": {
   "display_name": "Python 3 (ipykernel)",
   "language": "python",
   "name": "python3"
  },
  "language_info": {
   "codemirror_mode": {
    "name": "ipython",
    "version": 3
   },
   "file_extension": ".py",
   "mimetype": "text/x-python",
   "name": "python",
   "nbconvert_exporter": "python",
   "pygments_lexer": "ipython3",
   "version": "3.10.4"
  }
 },
 "nbformat": 4,
 "nbformat_minor": 5
}
