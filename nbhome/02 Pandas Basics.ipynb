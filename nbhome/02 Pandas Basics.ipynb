{
 "cells": [
  {
   "cell_type": "code",
   "execution_count": 1,
   "id": "56a12f59-7c62-47a6-a6c1-fba10cba4053",
   "metadata": {},
   "outputs": [],
   "source": [
    "import pandas as pd\n",
    "import numpy as np"
   ]
  },
  {
   "cell_type": "markdown",
   "id": "9e94b8b1-5741-48a3-8422-32c92b4654f7",
   "metadata": {},
   "source": [
    "# Basic Ingredients - Series"
   ]
  },
  {
   "cell_type": "code",
   "execution_count": 2,
   "id": "5963bbd2-777f-46c1-aa53-669112c69af7",
   "metadata": {},
   "outputs": [
    {
     "data": {
      "text/plain": [
       "a    0.812985\n",
       "b    0.123709\n",
       "c    0.726468\n",
       "d    0.303169\n",
       "e    0.843475\n",
       "dtype: float64"
      ]
     },
     "execution_count": 2,
     "metadata": {},
     "output_type": "execute_result"
    }
   ],
   "source": [
    "pd.Series(np.random.rand(5), index=['a', 'b', 'c', 'd', 'e'])"
   ]
  },
  {
   "cell_type": "code",
   "execution_count": 3,
   "id": "7c87f8bd-fb1a-4319-bb8d-a3223a1c25c9",
   "metadata": {},
   "outputs": [
    {
     "data": {
      "text/plain": [
       "0    0.856304\n",
       "1    0.734639\n",
       "2    0.402970\n",
       "3    0.031917\n",
       "4    0.312699\n",
       "dtype: float64"
      ]
     },
     "execution_count": 3,
     "metadata": {},
     "output_type": "execute_result"
    }
   ],
   "source": [
    "pd.Series(np.random.rand(5))"
   ]
  },
  {
   "cell_type": "code",
   "execution_count": 4,
   "id": "6d0e3806-1a69-491d-80df-e325f452e460",
   "metadata": {},
   "outputs": [
    {
     "data": {
      "text/plain": [
       "a    1\n",
       "b    2\n",
       "c    3\n",
       "dtype: int64"
      ]
     },
     "execution_count": 4,
     "metadata": {},
     "output_type": "execute_result"
    }
   ],
   "source": [
    "pd.Series({'a': 1, 'b': 2, 'c': 3})"
   ]
  },
  {
   "cell_type": "code",
   "execution_count": 5,
   "id": "a653b7a3-baf0-4b5f-b3d0-20898b3462cb",
   "metadata": {},
   "outputs": [
    {
     "data": {
      "text/plain": [
       "0    42\n",
       "1    42\n",
       "2    42\n",
       "3    42\n",
       "4    42\n",
       "dtype: int64"
      ]
     },
     "execution_count": 5,
     "metadata": {},
     "output_type": "execute_result"
    }
   ],
   "source": [
    "pd.Series(42, index=range(5))"
   ]
  },
  {
   "cell_type": "markdown",
   "id": "32030dad-4222-48e6-8c64-5698842d0be8",
   "metadata": {},
   "source": [
    "## Accessing data"
   ]
  },
  {
   "cell_type": "code",
   "execution_count": 68,
   "id": "295387b0-91fe-4246-879f-3ed3ec83da60",
   "metadata": {},
   "outputs": [],
   "source": [
    "s = pd.Series(np.random.rand(5), index=['a', 'b', 'c', 'd', 'e'])"
   ]
  },
  {
   "cell_type": "code",
   "execution_count": 7,
   "id": "c51f0095-0a55-493c-ae89-c54c5d540d08",
   "metadata": {},
   "outputs": [
    {
     "data": {
      "text/plain": [
       "a    0.627256\n",
       "b    0.158943\n",
       "c    0.296837\n",
       "d    0.048814\n",
       "e    0.529809\n",
       "dtype: float64"
      ]
     },
     "execution_count": 7,
     "metadata": {},
     "output_type": "execute_result"
    }
   ],
   "source": [
    "s"
   ]
  },
  {
   "cell_type": "code",
   "execution_count": 8,
   "id": "f50cc742-7f43-4644-983f-eda5bc932a48",
   "metadata": {},
   "outputs": [
    {
     "data": {
      "text/plain": [
       "0.296837365179515"
      ]
     },
     "execution_count": 8,
     "metadata": {},
     "output_type": "execute_result"
    }
   ],
   "source": [
    "s[2]"
   ]
  },
  {
   "cell_type": "code",
   "execution_count": 9,
   "id": "2d5eb42e-c4d7-4add-9c71-d1ae8d868ace",
   "metadata": {},
   "outputs": [
    {
     "data": {
      "text/plain": [
       "0.296837365179515"
      ]
     },
     "execution_count": 9,
     "metadata": {},
     "output_type": "execute_result"
    }
   ],
   "source": [
    "s['c']"
   ]
  },
  {
   "cell_type": "code",
   "execution_count": 10,
   "id": "db08790f-8578-401f-99a2-52058b0aa1f8",
   "metadata": {},
   "outputs": [
    {
     "data": {
      "text/plain": [
       "True"
      ]
     },
     "execution_count": 10,
     "metadata": {},
     "output_type": "execute_result"
    }
   ],
   "source": [
    "'b' in s"
   ]
  },
  {
   "cell_type": "code",
   "execution_count": 11,
   "id": "6b567be2-2d99-4e66-a3bf-05cb33088eb9",
   "metadata": {},
   "outputs": [
    {
     "data": {
      "text/plain": [
       "False"
      ]
     },
     "execution_count": 11,
     "metadata": {},
     "output_type": "execute_result"
    }
   ],
   "source": [
    "'z' in s"
   ]
  },
  {
   "cell_type": "code",
   "execution_count": 12,
   "id": "fcbd9fab-acd5-4768-bea0-0cc43582000c",
   "metadata": {},
   "outputs": [
    {
     "data": {
      "text/plain": [
       "0.296837365179515"
      ]
     },
     "execution_count": 12,
     "metadata": {},
     "output_type": "execute_result"
    }
   ],
   "source": [
    "s.get('c', float('nan'))"
   ]
  },
  {
   "cell_type": "code",
   "execution_count": 13,
   "id": "15332c8b-ca0f-475e-86e2-bd99b8d1f372",
   "metadata": {},
   "outputs": [
    {
     "data": {
      "text/plain": [
       "nan"
      ]
     },
     "execution_count": 13,
     "metadata": {},
     "output_type": "execute_result"
    }
   ],
   "source": [
    "s.get('z', float('nan'))"
   ]
  },
  {
   "cell_type": "code",
   "execution_count": 14,
   "id": "3c20beb4-7f16-427b-9088-89707f00d7c2",
   "metadata": {},
   "outputs": [
    {
     "data": {
      "text/plain": [
       "b    0.158943\n",
       "c    0.296837\n",
       "d    0.048814\n",
       "e    0.529809\n",
       "dtype: float64"
      ]
     },
     "execution_count": 14,
     "metadata": {},
     "output_type": "execute_result"
    }
   ],
   "source": [
    "s[1:]"
   ]
  },
  {
   "cell_type": "code",
   "execution_count": 15,
   "id": "0664418c-d1ba-4e29-84bb-07c970b142ab",
   "metadata": {},
   "outputs": [
    {
     "data": {
      "text/plain": [
       "c    0.296837\n",
       "d    0.048814\n",
       "dtype: float64"
      ]
     },
     "execution_count": 15,
     "metadata": {},
     "output_type": "execute_result"
    }
   ],
   "source": [
    "s[2:4]"
   ]
  },
  {
   "cell_type": "code",
   "execution_count": 16,
   "id": "a54742ff-af23-40e1-9c2f-34da1b5c218a",
   "metadata": {},
   "outputs": [
    {
     "data": {
      "text/plain": [
       "a    0.627256\n",
       "b    0.158943\n",
       "c    0.296837\n",
       "dtype: float64"
      ]
     },
     "execution_count": 16,
     "metadata": {},
     "output_type": "execute_result"
    }
   ],
   "source": [
    "s[:-2]"
   ]
  },
  {
   "cell_type": "code",
   "execution_count": 17,
   "id": "b2b33f9f-12dc-4bcc-abcb-9c7ae4edf30d",
   "metadata": {},
   "outputs": [
    {
     "data": {
      "text/plain": [
       "a    0.627256\n",
       "b    0.158943\n",
       "c    0.296837\n",
       "dtype: float64"
      ]
     },
     "execution_count": 17,
     "metadata": {},
     "output_type": "execute_result"
    }
   ],
   "source": [
    "s['a':'c'] # careful"
   ]
  },
  {
   "cell_type": "code",
   "execution_count": 18,
   "id": "ec166dc3-5135-45d9-9735-f9b3263415bf",
   "metadata": {},
   "outputs": [
    {
     "data": {
      "text/plain": [
       "<PandasArray>\n",
       "[   0.627256180312388,  0.15894266539931812,    0.296837365179515,\n",
       " 0.048814411663918755,   0.5298094838214884]\n",
       "Length: 5, dtype: float64"
      ]
     },
     "execution_count": 18,
     "metadata": {},
     "output_type": "execute_result"
    }
   ],
   "source": [
    "s.array"
   ]
  },
  {
   "cell_type": "markdown",
   "id": "6df600b5-a733-4774-8c94-2f3f9f174ba7",
   "metadata": {},
   "source": [
    "## Arithmetic"
   ]
  },
  {
   "cell_type": "code",
   "execution_count": 19,
   "id": "ce1879ad-2932-4a24-8c81-9b1764647142",
   "metadata": {},
   "outputs": [
    {
     "data": {
      "text/plain": [
       "a    1.254512\n",
       "b    0.317885\n",
       "c    0.593675\n",
       "d    0.097629\n",
       "e    1.059619\n",
       "dtype: float64"
      ]
     },
     "execution_count": 19,
     "metadata": {},
     "output_type": "execute_result"
    }
   ],
   "source": [
    "s + s"
   ]
  },
  {
   "cell_type": "code",
   "execution_count": 20,
   "id": "30c9432d-8f8a-4585-8eef-f8a54c0a5983",
   "metadata": {},
   "outputs": [
    {
     "data": {
      "text/plain": [
       "a    1.254512\n",
       "b    0.317885\n",
       "c    0.593675\n",
       "d    0.097629\n",
       "e    1.059619\n",
       "dtype: float64"
      ]
     },
     "execution_count": 20,
     "metadata": {},
     "output_type": "execute_result"
    }
   ],
   "source": [
    "s * 2"
   ]
  },
  {
   "cell_type": "code",
   "execution_count": 21,
   "id": "36ba31a4-148c-4a51-afc8-973ac41c4821",
   "metadata": {},
   "outputs": [
    {
     "data": {
      "text/plain": [
       "a    0.393450\n",
       "b    0.025263\n",
       "c    0.088112\n",
       "d    0.002383\n",
       "e    0.280698\n",
       "dtype: float64"
      ]
     },
     "execution_count": 21,
     "metadata": {},
     "output_type": "execute_result"
    }
   ],
   "source": [
    "s ** 2"
   ]
  },
  {
   "cell_type": "code",
   "execution_count": 22,
   "id": "bdfe4a85-196d-496c-8b28-de9292d26f1c",
   "metadata": {},
   "outputs": [
    {
     "data": {
      "text/plain": [
       "a    0.586925\n",
       "b    0.158274\n",
       "c    0.292497\n",
       "d    0.048795\n",
       "e    0.505369\n",
       "dtype: float64"
      ]
     },
     "execution_count": 22,
     "metadata": {},
     "output_type": "execute_result"
    }
   ],
   "source": [
    "np.sin(s)"
   ]
  },
  {
   "cell_type": "code",
   "execution_count": 23,
   "id": "83c8ac05-5ddb-4d28-b2dc-fb95be939428",
   "metadata": {},
   "outputs": [
    {
     "data": {
      "text/plain": [
       "a    1.627256\n",
       "b    1.158943\n",
       "c    1.296837\n",
       "d    1.048814\n",
       "e    1.529809\n",
       "dtype: float64"
      ]
     },
     "execution_count": 23,
     "metadata": {},
     "output_type": "execute_result"
    }
   ],
   "source": [
    "s.apply(lambda x: x + 1)"
   ]
  },
  {
   "cell_type": "code",
   "execution_count": 24,
   "id": "224baaf7-7191-430c-8348-fa541c92c7c5",
   "metadata": {},
   "outputs": [
    {
     "data": {
      "text/plain": [
       "a    1.627256\n",
       "b    1.158943\n",
       "c    1.296837\n",
       "d    1.048814\n",
       "e    1.529809\n",
       "dtype: float64"
      ]
     },
     "execution_count": 24,
     "metadata": {},
     "output_type": "execute_result"
    }
   ],
   "source": [
    "s + 1"
   ]
  },
  {
   "cell_type": "code",
   "execution_count": 25,
   "id": "234f415a-c84b-441a-a26e-9b2788a32875",
   "metadata": {},
   "outputs": [
    {
     "data": {
      "text/plain": [
       "a         NaN\n",
       "b    0.317885\n",
       "c    0.593675\n",
       "d    0.097629\n",
       "e    1.059619\n",
       "dtype: float64"
      ]
     },
     "execution_count": 25,
     "metadata": {},
     "output_type": "execute_result"
    }
   ],
   "source": [
    "s + s[1:]"
   ]
  },
  {
   "cell_type": "code",
   "execution_count": 26,
   "id": "a503a8dc-a32a-4765-8c0d-d90a49220fa1",
   "metadata": {},
   "outputs": [
    {
     "data": {
      "text/plain": [
       "a         NaN\n",
       "b    1.374219\n",
       "c    1.810630\n",
       "d    1.102553\n",
       "e    2.885271\n",
       "dtype: float64"
      ]
     },
     "execution_count": 26,
     "metadata": {},
     "output_type": "execute_result"
    }
   ],
   "source": [
    "np.exp(s + s[1:])"
   ]
  },
  {
   "cell_type": "markdown",
   "id": "f8c50517-5f78-412d-8374-4c0e8ee06dd3",
   "metadata": {},
   "source": [
    "## Plotting"
   ]
  },
  {
   "cell_type": "code",
   "execution_count": 70,
   "id": "dbf2a8a6-be6b-4a70-93fd-3eb0ad736dad",
   "metadata": {},
   "outputs": [
    {
     "data": {
      "text/plain": [
       "<AxesSubplot:>"
      ]
     },
     "execution_count": 70,
     "metadata": {},
     "output_type": "execute_result"
    },
    {
     "data": {
      "image/png": "[encoded data removed]",
      "text/plain": [
       "<Figure size 432x288 with 1 Axes>"
      ]
     },
     "metadata": {
      "needs_background": "light"
     },
     "output_type": "display_data"
    }
   ],
   "source": [
    "s.plot.line()"
   ]
  },
  {
   "cell_type": "code",
   "execution_count": 69,
   "id": "bc719a86-0f75-4abf-8038-2efa81d0e5b2",
   "metadata": {},
   "outputs": [
    {
     "data": {
      "text/plain": [
       "<AxesSubplot:>"
      ]
     },
     "execution_count": 69,
     "metadata": {},
     "output_type": "execute_result"
    },
    {
     "data": {
      "image/png": "[encoded data removed]",
      "text/plain": [
       "<Figure size 432x288 with 1 Axes>"
      ]
     },
     "metadata": {
      "needs_background": "light"
     },
     "output_type": "display_data"
    }
   ],
   "source": [
    "s.plot.bar()"
   ]
  },
  {
   "cell_type": "code",
   "execution_count": 65,
   "id": "7c89799f-f60b-4bb6-83f8-0e40761f2d37",
   "metadata": {},
   "outputs": [],
   "source": [
    "import matplotlib.pyplot as plt"
   ]
  },
  {
   "cell_type": "code",
   "execution_count": 72,
   "id": "c6ca7861-e16b-4f0f-8744-c18a13783c55",
   "metadata": {},
   "outputs": [
    {
     "data": {
      "image/png": "[encoded data removed]",
      "text/plain": [
       "<Figure size 432x288 with 1 Axes>"
      ]
     },
     "metadata": {},
     "output_type": "display_data"
    }
   ],
   "source": [
    "with plt.style.context('fivethirtyeight'):\n",
    "    s.plot.bar()"
   ]
  },
  {
   "cell_type": "code",
   "execution_count": 78,
   "id": "380755c0-3f4f-4019-96ae-b9c5d908ba05",
   "metadata": {},
   "outputs": [
    {
     "data": {
      "image/png": "[encoded data removed]",
      "text/plain": [
       "<Figure size 864x576 with 1 Axes>"
      ]
     },
     "metadata": {
      "needs_background": "light"
     },
     "output_type": "display_data"
    }
   ],
   "source": [
    "with plt.rc_context({'figure.figsize': (12, 8)}):\n",
    "    s.plot.bar()"
   ]
  },
  {
   "cell_type": "markdown",
   "id": "fbce5098-eb71-4d63-aa7d-b883cd53b229",
   "metadata": {},
   "source": [
    "## Time Series"
   ]
  },
  {
   "cell_type": "code",
   "execution_count": 40,
   "id": "8b581ef1-8de3-4a99-831f-fe1c686c4cb6",
   "metadata": {},
   "outputs": [],
   "source": [
    "ts = pd.Series(10*np.linspace(0, 1, 100) + np.random.normal(0, 1, size=100),\n",
    "              index=pd.date_range('2022-01-01', '2022-05-01', 100))"
   ]
  },
  {
   "cell_type": "code",
   "execution_count": 41,
   "id": "c0681a85-d87e-4faa-9553-4f0dc652374d",
   "metadata": {},
   "outputs": [
    {
     "data": {
      "text/plain": [
       "<AxesSubplot:>"
      ]
     },
     "execution_count": 41,
     "metadata": {},
     "output_type": "execute_result"
    },
    {
     "data": {
      "image/png": "[encoded data removed]",
      "text/plain": [
       "<Figure size 432x288 with 1 Axes>"
      ]
     },
     "metadata": {
      "needs_background": "light"
     },
     "output_type": "display_data"
    }
   ],
   "source": [
    "ts.plot.line()"
   ]
  },
  {
   "cell_type": "code",
   "execution_count": 49,
   "id": "4b02433f-084e-406d-ad38-54210280c8bd",
   "metadata": {},
   "outputs": [
    {
     "data": {
      "text/plain": [
       "<AxesSubplot:>"
      ]
     },
     "execution_count": 49,
     "metadata": {},
     "output_type": "execute_result"
    },
    {
     "data": {
      "image/png": "[encoded data removed]",
      "text/plain": [
       "<Figure size 432x288 with 1 Axes>"
      ]
     },
     "metadata": {
      "needs_background": "light"
     },
     "output_type": "display_data"
    }
   ],
   "source": [
    "ts.resample('10D').mean().plot.line()"
   ]
  },
  {
   "cell_type": "code",
   "execution_count": 50,
   "id": "4f83a0f7-adfc-4f4e-a747-4e44e32d976c",
   "metadata": {},
   "outputs": [
    {
     "data": {
      "text/plain": [
       "<AxesSubplot:>"
      ]
     },
     "execution_count": 50,
     "metadata": {},
     "output_type": "execute_result"
    },
    {
     "data": {
      "image/png": "[encoded data removed]",
      "text/plain": [
       "<Figure size 432x288 with 1 Axes>"
      ]
     },
     "metadata": {
      "needs_background": "light"
     },
     "output_type": "display_data"
    }
   ],
   "source": [
    "ts.rolling('5D').mean().plot.line()"
   ]
  },
  {
   "cell_type": "markdown",
   "id": "d0a504ae-b4f7-4d12-a0ca-807e0a1b2ed8",
   "metadata": {},
   "source": [
    "# Data Frames"
   ]
  },
  {
   "cell_type": "code",
   "execution_count": 51,
   "id": "0d232e9d-8793-4493-b830-f03aad5c6a34",
   "metadata": {},
   "outputs": [],
   "source": [
    "noble_gases = pd.DataFrame(\n",
    "    {'Atomic Number': [2, 10, 18, 32],\n",
    "     'Atomic Radius': [31, 38, 71, 88]},\n",
    "    index=['He', 'Ne', 'Ar', 'Kr']\n",
    ")"
   ]
  },
  {
   "cell_type": "code",
   "execution_count": 52,
   "id": "2a160d2a-6dac-4966-9403-c0a141ca04f7",
   "metadata": {},
   "outputs": [
    {
     "data": {
      "text/html": [
       "<div>\n",
       "<style scoped>\n",
       "    .dataframe tbody tr th:only-of-type {\n",
       "        vertical-align: middle;\n",
       "    }\n",
       "\n",
       "    .dataframe tbody tr th {\n",
       "        vertical-align: top;\n",
       "    }\n",
       "\n",
       "    .dataframe thead th {\n",
       "        text-align: right;\n",
       "    }\n",
       "</style>\n",
       "<table border=\"1\" class=\"dataframe\">\n",
       "  <thead>\n",
       "    <tr style=\"text-align: right;\">\n",
       "      <th></th>\n",
       "      <th>Atomic Number</th>\n",
       "      <th>Atomic Radius</th>\n",
       "    </tr>\n",
       "  </thead>\n",
       "  <tbody>\n",
       "    <tr>\n",
       "      <th>He</th>\n",
       "      <td>2</td>\n",
       "      <td>31</td>\n",
       "    </tr>\n",
       "    <tr>\n",
       "      <th>Ne</th>\n",
       "      <td>10</td>\n",
       "      <td>38</td>\n",
       "    </tr>\n",
       "    <tr>\n",
       "      <th>Ar</th>\n",
       "      <td>18</td>\n",
       "      <td>71</td>\n",
       "    </tr>\n",
       "    <tr>\n",
       "      <th>Kr</th>\n",
       "      <td>32</td>\n",
       "      <td>88</td>\n",
       "    </tr>\n",
       "  </tbody>\n",
       "</table>\n",
       "</div>"
      ],
      "text/plain": [
       "    Atomic Number  Atomic Radius\n",
       "He              2             31\n",
       "Ne             10             38\n",
       "Ar             18             71\n",
       "Kr             32             88"
      ]
     },
     "execution_count": 52,
     "metadata": {},
     "output_type": "execute_result"
    }
   ],
   "source": [
    "noble_gases"
   ]
  },
  {
   "cell_type": "code",
   "execution_count": 53,
   "id": "3c9ddd2d-e5c8-4dba-bc79-b5fa8479bf6c",
   "metadata": {},
   "outputs": [
    {
     "data": {
      "text/plain": [
       "He     2\n",
       "Ne    10\n",
       "Ar    18\n",
       "Kr    32\n",
       "Name: Atomic Number, dtype: int64"
      ]
     },
     "execution_count": 53,
     "metadata": {},
     "output_type": "execute_result"
    }
   ],
   "source": [
    "noble_gases['Atomic Number']"
   ]
  },
  {
   "cell_type": "code",
   "execution_count": 54,
   "id": "588aba55-624b-4c8d-938b-2fd07b297ec1",
   "metadata": {},
   "outputs": [
    {
     "data": {
      "text/plain": [
       "Index(['He', 'Ne', 'Ar', 'Kr'], dtype='object')"
      ]
     },
     "execution_count": 54,
     "metadata": {},
     "output_type": "execute_result"
    }
   ],
   "source": [
    "noble_gases['Atomic Number'].index"
   ]
  },
  {
   "cell_type": "code",
   "execution_count": 55,
   "id": "6b4cbbbd-6a1b-4547-8e85-6b0eadb02af8",
   "metadata": {},
   "outputs": [
    {
     "data": {
      "text/plain": [
       "Index(['He', 'Ne', 'Ar', 'Kr'], dtype='object')"
      ]
     },
     "execution_count": 55,
     "metadata": {},
     "output_type": "execute_result"
    }
   ],
   "source": [
    "noble_gases.index"
   ]
  },
  {
   "cell_type": "code",
   "execution_count": 56,
   "id": "9797f5e9-2399-467e-be22-f70a755caf5f",
   "metadata": {},
   "outputs": [],
   "source": [
    "noble_gases['Density'] = [0.1786, 0.9002, 1.7818, 3.708]"
   ]
  },
  {
   "cell_type": "code",
   "execution_count": 57,
   "id": "a3b668fa-4d2b-4ad5-adf0-0a18cc95cec0",
   "metadata": {},
   "outputs": [
    {
     "data": {
      "text/html": [
       "<div>\n",
       "<style scoped>\n",
       "    .dataframe tbody tr th:only-of-type {\n",
       "        vertical-align: middle;\n",
       "    }\n",
       "\n",
       "    .dataframe tbody tr th {\n",
       "        vertical-align: top;\n",
       "    }\n",
       "\n",
       "    .dataframe thead th {\n",
       "        text-align: right;\n",
       "    }\n",
       "</style>\n",
       "<table border=\"1\" class=\"dataframe\">\n",
       "  <thead>\n",
       "    <tr style=\"text-align: right;\">\n",
       "      <th></th>\n",
       "      <th>Atomic Number</th>\n",
       "      <th>Atomic Radius</th>\n",
       "      <th>Density</th>\n",
       "    </tr>\n",
       "  </thead>\n",
       "  <tbody>\n",
       "    <tr>\n",
       "      <th>He</th>\n",
       "      <td>2</td>\n",
       "      <td>31</td>\n",
       "      <td>0.1786</td>\n",
       "    </tr>\n",
       "    <tr>\n",
       "      <th>Ne</th>\n",
       "      <td>10</td>\n",
       "      <td>38</td>\n",
       "      <td>0.9002</td>\n",
       "    </tr>\n",
       "    <tr>\n",
       "      <th>Ar</th>\n",
       "      <td>18</td>\n",
       "      <td>71</td>\n",
       "      <td>1.7818</td>\n",
       "    </tr>\n",
       "    <tr>\n",
       "      <th>Kr</th>\n",
       "      <td>32</td>\n",
       "      <td>88</td>\n",
       "      <td>3.7080</td>\n",
       "    </tr>\n",
       "  </tbody>\n",
       "</table>\n",
       "</div>"
      ],
      "text/plain": [
       "    Atomic Number  Atomic Radius  Density\n",
       "He              2             31   0.1786\n",
       "Ne             10             38   0.9002\n",
       "Ar             18             71   1.7818\n",
       "Kr             32             88   3.7080"
      ]
     },
     "execution_count": 57,
     "metadata": {},
     "output_type": "execute_result"
    }
   ],
   "source": [
    "noble_gases"
   ]
  },
  {
   "cell_type": "code",
   "execution_count": 58,
   "id": "ce604c38-0818-4118-b03f-f4fcc4e04b9d",
   "metadata": {},
   "outputs": [
    {
     "data": {
      "text/plain": [
       "He    0.1786\n",
       "Ne    0.9002\n",
       "Ar    1.7818\n",
       "Kr    3.7080\n",
       "Name: Density, dtype: float64"
      ]
     },
     "execution_count": 58,
     "metadata": {},
     "output_type": "execute_result"
    }
   ],
   "source": [
    "noble_gases.Density"
   ]
  },
  {
   "cell_type": "code",
   "execution_count": 59,
   "id": "86b4f32c-0bf4-47c0-bc20-a1e25f1352c6",
   "metadata": {},
   "outputs": [
    {
     "data": {
      "text/plain": [
       "He    0.1786\n",
       "Ne    0.9002\n",
       "Ar    1.7818\n",
       "Kr    3.7080\n",
       "Name: Density, dtype: float64"
      ]
     },
     "execution_count": 59,
     "metadata": {},
     "output_type": "execute_result"
    }
   ],
   "source": [
    "noble_gases['Density']"
   ]
  },
  {
   "cell_type": "code",
   "execution_count": 60,
   "id": "288616f5-2ba0-429b-9e0f-5ee99e312406",
   "metadata": {},
   "outputs": [
    {
     "data": {
      "text/plain": [
       "<AxesSubplot:>"
      ]
     },
     "execution_count": 60,
     "metadata": {},
     "output_type": "execute_result"
    },
    {
     "data": {
      "image/png": "[encoded data removed]",
      "text/plain": [
       "<Figure size 432x288 with 1 Axes>"
      ]
     },
     "metadata": {
      "needs_background": "light"
     },
     "output_type": "display_data"
    }
   ],
   "source": [
    "noble_gases.plot.bar()"
   ]
  },
  {
   "cell_type": "code",
   "execution_count": 62,
   "id": "fc3091c9-0099-43a3-9b09-d49444ae492a",
   "metadata": {},
   "outputs": [
    {
     "data": {
      "text/plain": [
       "<AxesSubplot:>"
      ]
     },
     "execution_count": 62,
     "metadata": {},
     "output_type": "execute_result"
    },
    {
     "data": {
      "image/png": "[encoded data removed]",
      "text/plain": [
       "<Figure size 432x288 with 1 Axes>"
      ]
     },
     "metadata": {
      "needs_background": "light"
     },
     "output_type": "display_data"
    }
   ],
   "source": [
    "noble_gases.plot.bar(stacked=True) # makes little sense"
   ]
  },
  {
   "cell_type": "code",
   "execution_count": 64,
   "id": "6befb8ec-376d-41c4-9538-71b9770b59e7",
   "metadata": {},
   "outputs": [
    {
     "data": {
      "text/plain": [
       "<AxesSubplot:>"
      ]
     },
     "execution_count": 64,
     "metadata": {},
     "output_type": "execute_result"
    },
    {
     "data": {
      "image/png": "[encoded data removed]",
      "text/plain": [
       "<Figure size 432x288 with 1 Axes>"
      ]
     },
     "metadata": {
      "needs_background": "light"
     },
     "output_type": "display_data"
    }
   ],
   "source": [
    "noble_gases.plot.line()"
   ]
  },
  {
   "cell_type": "code",
   "execution_count": 38,
   "id": "0f9ecc9b-816f-48e4-acd0-4f05f906a709",
   "metadata": {},
   "outputs": [],
   "source": [
    "noble_gases['foo'] = pd.Series({'Ne': 2, 'Ar': 4})"
   ]
  },
  {
   "cell_type": "code",
   "execution_count": 39,
   "id": "a1cb2849-b33f-49b5-a9cb-3472a4b8bde5",
   "metadata": {},
   "outputs": [
    {
     "data": {
      "text/html": [
       "<div>\n",
       "<style scoped>\n",
       "    .dataframe tbody tr th:only-of-type {\n",
       "        vertical-align: middle;\n",
       "    }\n",
       "\n",
       "    .dataframe tbody tr th {\n",
       "        vertical-align: top;\n",
       "    }\n",
       "\n",
       "    .dataframe thead th {\n",
       "        text-align: right;\n",
       "    }\n",
       "</style>\n",
       "<table border=\"1\" class=\"dataframe\">\n",
       "  <thead>\n",
       "    <tr style=\"text-align: right;\">\n",
       "      <th></th>\n",
       "      <th>Atomic Number</th>\n",
       "      <th>Atomic Radius</th>\n",
       "      <th>Density</th>\n",
       "      <th>foo</th>\n",
       "    </tr>\n",
       "  </thead>\n",
       "  <tbody>\n",
       "    <tr>\n",
       "      <th>He</th>\n",
       "      <td>2</td>\n",
       "      <td>31</td>\n",
       "      <td>0.1786</td>\n",
       "      <td>NaN</td>\n",
       "    </tr>\n",
       "    <tr>\n",
       "      <th>Ne</th>\n",
       "      <td>10</td>\n",
       "      <td>38</td>\n",
       "      <td>0.9002</td>\n",
       "      <td>2.0</td>\n",
       "    </tr>\n",
       "    <tr>\n",
       "      <th>Ar</th>\n",
       "      <td>18</td>\n",
       "      <td>71</td>\n",
       "      <td>1.7818</td>\n",
       "      <td>4.0</td>\n",
       "    </tr>\n",
       "    <tr>\n",
       "      <th>Kr</th>\n",
       "      <td>32</td>\n",
       "      <td>88</td>\n",
       "      <td>3.7080</td>\n",
       "      <td>NaN</td>\n",
       "    </tr>\n",
       "  </tbody>\n",
       "</table>\n",
       "</div>"
      ],
      "text/plain": [
       "    Atomic Number  Atomic Radius  Density  foo\n",
       "He              2             31   0.1786  NaN\n",
       "Ne             10             38   0.9002  2.0\n",
       "Ar             18             71   1.7818  4.0\n",
       "Kr             32             88   3.7080  NaN"
      ]
     },
     "execution_count": 39,
     "metadata": {},
     "output_type": "execute_result"
    }
   ],
   "source": [
    "noble_gases"
   ]
  },
  {
   "cell_type": "code",
   "execution_count": 40,
   "id": "9e8ed5d6-457f-43b1-b2df-b4fb2a132135",
   "metadata": {},
   "outputs": [
    {
     "data": {
      "text/plain": [
       "He    NaN\n",
       "Ne    2.0\n",
       "Ar    4.0\n",
       "Kr    NaN\n",
       "Name: foo, dtype: float64"
      ]
     },
     "execution_count": 40,
     "metadata": {},
     "output_type": "execute_result"
    }
   ],
   "source": [
    "noble_gases.pop('foo')"
   ]
  },
  {
   "cell_type": "code",
   "execution_count": 41,
   "id": "3348ffd9-dce0-495a-8513-6d2f07932760",
   "metadata": {},
   "outputs": [
    {
     "data": {
      "text/html": [
       "<div>\n",
       "<style scoped>\n",
       "    .dataframe tbody tr th:only-of-type {\n",
       "        vertical-align: middle;\n",
       "    }\n",
       "\n",
       "    .dataframe tbody tr th {\n",
       "        vertical-align: top;\n",
       "    }\n",
       "\n",
       "    .dataframe thead th {\n",
       "        text-align: right;\n",
       "    }\n",
       "</style>\n",
       "<table border=\"1\" class=\"dataframe\">\n",
       "  <thead>\n",
       "    <tr style=\"text-align: right;\">\n",
       "      <th></th>\n",
       "      <th>Atomic Number</th>\n",
       "      <th>Atomic Radius</th>\n",
       "      <th>Density</th>\n",
       "    </tr>\n",
       "  </thead>\n",
       "  <tbody>\n",
       "    <tr>\n",
       "      <th>He</th>\n",
       "      <td>2</td>\n",
       "      <td>31</td>\n",
       "      <td>0.1786</td>\n",
       "    </tr>\n",
       "    <tr>\n",
       "      <th>Ne</th>\n",
       "      <td>10</td>\n",
       "      <td>38</td>\n",
       "      <td>0.9002</td>\n",
       "    </tr>\n",
       "    <tr>\n",
       "      <th>Ar</th>\n",
       "      <td>18</td>\n",
       "      <td>71</td>\n",
       "      <td>1.7818</td>\n",
       "    </tr>\n",
       "    <tr>\n",
       "      <th>Kr</th>\n",
       "      <td>32</td>\n",
       "      <td>88</td>\n",
       "      <td>3.7080</td>\n",
       "    </tr>\n",
       "  </tbody>\n",
       "</table>\n",
       "</div>"
      ],
      "text/plain": [
       "    Atomic Number  Atomic Radius  Density\n",
       "He              2             31   0.1786\n",
       "Ne             10             38   0.9002\n",
       "Ar             18             71   1.7818\n",
       "Kr             32             88   3.7080"
      ]
     },
     "execution_count": 41,
     "metadata": {},
     "output_type": "execute_result"
    }
   ],
   "source": [
    "noble_gases"
   ]
  },
  {
   "cell_type": "code",
   "execution_count": 43,
   "id": "9445b40c-2754-4606-9d81-0daa15a68603",
   "metadata": {},
   "outputs": [
    {
     "data": {
      "text/html": [
       "<div>\n",
       "<style scoped>\n",
       "    .dataframe tbody tr th:only-of-type {\n",
       "        vertical-align: middle;\n",
       "    }\n",
       "\n",
       "    .dataframe tbody tr th {\n",
       "        vertical-align: top;\n",
       "    }\n",
       "\n",
       "    .dataframe thead th {\n",
       "        text-align: right;\n",
       "    }\n",
       "</style>\n",
       "<table border=\"1\" class=\"dataframe\">\n",
       "  <thead>\n",
       "    <tr style=\"text-align: right;\">\n",
       "      <th></th>\n",
       "      <th>Atomic Number</th>\n",
       "      <th>Density</th>\n",
       "    </tr>\n",
       "  </thead>\n",
       "  <tbody>\n",
       "    <tr>\n",
       "      <th>He</th>\n",
       "      <td>2</td>\n",
       "      <td>0.1786</td>\n",
       "    </tr>\n",
       "    <tr>\n",
       "      <th>Ne</th>\n",
       "      <td>10</td>\n",
       "      <td>0.9002</td>\n",
       "    </tr>\n",
       "    <tr>\n",
       "      <th>Ar</th>\n",
       "      <td>18</td>\n",
       "      <td>1.7818</td>\n",
       "    </tr>\n",
       "    <tr>\n",
       "      <th>Kr</th>\n",
       "      <td>32</td>\n",
       "      <td>3.7080</td>\n",
       "    </tr>\n",
       "  </tbody>\n",
       "</table>\n",
       "</div>"
      ],
      "text/plain": [
       "    Atomic Number  Density\n",
       "He              2   0.1786\n",
       "Ne             10   0.9002\n",
       "Ar             18   1.7818\n",
       "Kr             32   3.7080"
      ]
     },
     "execution_count": 43,
     "metadata": {},
     "output_type": "execute_result"
    }
   ],
   "source": [
    "noble_gases[['Atomic Number', 'Density']]"
   ]
  },
  {
   "cell_type": "markdown",
   "id": "07c55eb1-77be-40d0-83ca-031d42bec435",
   "metadata": {},
   "source": [
    "## Accessing Rows"
   ]
  },
  {
   "cell_type": "code",
   "execution_count": 44,
   "id": "4573a7a6-6eb5-4d52-baeb-34b58e1102b8",
   "metadata": {},
   "outputs": [
    {
     "data": {
      "text/plain": [
       "Atomic Number     2.0000\n",
       "Atomic Radius    31.0000\n",
       "Density           0.1786\n",
       "Name: He, dtype: float64"
      ]
     },
     "execution_count": 44,
     "metadata": {},
     "output_type": "execute_result"
    }
   ],
   "source": [
    "noble_gases.loc['He']"
   ]
  },
  {
   "cell_type": "code",
   "execution_count": 45,
   "id": "ab60de53-fbac-4b1e-b417-022a871383f0",
   "metadata": {},
   "outputs": [
    {
     "data": {
      "text/html": [
       "<div>\n",
       "<style scoped>\n",
       "    .dataframe tbody tr th:only-of-type {\n",
       "        vertical-align: middle;\n",
       "    }\n",
       "\n",
       "    .dataframe tbody tr th {\n",
       "        vertical-align: top;\n",
       "    }\n",
       "\n",
       "    .dataframe thead th {\n",
       "        text-align: right;\n",
       "    }\n",
       "</style>\n",
       "<table border=\"1\" class=\"dataframe\">\n",
       "  <thead>\n",
       "    <tr style=\"text-align: right;\">\n",
       "      <th></th>\n",
       "      <th>Atomic Number</th>\n",
       "      <th>Atomic Radius</th>\n",
       "      <th>Density</th>\n",
       "    </tr>\n",
       "  </thead>\n",
       "  <tbody>\n",
       "    <tr>\n",
       "      <th>Ne</th>\n",
       "      <td>10</td>\n",
       "      <td>38</td>\n",
       "      <td>0.9002</td>\n",
       "    </tr>\n",
       "    <tr>\n",
       "      <th>Ar</th>\n",
       "      <td>18</td>\n",
       "      <td>71</td>\n",
       "      <td>1.7818</td>\n",
       "    </tr>\n",
       "  </tbody>\n",
       "</table>\n",
       "</div>"
      ],
      "text/plain": [
       "    Atomic Number  Atomic Radius  Density\n",
       "Ne             10             38   0.9002\n",
       "Ar             18             71   1.7818"
      ]
     },
     "execution_count": 45,
     "metadata": {},
     "output_type": "execute_result"
    }
   ],
   "source": [
    "noble_gases.loc['Ne':'Ar']"
   ]
  },
  {
   "cell_type": "code",
   "execution_count": 46,
   "id": "86050900-4a27-4049-adde-eb904d5b333c",
   "metadata": {},
   "outputs": [
    {
     "data": {
      "text/plain": [
       "Ne    38\n",
       "Ar    71\n",
       "Name: Atomic Radius, dtype: int64"
      ]
     },
     "execution_count": 46,
     "metadata": {},
     "output_type": "execute_result"
    }
   ],
   "source": [
    "noble_gases.loc['Ne':'Ar', 'Atomic Radius']"
   ]
  },
  {
   "cell_type": "code",
   "execution_count": 48,
   "id": "c8ea1ebd-ae3b-4d67-8afa-90afb6bd3e73",
   "metadata": {},
   "outputs": [
    {
     "data": {
      "text/html": [
       "<div>\n",
       "<style scoped>\n",
       "    .dataframe tbody tr th:only-of-type {\n",
       "        vertical-align: middle;\n",
       "    }\n",
       "\n",
       "    .dataframe tbody tr th {\n",
       "        vertical-align: top;\n",
       "    }\n",
       "\n",
       "    .dataframe thead th {\n",
       "        text-align: right;\n",
       "    }\n",
       "</style>\n",
       "<table border=\"1\" class=\"dataframe\">\n",
       "  <thead>\n",
       "    <tr style=\"text-align: right;\">\n",
       "      <th></th>\n",
       "      <th>Atomic Radius</th>\n",
       "      <th>Density</th>\n",
       "    </tr>\n",
       "  </thead>\n",
       "  <tbody>\n",
       "    <tr>\n",
       "      <th>Ne</th>\n",
       "      <td>38</td>\n",
       "      <td>0.9002</td>\n",
       "    </tr>\n",
       "    <tr>\n",
       "      <th>Ar</th>\n",
       "      <td>71</td>\n",
       "      <td>1.7818</td>\n",
       "    </tr>\n",
       "  </tbody>\n",
       "</table>\n",
       "</div>"
      ],
      "text/plain": [
       "    Atomic Radius  Density\n",
       "Ne             38   0.9002\n",
       "Ar             71   1.7818"
      ]
     },
     "execution_count": 48,
     "metadata": {},
     "output_type": "execute_result"
    }
   ],
   "source": [
    "noble_gases.loc['Ne':'Ar', 'Atomic Radius':]"
   ]
  },
  {
   "cell_type": "code",
   "execution_count": 49,
   "id": "ecb535b1-b5d5-45ae-bcd5-66ad6e146842",
   "metadata": {},
   "outputs": [
    {
     "data": {
      "text/html": [
       "<div>\n",
       "<style scoped>\n",
       "    .dataframe tbody tr th:only-of-type {\n",
       "        vertical-align: middle;\n",
       "    }\n",
       "\n",
       "    .dataframe tbody tr th {\n",
       "        vertical-align: top;\n",
       "    }\n",
       "\n",
       "    .dataframe thead th {\n",
       "        text-align: right;\n",
       "    }\n",
       "</style>\n",
       "<table border=\"1\" class=\"dataframe\">\n",
       "  <thead>\n",
       "    <tr style=\"text-align: right;\">\n",
       "      <th></th>\n",
       "      <th>Atomic Number</th>\n",
       "      <th>Atomic Radius</th>\n",
       "      <th>Density</th>\n",
       "    </tr>\n",
       "  </thead>\n",
       "  <tbody>\n",
       "    <tr>\n",
       "      <th>Ne</th>\n",
       "      <td>10</td>\n",
       "      <td>38</td>\n",
       "      <td>0.9002</td>\n",
       "    </tr>\n",
       "    <tr>\n",
       "      <th>Ar</th>\n",
       "      <td>18</td>\n",
       "      <td>71</td>\n",
       "      <td>1.7818</td>\n",
       "    </tr>\n",
       "  </tbody>\n",
       "</table>\n",
       "</div>"
      ],
      "text/plain": [
       "    Atomic Number  Atomic Radius  Density\n",
       "Ne             10             38   0.9002\n",
       "Ar             18             71   1.7818"
      ]
     },
     "execution_count": 49,
     "metadata": {},
     "output_type": "execute_result"
    }
   ],
   "source": [
    "noble_gases.iloc[1:3]"
   ]
  },
  {
   "cell_type": "code",
   "execution_count": 50,
   "id": "894841b2-bc83-4991-95cb-509b9178ba87",
   "metadata": {},
   "outputs": [
    {
     "data": {
      "text/plain": [
       "Atomic Number    10.0000\n",
       "Atomic Radius    38.0000\n",
       "Density           0.9002\n",
       "Name: Ne, dtype: float64"
      ]
     },
     "execution_count": 50,
     "metadata": {},
     "output_type": "execute_result"
    }
   ],
   "source": [
    "noble_gases.iloc[1]"
   ]
  },
  {
   "cell_type": "code",
   "execution_count": 51,
   "id": "850d8eb1-9f46-4e7f-b495-6edf334f7bed",
   "metadata": {},
   "outputs": [
    {
     "data": {
      "text/plain": [
       "Ne    38\n",
       "Ar    71\n",
       "Name: Atomic Radius, dtype: int64"
      ]
     },
     "execution_count": 51,
     "metadata": {},
     "output_type": "execute_result"
    }
   ],
   "source": [
    "noble_gases.iloc[1:3, 1]"
   ]
  },
  {
   "cell_type": "markdown",
   "id": "87a1e60e-be04-4bd8-9b65-8ae8ab339f3b",
   "metadata": {},
   "source": [
    "## Filtering"
   ]
  },
  {
   "cell_type": "code",
   "execution_count": 53,
   "id": "33727b38-56bc-4da5-b142-446fa631cbba",
   "metadata": {},
   "outputs": [
    {
     "data": {
      "text/plain": [
       "He    False\n",
       "Ne    False\n",
       "Ar     True\n",
       "Kr     True\n",
       "Name: Atomic Number, dtype: bool"
      ]
     },
     "execution_count": 53,
     "metadata": {},
     "output_type": "execute_result"
    }
   ],
   "source": [
    "noble_gases['Atomic Number'] > 10"
   ]
  },
  {
   "cell_type": "code",
   "execution_count": 54,
   "id": "c92d51ee-9753-4856-9adc-e95a0e6c4341",
   "metadata": {},
   "outputs": [
    {
     "data": {
      "text/html": [
       "<div>\n",
       "<style scoped>\n",
       "    .dataframe tbody tr th:only-of-type {\n",
       "        vertical-align: middle;\n",
       "    }\n",
       "\n",
       "    .dataframe tbody tr th {\n",
       "        vertical-align: top;\n",
       "    }\n",
       "\n",
       "    .dataframe thead th {\n",
       "        text-align: right;\n",
       "    }\n",
       "</style>\n",
       "<table border=\"1\" class=\"dataframe\">\n",
       "  <thead>\n",
       "    <tr style=\"text-align: right;\">\n",
       "      <th></th>\n",
       "      <th>Atomic Number</th>\n",
       "      <th>Atomic Radius</th>\n",
       "      <th>Density</th>\n",
       "    </tr>\n",
       "  </thead>\n",
       "  <tbody>\n",
       "    <tr>\n",
       "      <th>Ar</th>\n",
       "      <td>18</td>\n",
       "      <td>71</td>\n",
       "      <td>1.7818</td>\n",
       "    </tr>\n",
       "    <tr>\n",
       "      <th>Kr</th>\n",
       "      <td>32</td>\n",
       "      <td>88</td>\n",
       "      <td>3.7080</td>\n",
       "    </tr>\n",
       "  </tbody>\n",
       "</table>\n",
       "</div>"
      ],
      "text/plain": [
       "    Atomic Number  Atomic Radius  Density\n",
       "Ar             18             71   1.7818\n",
       "Kr             32             88   3.7080"
      ]
     },
     "execution_count": 54,
     "metadata": {},
     "output_type": "execute_result"
    }
   ],
   "source": [
    "noble_gases[noble_gases['Atomic Number'] > 10]"
   ]
  },
  {
   "cell_type": "markdown",
   "id": "a241f06e-642e-4447-a657-6bae87cd45be",
   "metadata": {},
   "source": [
    "## Sampling"
   ]
  },
  {
   "cell_type": "code",
   "execution_count": 55,
   "id": "8551a8d9-f4bd-48af-a469-93bab3b31c09",
   "metadata": {},
   "outputs": [
    {
     "data": {
      "text/html": [
       "<div>\n",
       "<style scoped>\n",
       "    .dataframe tbody tr th:only-of-type {\n",
       "        vertical-align: middle;\n",
       "    }\n",
       "\n",
       "    .dataframe tbody tr th {\n",
       "        vertical-align: top;\n",
       "    }\n",
       "\n",
       "    .dataframe thead th {\n",
       "        text-align: right;\n",
       "    }\n",
       "</style>\n",
       "<table border=\"1\" class=\"dataframe\">\n",
       "  <thead>\n",
       "    <tr style=\"text-align: right;\">\n",
       "      <th></th>\n",
       "      <th>Atomic Number</th>\n",
       "      <th>Atomic Radius</th>\n",
       "      <th>Density</th>\n",
       "    </tr>\n",
       "  </thead>\n",
       "  <tbody>\n",
       "    <tr>\n",
       "      <th>Ne</th>\n",
       "      <td>10</td>\n",
       "      <td>38</td>\n",
       "      <td>0.9002</td>\n",
       "    </tr>\n",
       "    <tr>\n",
       "      <th>Kr</th>\n",
       "      <td>32</td>\n",
       "      <td>88</td>\n",
       "      <td>3.7080</td>\n",
       "    </tr>\n",
       "  </tbody>\n",
       "</table>\n",
       "</div>"
      ],
      "text/plain": [
       "    Atomic Number  Atomic Radius  Density\n",
       "Ne             10             38   0.9002\n",
       "Kr             32             88   3.7080"
      ]
     },
     "execution_count": 55,
     "metadata": {},
     "output_type": "execute_result"
    }
   ],
   "source": [
    "noble_gases.sample(n=2)"
   ]
  },
  {
   "cell_type": "code",
   "execution_count": 62,
   "id": "15f454f3-dd4f-4fa3-96e6-fd7dde729d6d",
   "metadata": {},
   "outputs": [
    {
     "data": {
      "text/html": [
       "<div>\n",
       "<style scoped>\n",
       "    .dataframe tbody tr th:only-of-type {\n",
       "        vertical-align: middle;\n",
       "    }\n",
       "\n",
       "    .dataframe tbody tr th {\n",
       "        vertical-align: top;\n",
       "    }\n",
       "\n",
       "    .dataframe thead th {\n",
       "        text-align: right;\n",
       "    }\n",
       "</style>\n",
       "<table border=\"1\" class=\"dataframe\">\n",
       "  <thead>\n",
       "    <tr style=\"text-align: right;\">\n",
       "      <th></th>\n",
       "      <th>Atomic Number</th>\n",
       "      <th>Atomic Radius</th>\n",
       "      <th>Density</th>\n",
       "    </tr>\n",
       "  </thead>\n",
       "  <tbody>\n",
       "    <tr>\n",
       "      <th>Ar</th>\n",
       "      <td>18</td>\n",
       "      <td>71</td>\n",
       "      <td>1.7818</td>\n",
       "    </tr>\n",
       "    <tr>\n",
       "      <th>Kr</th>\n",
       "      <td>32</td>\n",
       "      <td>88</td>\n",
       "      <td>3.7080</td>\n",
       "    </tr>\n",
       "    <tr>\n",
       "      <th>Kr</th>\n",
       "      <td>32</td>\n",
       "      <td>88</td>\n",
       "      <td>3.7080</td>\n",
       "    </tr>\n",
       "    <tr>\n",
       "      <th>Ne</th>\n",
       "      <td>10</td>\n",
       "      <td>38</td>\n",
       "      <td>0.9002</td>\n",
       "    </tr>\n",
       "  </tbody>\n",
       "</table>\n",
       "</div>"
      ],
      "text/plain": [
       "    Atomic Number  Atomic Radius  Density\n",
       "Ar             18             71   1.7818\n",
       "Kr             32             88   3.7080\n",
       "Kr             32             88   3.7080\n",
       "Ne             10             38   0.9002"
      ]
     },
     "execution_count": 62,
     "metadata": {},
     "output_type": "execute_result"
    }
   ],
   "source": [
    "noble_gases.sample(n=4, replace=True)"
   ]
  },
  {
   "cell_type": "markdown",
   "id": "de91b6b1-a39a-4205-9095-e96bd55dd9ab",
   "metadata": {},
   "source": [
    "## Arithmetic"
   ]
  },
  {
   "cell_type": "code",
   "execution_count": 63,
   "id": "dda3d01a-e825-48ce-a786-8c5f33ca390c",
   "metadata": {},
   "outputs": [
    {
     "data": {
      "text/html": [
       "<div>\n",
       "<style scoped>\n",
       "    .dataframe tbody tr th:only-of-type {\n",
       "        vertical-align: middle;\n",
       "    }\n",
       "\n",
       "    .dataframe tbody tr th {\n",
       "        vertical-align: top;\n",
       "    }\n",
       "\n",
       "    .dataframe thead th {\n",
       "        text-align: right;\n",
       "    }\n",
       "</style>\n",
       "<table border=\"1\" class=\"dataframe\">\n",
       "  <thead>\n",
       "    <tr style=\"text-align: right;\">\n",
       "      <th></th>\n",
       "      <th>Atomic Number</th>\n",
       "      <th>Atomic Radius</th>\n",
       "      <th>Density</th>\n",
       "    </tr>\n",
       "  </thead>\n",
       "  <tbody>\n",
       "    <tr>\n",
       "      <th>He</th>\n",
       "      <td>4</td>\n",
       "      <td>62</td>\n",
       "      <td>0.3572</td>\n",
       "    </tr>\n",
       "    <tr>\n",
       "      <th>Ne</th>\n",
       "      <td>20</td>\n",
       "      <td>76</td>\n",
       "      <td>1.8004</td>\n",
       "    </tr>\n",
       "    <tr>\n",
       "      <th>Ar</th>\n",
       "      <td>36</td>\n",
       "      <td>142</td>\n",
       "      <td>3.5636</td>\n",
       "    </tr>\n",
       "    <tr>\n",
       "      <th>Kr</th>\n",
       "      <td>64</td>\n",
       "      <td>176</td>\n",
       "      <td>7.4160</td>\n",
       "    </tr>\n",
       "  </tbody>\n",
       "</table>\n",
       "</div>"
      ],
      "text/plain": [
       "    Atomic Number  Atomic Radius  Density\n",
       "He              4             62   0.3572\n",
       "Ne             20             76   1.8004\n",
       "Ar             36            142   3.5636\n",
       "Kr             64            176   7.4160"
      ]
     },
     "execution_count": 63,
     "metadata": {},
     "output_type": "execute_result"
    }
   ],
   "source": [
    "noble_gases + noble_gases"
   ]
  },
  {
   "cell_type": "code",
   "execution_count": 64,
   "id": "aa02a151-fb85-411a-9984-57b95907bdfc",
   "metadata": {},
   "outputs": [
    {
     "data": {
      "text/html": [
       "<div>\n",
       "<style scoped>\n",
       "    .dataframe tbody tr th:only-of-type {\n",
       "        vertical-align: middle;\n",
       "    }\n",
       "\n",
       "    .dataframe tbody tr th {\n",
       "        vertical-align: top;\n",
       "    }\n",
       "\n",
       "    .dataframe thead th {\n",
       "        text-align: right;\n",
       "    }\n",
       "</style>\n",
       "<table border=\"1\" class=\"dataframe\">\n",
       "  <thead>\n",
       "    <tr style=\"text-align: right;\">\n",
       "      <th></th>\n",
       "      <th>Atomic Number</th>\n",
       "      <th>Atomic Radius</th>\n",
       "      <th>Density</th>\n",
       "    </tr>\n",
       "  </thead>\n",
       "  <tbody>\n",
       "    <tr>\n",
       "      <th>He</th>\n",
       "      <td>4</td>\n",
       "      <td>62</td>\n",
       "      <td>0.3572</td>\n",
       "    </tr>\n",
       "    <tr>\n",
       "      <th>Ne</th>\n",
       "      <td>20</td>\n",
       "      <td>76</td>\n",
       "      <td>1.8004</td>\n",
       "    </tr>\n",
       "    <tr>\n",
       "      <th>Ar</th>\n",
       "      <td>36</td>\n",
       "      <td>142</td>\n",
       "      <td>3.5636</td>\n",
       "    </tr>\n",
       "    <tr>\n",
       "      <th>Kr</th>\n",
       "      <td>64</td>\n",
       "      <td>176</td>\n",
       "      <td>7.4160</td>\n",
       "    </tr>\n",
       "  </tbody>\n",
       "</table>\n",
       "</div>"
      ],
      "text/plain": [
       "    Atomic Number  Atomic Radius  Density\n",
       "He              4             62   0.3572\n",
       "Ne             20             76   1.8004\n",
       "Ar             36            142   3.5636\n",
       "Kr             64            176   7.4160"
      ]
     },
     "execution_count": 64,
     "metadata": {},
     "output_type": "execute_result"
    }
   ],
   "source": [
    "noble_gases * 2"
   ]
  },
  {
   "cell_type": "code",
   "execution_count": 65,
   "id": "32ec7f21-5010-435b-93c5-a0a3e734c1b1",
   "metadata": {},
   "outputs": [
    {
     "data": {
      "text/html": [
       "<div>\n",
       "<style scoped>\n",
       "    .dataframe tbody tr th:only-of-type {\n",
       "        vertical-align: middle;\n",
       "    }\n",
       "\n",
       "    .dataframe tbody tr th {\n",
       "        vertical-align: top;\n",
       "    }\n",
       "\n",
       "    .dataframe thead th {\n",
       "        text-align: right;\n",
       "    }\n",
       "</style>\n",
       "<table border=\"1\" class=\"dataframe\">\n",
       "  <thead>\n",
       "    <tr style=\"text-align: right;\">\n",
       "      <th></th>\n",
       "      <th>Atomic Number</th>\n",
       "      <th>Atomic Radius</th>\n",
       "      <th>Density</th>\n",
       "    </tr>\n",
       "  </thead>\n",
       "  <tbody>\n",
       "    <tr>\n",
       "      <th>He</th>\n",
       "      <td>7.389056e+00</td>\n",
       "      <td>2.904885e+13</td>\n",
       "      <td>1.195542</td>\n",
       "    </tr>\n",
       "    <tr>\n",
       "      <th>Ne</th>\n",
       "      <td>2.202647e+04</td>\n",
       "      <td>3.185593e+16</td>\n",
       "      <td>2.460095</td>\n",
       "    </tr>\n",
       "    <tr>\n",
       "      <th>Ar</th>\n",
       "      <td>6.565997e+07</td>\n",
       "      <td>6.837671e+30</td>\n",
       "      <td>5.940540</td>\n",
       "    </tr>\n",
       "    <tr>\n",
       "      <th>Kr</th>\n",
       "      <td>7.896296e+13</td>\n",
       "      <td>1.651636e+38</td>\n",
       "      <td>40.772181</td>\n",
       "    </tr>\n",
       "  </tbody>\n",
       "</table>\n",
       "</div>"
      ],
      "text/plain": [
       "    Atomic Number  Atomic Radius    Density\n",
       "He   7.389056e+00   2.904885e+13   1.195542\n",
       "Ne   2.202647e+04   3.185593e+16   2.460095\n",
       "Ar   6.565997e+07   6.837671e+30   5.940540\n",
       "Kr   7.896296e+13   1.651636e+38  40.772181"
      ]
     },
     "execution_count": 65,
     "metadata": {},
     "output_type": "execute_result"
    }
   ],
   "source": [
    "np.exp(noble_gases)"
   ]
  },
  {
   "cell_type": "markdown",
   "id": "f4b3c656-fb6b-49b5-9f92-5ecf10cd65cf",
   "metadata": {},
   "source": [
    "## Transpose"
   ]
  },
  {
   "cell_type": "code",
   "execution_count": 66,
   "id": "f44971bc-7bf2-446d-bb2d-59a42910d2f1",
   "metadata": {},
   "outputs": [
    {
     "data": {
      "text/html": [
       "<div>\n",
       "<style scoped>\n",
       "    .dataframe tbody tr th:only-of-type {\n",
       "        vertical-align: middle;\n",
       "    }\n",
       "\n",
       "    .dataframe tbody tr th {\n",
       "        vertical-align: top;\n",
       "    }\n",
       "\n",
       "    .dataframe thead th {\n",
       "        text-align: right;\n",
       "    }\n",
       "</style>\n",
       "<table border=\"1\" class=\"dataframe\">\n",
       "  <thead>\n",
       "    <tr style=\"text-align: right;\">\n",
       "      <th></th>\n",
       "      <th>He</th>\n",
       "      <th>Ne</th>\n",
       "      <th>Ar</th>\n",
       "      <th>Kr</th>\n",
       "    </tr>\n",
       "  </thead>\n",
       "  <tbody>\n",
       "    <tr>\n",
       "      <th>Atomic Number</th>\n",
       "      <td>2.0000</td>\n",
       "      <td>10.0000</td>\n",
       "      <td>18.0000</td>\n",
       "      <td>32.000</td>\n",
       "    </tr>\n",
       "    <tr>\n",
       "      <th>Atomic Radius</th>\n",
       "      <td>31.0000</td>\n",
       "      <td>38.0000</td>\n",
       "      <td>71.0000</td>\n",
       "      <td>88.000</td>\n",
       "    </tr>\n",
       "    <tr>\n",
       "      <th>Density</th>\n",
       "      <td>0.1786</td>\n",
       "      <td>0.9002</td>\n",
       "      <td>1.7818</td>\n",
       "      <td>3.708</td>\n",
       "    </tr>\n",
       "  </tbody>\n",
       "</table>\n",
       "</div>"
      ],
      "text/plain": [
       "                    He       Ne       Ar      Kr\n",
       "Atomic Number   2.0000  10.0000  18.0000  32.000\n",
       "Atomic Radius  31.0000  38.0000  71.0000  88.000\n",
       "Density         0.1786   0.9002   1.7818   3.708"
      ]
     },
     "execution_count": 66,
     "metadata": {},
     "output_type": "execute_result"
    }
   ],
   "source": [
    "noble_gases.T"
   ]
  },
  {
   "cell_type": "markdown",
   "id": "45f877bf-cea6-464f-b2bc-7270bb14dae9",
   "metadata": {},
   "source": [
    "# Data I/O"
   ]
  },
  {
   "cell_type": "code",
   "execution_count": 68,
   "id": "d16a4d61-83ba-475c-8c00-5cf973ae4d84",
   "metadata": {},
   "outputs": [
    {
     "name": "stdout",
     "output_type": "stream",
     "text": [
      ",Atomic Number,Atomic Radius,Density\n",
      "He,2,31,0.1786\n",
      "Ne,10,38,0.9002\n",
      "Ar,18,71,1.7818\n",
      "Kr,32,88,3.708\n"
     ]
    }
   ],
   "source": [
    "!cat noble_gases.csv # careful with big files"
   ]
  },
  {
   "cell_type": "code",
   "execution_count": 70,
   "id": "e34e4dba-c3b4-4225-bd9a-01dea67da988",
   "metadata": {},
   "outputs": [
    {
     "data": {
      "text/html": [
       "<div>\n",
       "<style scoped>\n",
       "    .dataframe tbody tr th:only-of-type {\n",
       "        vertical-align: middle;\n",
       "    }\n",
       "\n",
       "    .dataframe tbody tr th {\n",
       "        vertical-align: top;\n",
       "    }\n",
       "\n",
       "    .dataframe thead th {\n",
       "        text-align: right;\n",
       "    }\n",
       "</style>\n",
       "<table border=\"1\" class=\"dataframe\">\n",
       "  <thead>\n",
       "    <tr style=\"text-align: right;\">\n",
       "      <th></th>\n",
       "      <th>Atomic Number</th>\n",
       "      <th>Atomic Radius</th>\n",
       "      <th>Density</th>\n",
       "    </tr>\n",
       "  </thead>\n",
       "  <tbody>\n",
       "    <tr>\n",
       "      <th>He</th>\n",
       "      <td>2</td>\n",
       "      <td>31</td>\n",
       "      <td>0.1786</td>\n",
       "    </tr>\n",
       "    <tr>\n",
       "      <th>Ne</th>\n",
       "      <td>10</td>\n",
       "      <td>38</td>\n",
       "      <td>0.9002</td>\n",
       "    </tr>\n",
       "    <tr>\n",
       "      <th>Ar</th>\n",
       "      <td>18</td>\n",
       "      <td>71</td>\n",
       "      <td>1.7818</td>\n",
       "    </tr>\n",
       "    <tr>\n",
       "      <th>Kr</th>\n",
       "      <td>32</td>\n",
       "      <td>88</td>\n",
       "      <td>3.7080</td>\n",
       "    </tr>\n",
       "  </tbody>\n",
       "</table>\n",
       "</div>"
      ],
      "text/plain": [
       "    Atomic Number  Atomic Radius  Density\n",
       "He              2             31   0.1786\n",
       "Ne             10             38   0.9002\n",
       "Ar             18             71   1.7818\n",
       "Kr             32             88   3.7080"
      ]
     },
     "execution_count": 70,
     "metadata": {},
     "output_type": "execute_result"
    }
   ],
   "source": [
    "pd.read_csv('noble_gases.csv', index_col=0)"
   ]
  },
  {
   "cell_type": "code",
   "execution_count": 119,
   "id": "0b727ecc-5b9f-4e69-9363-1672d2b5354e",
   "metadata": {},
   "outputs": [],
   "source": [
    "noble_gases.to_csv('noble_gases.csv')"
   ]
  },
  {
   "cell_type": "code",
   "execution_count": 120,
   "id": "66d87275-5f14-48ea-bdce-7c2fc6739100",
   "metadata": {},
   "outputs": [
    {
     "name": "stdout",
     "output_type": "stream",
     "text": [
      ",Atomic Number,Atomic Radius,Density\n",
      "He,2,31,0.1786\n",
      "Ne,10,38,0.9002\n",
      "Ar,18,71,1.7818\n",
      "Kr,32,88,3.708\n"
     ]
    }
   ],
   "source": [
    "!cat noble_gases.csv # careful with big files"
   ]
  },
  {
   "cell_type": "code",
   "execution_count": 75,
   "id": "63b74fdb-f290-4ef9-82e4-d27b2638441d",
   "metadata": {},
   "outputs": [
    {
     "data": {
      "text/plain": [
       "['read_clipboard',\n",
       " 'read_csv',\n",
       " 'read_excel',\n",
       " 'read_feather',\n",
       " 'read_fwf',\n",
       " 'read_gbq',\n",
       " 'read_hdf',\n",
       " 'read_html',\n",
       " 'read_json',\n",
       " 'read_orc',\n",
       " 'read_parquet',\n",
       " 'read_pickle',\n",
       " 'read_sas',\n",
       " 'read_spss',\n",
       " 'read_sql',\n",
       " 'read_sql_query',\n",
       " 'read_sql_table',\n",
       " 'read_stata',\n",
       " 'read_table',\n",
       " 'read_xml']"
      ]
     },
     "execution_count": 75,
     "metadata": {},
     "output_type": "execute_result"
    }
   ],
   "source": [
    "[m for m in dir(pd) if m.startswith('read_')]"
   ]
  },
  {
   "cell_type": "code",
   "execution_count": 76,
   "id": "1ec212f5-2405-4fb3-a927-086d987855ba",
   "metadata": {},
   "outputs": [
    {
     "data": {
      "text/plain": [
       "['to_clipboard',\n",
       " 'to_csv',\n",
       " 'to_dict',\n",
       " 'to_excel',\n",
       " 'to_feather',\n",
       " 'to_gbq',\n",
       " 'to_hdf',\n",
       " 'to_html',\n",
       " 'to_json',\n",
       " 'to_latex',\n",
       " 'to_markdown',\n",
       " 'to_numpy',\n",
       " 'to_parquet',\n",
       " 'to_period',\n",
       " 'to_pickle',\n",
       " 'to_records',\n",
       " 'to_sql',\n",
       " 'to_stata',\n",
       " 'to_string',\n",
       " 'to_timestamp',\n",
       " 'to_xarray',\n",
       " 'to_xml']"
      ]
     },
     "execution_count": 76,
     "metadata": {},
     "output_type": "execute_result"
    }
   ],
   "source": [
    "[m for m in dir(noble_gases) if m.startswith('to_')]"
   ]
  },
  {
   "cell_type": "code",
   "execution_count": 78,
   "id": "97340275-4390-4c50-99c1-242902da0ae0",
   "metadata": {},
   "outputs": [
    {
     "data": {
      "text/plain": [
       "{'Atomic Number': {'He': 2, 'Ne': 10, 'Ar': 18, 'Kr': 32},\n",
       " 'Atomic Radius': {'He': 31, 'Ne': 38, 'Ar': 71, 'Kr': 88},\n",
       " 'Density': {'He': 0.1786, 'Ne': 0.9002, 'Ar': 1.7818, 'Kr': 3.708}}"
      ]
     },
     "execution_count": 78,
     "metadata": {},
     "output_type": "execute_result"
    }
   ],
   "source": [
    "noble_gases.to_dict()"
   ]
  },
  {
   "cell_type": "markdown",
   "id": "c2ee622d-0dd1-4376-9b5d-36515c1e8c28",
   "metadata": {},
   "source": [
    "# Reshaping data"
   ]
  },
  {
   "cell_type": "code",
   "execution_count": 79,
   "id": "9f5c8786-ed65-4e84-83eb-5eaff614b2b1",
   "metadata": {},
   "outputs": [
    {
     "data": {
      "text/html": [
       "<div>\n",
       "<style scoped>\n",
       "    .dataframe tbody tr th:only-of-type {\n",
       "        vertical-align: middle;\n",
       "    }\n",
       "\n",
       "    .dataframe tbody tr th {\n",
       "        vertical-align: top;\n",
       "    }\n",
       "\n",
       "    .dataframe thead th {\n",
       "        text-align: right;\n",
       "    }\n",
       "</style>\n",
       "<table border=\"1\" class=\"dataframe\">\n",
       "  <thead>\n",
       "    <tr style=\"text-align: right;\">\n",
       "      <th></th>\n",
       "      <th>Atomic Number</th>\n",
       "      <th>Atomic Radius</th>\n",
       "      <th>Density</th>\n",
       "    </tr>\n",
       "  </thead>\n",
       "  <tbody>\n",
       "    <tr>\n",
       "      <th>He</th>\n",
       "      <td>2</td>\n",
       "      <td>31</td>\n",
       "      <td>0.1786</td>\n",
       "    </tr>\n",
       "    <tr>\n",
       "      <th>Ne</th>\n",
       "      <td>10</td>\n",
       "      <td>38</td>\n",
       "      <td>0.9002</td>\n",
       "    </tr>\n",
       "    <tr>\n",
       "      <th>Ar</th>\n",
       "      <td>18</td>\n",
       "      <td>71</td>\n",
       "      <td>1.7818</td>\n",
       "    </tr>\n",
       "    <tr>\n",
       "      <th>Kr</th>\n",
       "      <td>32</td>\n",
       "      <td>88</td>\n",
       "      <td>3.7080</td>\n",
       "    </tr>\n",
       "  </tbody>\n",
       "</table>\n",
       "</div>"
      ],
      "text/plain": [
       "    Atomic Number  Atomic Radius  Density\n",
       "He              2             31   0.1786\n",
       "Ne             10             38   0.9002\n",
       "Ar             18             71   1.7818\n",
       "Kr             32             88   3.7080"
      ]
     },
     "execution_count": 79,
     "metadata": {},
     "output_type": "execute_result"
    }
   ],
   "source": [
    "noble_gases"
   ]
  },
  {
   "cell_type": "code",
   "execution_count": 80,
   "id": "df80041f-3c14-437d-8eb9-c64dedeab029",
   "metadata": {},
   "outputs": [
    {
     "data": {
      "text/plain": [
       "He  Atomic Number     2.0000\n",
       "    Atomic Radius    31.0000\n",
       "    Density           0.1786\n",
       "Ne  Atomic Number    10.0000\n",
       "    Atomic Radius    38.0000\n",
       "    Density           0.9002\n",
       "Ar  Atomic Number    18.0000\n",
       "    Atomic Radius    71.0000\n",
       "    Density           1.7818\n",
       "Kr  Atomic Number    32.0000\n",
       "    Atomic Radius    88.0000\n",
       "    Density           3.7080\n",
       "dtype: float64"
      ]
     },
     "execution_count": 80,
     "metadata": {},
     "output_type": "execute_result"
    }
   ],
   "source": [
    "noble_gases.stack()"
   ]
  },
  {
   "cell_type": "code",
   "execution_count": 81,
   "id": "149b4de3-1796-4fc9-8b7d-101d4258b3b8",
   "metadata": {},
   "outputs": [
    {
     "data": {
      "text/plain": [
       "31.0"
      ]
     },
     "execution_count": 81,
     "metadata": {},
     "output_type": "execute_result"
    }
   ],
   "source": [
    "noble_gases.stack()['He', 'Atomic Radius']"
   ]
  },
  {
   "cell_type": "code",
   "execution_count": 82,
   "id": "6bf5e16e-1a26-44c7-aee4-fe2b9478962d",
   "metadata": {},
   "outputs": [
    {
     "data": {
      "text/plain": [
       "MultiIndex([('He', 'Atomic Number'),\n",
       "            ('He', 'Atomic Radius'),\n",
       "            ('He',       'Density'),\n",
       "            ('Ne', 'Atomic Number'),\n",
       "            ('Ne', 'Atomic Radius'),\n",
       "            ('Ne',       'Density'),\n",
       "            ('Ar', 'Atomic Number'),\n",
       "            ('Ar', 'Atomic Radius'),\n",
       "            ('Ar',       'Density'),\n",
       "            ('Kr', 'Atomic Number'),\n",
       "            ('Kr', 'Atomic Radius'),\n",
       "            ('Kr',       'Density')],\n",
       "           )"
      ]
     },
     "execution_count": 82,
     "metadata": {},
     "output_type": "execute_result"
    }
   ],
   "source": [
    "noble_gases.stack().index"
   ]
  },
  {
   "cell_type": "code",
   "execution_count": 83,
   "id": "29f57d78-d13c-427c-b974-174419a12835",
   "metadata": {},
   "outputs": [
    {
     "data": {
      "text/html": [
       "<div>\n",
       "<style scoped>\n",
       "    .dataframe tbody tr th:only-of-type {\n",
       "        vertical-align: middle;\n",
       "    }\n",
       "\n",
       "    .dataframe tbody tr th {\n",
       "        vertical-align: top;\n",
       "    }\n",
       "\n",
       "    .dataframe thead th {\n",
       "        text-align: right;\n",
       "    }\n",
       "</style>\n",
       "<table border=\"1\" class=\"dataframe\">\n",
       "  <thead>\n",
       "    <tr style=\"text-align: right;\">\n",
       "      <th></th>\n",
       "      <th>Atomic Number</th>\n",
       "      <th>Atomic Radius</th>\n",
       "      <th>Density</th>\n",
       "    </tr>\n",
       "  </thead>\n",
       "  <tbody>\n",
       "    <tr>\n",
       "      <th>He</th>\n",
       "      <td>2.0</td>\n",
       "      <td>31.0</td>\n",
       "      <td>0.1786</td>\n",
       "    </tr>\n",
       "    <tr>\n",
       "      <th>Ne</th>\n",
       "      <td>10.0</td>\n",
       "      <td>38.0</td>\n",
       "      <td>0.9002</td>\n",
       "    </tr>\n",
       "    <tr>\n",
       "      <th>Ar</th>\n",
       "      <td>18.0</td>\n",
       "      <td>71.0</td>\n",
       "      <td>1.7818</td>\n",
       "    </tr>\n",
       "    <tr>\n",
       "      <th>Kr</th>\n",
       "      <td>32.0</td>\n",
       "      <td>88.0</td>\n",
       "      <td>3.7080</td>\n",
       "    </tr>\n",
       "  </tbody>\n",
       "</table>\n",
       "</div>"
      ],
      "text/plain": [
       "    Atomic Number  Atomic Radius  Density\n",
       "He            2.0           31.0   0.1786\n",
       "Ne           10.0           38.0   0.9002\n",
       "Ar           18.0           71.0   1.7818\n",
       "Kr           32.0           88.0   3.7080"
      ]
     },
     "execution_count": 83,
     "metadata": {},
     "output_type": "execute_result"
    }
   ],
   "source": [
    "noble_gases.stack().unstack()"
   ]
  },
  {
   "cell_type": "markdown",
   "id": "1a47c590-3119-4c55-94d1-be5f78de0cab",
   "metadata": {},
   "source": [
    "# Missing"
   ]
  },
  {
   "cell_type": "code",
   "execution_count": 84,
   "id": "532b35b2-2eca-419a-8c4b-69a648ac05d2",
   "metadata": {},
   "outputs": [],
   "source": [
    "noble_gases['foo'] = pd.Series({'Ar': 5, 'He': 2})"
   ]
  },
  {
   "cell_type": "code",
   "execution_count": 85,
   "id": "9c27b710-ed40-4263-9554-8be9a185696c",
   "metadata": {},
   "outputs": [
    {
     "data": {
      "text/html": [
       "<div>\n",
       "<style scoped>\n",
       "    .dataframe tbody tr th:only-of-type {\n",
       "        vertical-align: middle;\n",
       "    }\n",
       "\n",
       "    .dataframe tbody tr th {\n",
       "        vertical-align: top;\n",
       "    }\n",
       "\n",
       "    .dataframe thead th {\n",
       "        text-align: right;\n",
       "    }\n",
       "</style>\n",
       "<table border=\"1\" class=\"dataframe\">\n",
       "  <thead>\n",
       "    <tr style=\"text-align: right;\">\n",
       "      <th></th>\n",
       "      <th>Atomic Number</th>\n",
       "      <th>Atomic Radius</th>\n",
       "      <th>Density</th>\n",
       "      <th>foo</th>\n",
       "    </tr>\n",
       "  </thead>\n",
       "  <tbody>\n",
       "    <tr>\n",
       "      <th>He</th>\n",
       "      <td>2</td>\n",
       "      <td>31</td>\n",
       "      <td>0.1786</td>\n",
       "      <td>2.0</td>\n",
       "    </tr>\n",
       "    <tr>\n",
       "      <th>Ne</th>\n",
       "      <td>10</td>\n",
       "      <td>38</td>\n",
       "      <td>0.9002</td>\n",
       "      <td>NaN</td>\n",
       "    </tr>\n",
       "    <tr>\n",
       "      <th>Ar</th>\n",
       "      <td>18</td>\n",
       "      <td>71</td>\n",
       "      <td>1.7818</td>\n",
       "      <td>5.0</td>\n",
       "    </tr>\n",
       "    <tr>\n",
       "      <th>Kr</th>\n",
       "      <td>32</td>\n",
       "      <td>88</td>\n",
       "      <td>3.7080</td>\n",
       "      <td>NaN</td>\n",
       "    </tr>\n",
       "  </tbody>\n",
       "</table>\n",
       "</div>"
      ],
      "text/plain": [
       "    Atomic Number  Atomic Radius  Density  foo\n",
       "He              2             31   0.1786  2.0\n",
       "Ne             10             38   0.9002  NaN\n",
       "Ar             18             71   1.7818  5.0\n",
       "Kr             32             88   3.7080  NaN"
      ]
     },
     "execution_count": 85,
     "metadata": {},
     "output_type": "execute_result"
    }
   ],
   "source": [
    "noble_gases"
   ]
  },
  {
   "cell_type": "code",
   "execution_count": 86,
   "id": "b7c4829d-ebd4-4d41-b0a0-cf22e4cd56f1",
   "metadata": {},
   "outputs": [
    {
     "data": {
      "text/html": [
       "<div>\n",
       "<style scoped>\n",
       "    .dataframe tbody tr th:only-of-type {\n",
       "        vertical-align: middle;\n",
       "    }\n",
       "\n",
       "    .dataframe tbody tr th {\n",
       "        vertical-align: top;\n",
       "    }\n",
       "\n",
       "    .dataframe thead th {\n",
       "        text-align: right;\n",
       "    }\n",
       "</style>\n",
       "<table border=\"1\" class=\"dataframe\">\n",
       "  <thead>\n",
       "    <tr style=\"text-align: right;\">\n",
       "      <th></th>\n",
       "      <th>Atomic Number</th>\n",
       "      <th>Atomic Radius</th>\n",
       "      <th>Density</th>\n",
       "      <th>foo</th>\n",
       "    </tr>\n",
       "  </thead>\n",
       "  <tbody>\n",
       "    <tr>\n",
       "      <th>He</th>\n",
       "      <td>2</td>\n",
       "      <td>31</td>\n",
       "      <td>0.1786</td>\n",
       "      <td>2.0</td>\n",
       "    </tr>\n",
       "    <tr>\n",
       "      <th>Ar</th>\n",
       "      <td>18</td>\n",
       "      <td>71</td>\n",
       "      <td>1.7818</td>\n",
       "      <td>5.0</td>\n",
       "    </tr>\n",
       "  </tbody>\n",
       "</table>\n",
       "</div>"
      ],
      "text/plain": [
       "    Atomic Number  Atomic Radius  Density  foo\n",
       "He              2             31   0.1786  2.0\n",
       "Ar             18             71   1.7818  5.0"
      ]
     },
     "execution_count": 86,
     "metadata": {},
     "output_type": "execute_result"
    }
   ],
   "source": [
    "noble_gases.dropna()"
   ]
  },
  {
   "cell_type": "code",
   "execution_count": 88,
   "id": "90ed4b69-6523-4e88-9b5c-73bf3cb448fa",
   "metadata": {},
   "outputs": [
    {
     "data": {
      "text/html": [
       "<div>\n",
       "<style scoped>\n",
       "    .dataframe tbody tr th:only-of-type {\n",
       "        vertical-align: middle;\n",
       "    }\n",
       "\n",
       "    .dataframe tbody tr th {\n",
       "        vertical-align: top;\n",
       "    }\n",
       "\n",
       "    .dataframe thead th {\n",
       "        text-align: right;\n",
       "    }\n",
       "</style>\n",
       "<table border=\"1\" class=\"dataframe\">\n",
       "  <thead>\n",
       "    <tr style=\"text-align: right;\">\n",
       "      <th></th>\n",
       "      <th>Atomic Number</th>\n",
       "      <th>Atomic Radius</th>\n",
       "      <th>Density</th>\n",
       "    </tr>\n",
       "  </thead>\n",
       "  <tbody>\n",
       "    <tr>\n",
       "      <th>He</th>\n",
       "      <td>2</td>\n",
       "      <td>31</td>\n",
       "      <td>0.1786</td>\n",
       "    </tr>\n",
       "    <tr>\n",
       "      <th>Ne</th>\n",
       "      <td>10</td>\n",
       "      <td>38</td>\n",
       "      <td>0.9002</td>\n",
       "    </tr>\n",
       "    <tr>\n",
       "      <th>Ar</th>\n",
       "      <td>18</td>\n",
       "      <td>71</td>\n",
       "      <td>1.7818</td>\n",
       "    </tr>\n",
       "    <tr>\n",
       "      <th>Kr</th>\n",
       "      <td>32</td>\n",
       "      <td>88</td>\n",
       "      <td>3.7080</td>\n",
       "    </tr>\n",
       "  </tbody>\n",
       "</table>\n",
       "</div>"
      ],
      "text/plain": [
       "    Atomic Number  Atomic Radius  Density\n",
       "He              2             31   0.1786\n",
       "Ne             10             38   0.9002\n",
       "Ar             18             71   1.7818\n",
       "Kr             32             88   3.7080"
      ]
     },
     "execution_count": 88,
     "metadata": {},
     "output_type": "execute_result"
    }
   ],
   "source": [
    "noble_gases.dropna(axis=1)"
   ]
  },
  {
   "cell_type": "code",
   "execution_count": 89,
   "id": "721187f2-33a0-4807-ae8d-55e05e18c5ce",
   "metadata": {},
   "outputs": [
    {
     "data": {
      "text/html": [
       "<div>\n",
       "<style scoped>\n",
       "    .dataframe tbody tr th:only-of-type {\n",
       "        vertical-align: middle;\n",
       "    }\n",
       "\n",
       "    .dataframe tbody tr th {\n",
       "        vertical-align: top;\n",
       "    }\n",
       "\n",
       "    .dataframe thead th {\n",
       "        text-align: right;\n",
       "    }\n",
       "</style>\n",
       "<table border=\"1\" class=\"dataframe\">\n",
       "  <thead>\n",
       "    <tr style=\"text-align: right;\">\n",
       "      <th></th>\n",
       "      <th>Atomic Number</th>\n",
       "      <th>Atomic Radius</th>\n",
       "      <th>Density</th>\n",
       "      <th>foo</th>\n",
       "    </tr>\n",
       "  </thead>\n",
       "  <tbody>\n",
       "    <tr>\n",
       "      <th>He</th>\n",
       "      <td>2</td>\n",
       "      <td>31</td>\n",
       "      <td>0.1786</td>\n",
       "      <td>2.0</td>\n",
       "    </tr>\n",
       "    <tr>\n",
       "      <th>Ne</th>\n",
       "      <td>10</td>\n",
       "      <td>38</td>\n",
       "      <td>0.9002</td>\n",
       "      <td>1.2</td>\n",
       "    </tr>\n",
       "    <tr>\n",
       "      <th>Ar</th>\n",
       "      <td>18</td>\n",
       "      <td>71</td>\n",
       "      <td>1.7818</td>\n",
       "      <td>5.0</td>\n",
       "    </tr>\n",
       "    <tr>\n",
       "      <th>Kr</th>\n",
       "      <td>32</td>\n",
       "      <td>88</td>\n",
       "      <td>3.7080</td>\n",
       "      <td>1.2</td>\n",
       "    </tr>\n",
       "  </tbody>\n",
       "</table>\n",
       "</div>"
      ],
      "text/plain": [
       "    Atomic Number  Atomic Radius  Density  foo\n",
       "He              2             31   0.1786  2.0\n",
       "Ne             10             38   0.9002  1.2\n",
       "Ar             18             71   1.7818  5.0\n",
       "Kr             32             88   3.7080  1.2"
      ]
     },
     "execution_count": 89,
     "metadata": {},
     "output_type": "execute_result"
    }
   ],
   "source": [
    "noble_gases.fillna(1.2)"
   ]
  },
  {
   "cell_type": "code",
   "execution_count": 90,
   "id": "5d6d0ba0-6f77-43f1-9e59-a8e7c519c8ce",
   "metadata": {},
   "outputs": [],
   "source": [
    "del noble_gases['foo']"
   ]
  },
  {
   "cell_type": "code",
   "execution_count": 92,
   "id": "43f5abac-9b4a-484f-8ec1-f2f4f31bfc92",
   "metadata": {},
   "outputs": [
    {
     "data": {
      "text/html": [
       "<div>\n",
       "<style scoped>\n",
       "    .dataframe tbody tr th:only-of-type {\n",
       "        vertical-align: middle;\n",
       "    }\n",
       "\n",
       "    .dataframe tbody tr th {\n",
       "        vertical-align: top;\n",
       "    }\n",
       "\n",
       "    .dataframe thead th {\n",
       "        text-align: right;\n",
       "    }\n",
       "</style>\n",
       "<table border=\"1\" class=\"dataframe\">\n",
       "  <thead>\n",
       "    <tr style=\"text-align: right;\">\n",
       "      <th></th>\n",
       "      <th>Atomic Number</th>\n",
       "      <th>Atomic Radius</th>\n",
       "      <th>Density</th>\n",
       "    </tr>\n",
       "  </thead>\n",
       "  <tbody>\n",
       "    <tr>\n",
       "      <th>He</th>\n",
       "      <td>2</td>\n",
       "      <td>31</td>\n",
       "      <td>0.1786</td>\n",
       "    </tr>\n",
       "    <tr>\n",
       "      <th>Ne</th>\n",
       "      <td>10</td>\n",
       "      <td>38</td>\n",
       "      <td>0.9002</td>\n",
       "    </tr>\n",
       "    <tr>\n",
       "      <th>Ar</th>\n",
       "      <td>18</td>\n",
       "      <td>71</td>\n",
       "      <td>1.7818</td>\n",
       "    </tr>\n",
       "    <tr>\n",
       "      <th>Kr</th>\n",
       "      <td>32</td>\n",
       "      <td>88</td>\n",
       "      <td>3.7080</td>\n",
       "    </tr>\n",
       "  </tbody>\n",
       "</table>\n",
       "</div>"
      ],
      "text/plain": [
       "    Atomic Number  Atomic Radius  Density\n",
       "He              2             31   0.1786\n",
       "Ne             10             38   0.9002\n",
       "Ar             18             71   1.7818\n",
       "Kr             32             88   3.7080"
      ]
     },
     "execution_count": 92,
     "metadata": {},
     "output_type": "execute_result"
    }
   ],
   "source": [
    "noble_gases"
   ]
  },
  {
   "cell_type": "markdown",
   "id": "e25cbaa8-2a40-4d07-982c-831130f00d72",
   "metadata": {},
   "source": [
    "# Sorting"
   ]
  },
  {
   "cell_type": "code",
   "execution_count": 95,
   "id": "add96272-0657-49b1-a378-3c3b9db6f4d6",
   "metadata": {},
   "outputs": [
    {
     "data": {
      "text/html": [
       "<div>\n",
       "<style scoped>\n",
       "    .dataframe tbody tr th:only-of-type {\n",
       "        vertical-align: middle;\n",
       "    }\n",
       "\n",
       "    .dataframe tbody tr th {\n",
       "        vertical-align: top;\n",
       "    }\n",
       "\n",
       "    .dataframe thead th {\n",
       "        text-align: right;\n",
       "    }\n",
       "</style>\n",
       "<table border=\"1\" class=\"dataframe\">\n",
       "  <thead>\n",
       "    <tr style=\"text-align: right;\">\n",
       "      <th></th>\n",
       "      <th>Atomic Number</th>\n",
       "      <th>Atomic Radius</th>\n",
       "      <th>Density</th>\n",
       "    </tr>\n",
       "  </thead>\n",
       "  <tbody>\n",
       "    <tr>\n",
       "      <th>He</th>\n",
       "      <td>2</td>\n",
       "      <td>31</td>\n",
       "      <td>0.1786</td>\n",
       "    </tr>\n",
       "    <tr>\n",
       "      <th>Ne</th>\n",
       "      <td>10</td>\n",
       "      <td>38</td>\n",
       "      <td>0.9002</td>\n",
       "    </tr>\n",
       "    <tr>\n",
       "      <th>Ar</th>\n",
       "      <td>18</td>\n",
       "      <td>71</td>\n",
       "      <td>1.7818</td>\n",
       "    </tr>\n",
       "    <tr>\n",
       "      <th>Kr</th>\n",
       "      <td>32</td>\n",
       "      <td>88</td>\n",
       "      <td>3.7080</td>\n",
       "    </tr>\n",
       "  </tbody>\n",
       "</table>\n",
       "</div>"
      ],
      "text/plain": [
       "    Atomic Number  Atomic Radius  Density\n",
       "He              2             31   0.1786\n",
       "Ne             10             38   0.9002\n",
       "Ar             18             71   1.7818\n",
       "Kr             32             88   3.7080"
      ]
     },
     "execution_count": 95,
     "metadata": {},
     "output_type": "execute_result"
    }
   ],
   "source": [
    "noble_gases.sample(4).sort_values(by=\"Atomic Number\")"
   ]
  },
  {
   "cell_type": "code",
   "execution_count": 96,
   "id": "47b1599d-c0ef-454b-8371-fcd547d8c045",
   "metadata": {},
   "outputs": [
    {
     "data": {
      "text/html": [
       "<div>\n",
       "<style scoped>\n",
       "    .dataframe tbody tr th:only-of-type {\n",
       "        vertical-align: middle;\n",
       "    }\n",
       "\n",
       "    .dataframe tbody tr th {\n",
       "        vertical-align: top;\n",
       "    }\n",
       "\n",
       "    .dataframe thead th {\n",
       "        text-align: right;\n",
       "    }\n",
       "</style>\n",
       "<table border=\"1\" class=\"dataframe\">\n",
       "  <thead>\n",
       "    <tr style=\"text-align: right;\">\n",
       "      <th></th>\n",
       "      <th>Atomic Number</th>\n",
       "      <th>Atomic Radius</th>\n",
       "      <th>Density</th>\n",
       "    </tr>\n",
       "  </thead>\n",
       "  <tbody>\n",
       "    <tr>\n",
       "      <th>Ar</th>\n",
       "      <td>18</td>\n",
       "      <td>71</td>\n",
       "      <td>1.7818</td>\n",
       "    </tr>\n",
       "    <tr>\n",
       "      <th>He</th>\n",
       "      <td>2</td>\n",
       "      <td>31</td>\n",
       "      <td>0.1786</td>\n",
       "    </tr>\n",
       "    <tr>\n",
       "      <th>Kr</th>\n",
       "      <td>32</td>\n",
       "      <td>88</td>\n",
       "      <td>3.7080</td>\n",
       "    </tr>\n",
       "    <tr>\n",
       "      <th>Ne</th>\n",
       "      <td>10</td>\n",
       "      <td>38</td>\n",
       "      <td>0.9002</td>\n",
       "    </tr>\n",
       "  </tbody>\n",
       "</table>\n",
       "</div>"
      ],
      "text/plain": [
       "    Atomic Number  Atomic Radius  Density\n",
       "Ar             18             71   1.7818\n",
       "He              2             31   0.1786\n",
       "Kr             32             88   3.7080\n",
       "Ne             10             38   0.9002"
      ]
     },
     "execution_count": 96,
     "metadata": {},
     "output_type": "execute_result"
    }
   ],
   "source": [
    "noble_gases.sort_index()"
   ]
  },
  {
   "cell_type": "markdown",
   "id": "296aba71-1b2c-4bc0-b7cc-f05aafde7a08",
   "metadata": {},
   "source": [
    "# Combining Data"
   ]
  },
  {
   "cell_type": "code",
   "execution_count": 97,
   "id": "ca59a3e1-d9db-4058-89b3-7a6ca93b7003",
   "metadata": {},
   "outputs": [],
   "source": [
    "left = noble_gases[['Atomic Number', 'Atomic Radius']]\n",
    "right = noble_gases[['Density']]"
   ]
  },
  {
   "cell_type": "code",
   "execution_count": 98,
   "id": "ae6ca836-ff25-4631-b9a6-4627562892fd",
   "metadata": {},
   "outputs": [
    {
     "data": {
      "text/html": [
       "<div>\n",
       "<style scoped>\n",
       "    .dataframe tbody tr th:only-of-type {\n",
       "        vertical-align: middle;\n",
       "    }\n",
       "\n",
       "    .dataframe tbody tr th {\n",
       "        vertical-align: top;\n",
       "    }\n",
       "\n",
       "    .dataframe thead th {\n",
       "        text-align: right;\n",
       "    }\n",
       "</style>\n",
       "<table border=\"1\" class=\"dataframe\">\n",
       "  <thead>\n",
       "    <tr style=\"text-align: right;\">\n",
       "      <th></th>\n",
       "      <th>Density</th>\n",
       "    </tr>\n",
       "  </thead>\n",
       "  <tbody>\n",
       "    <tr>\n",
       "      <th>He</th>\n",
       "      <td>0.1786</td>\n",
       "    </tr>\n",
       "    <tr>\n",
       "      <th>Ne</th>\n",
       "      <td>0.9002</td>\n",
       "    </tr>\n",
       "    <tr>\n",
       "      <th>Ar</th>\n",
       "      <td>1.7818</td>\n",
       "    </tr>\n",
       "    <tr>\n",
       "      <th>Kr</th>\n",
       "      <td>3.7080</td>\n",
       "    </tr>\n",
       "  </tbody>\n",
       "</table>\n",
       "</div>"
      ],
      "text/plain": [
       "    Density\n",
       "He   0.1786\n",
       "Ne   0.9002\n",
       "Ar   1.7818\n",
       "Kr   3.7080"
      ]
     },
     "execution_count": 98,
     "metadata": {},
     "output_type": "execute_result"
    }
   ],
   "source": [
    "right"
   ]
  },
  {
   "cell_type": "code",
   "execution_count": 99,
   "id": "02e3dfd6-8db3-4866-8b66-78caf495d4be",
   "metadata": {},
   "outputs": [
    {
     "data": {
      "text/plain": [
       "He    0.1786\n",
       "Ne    0.9002\n",
       "Ar    1.7818\n",
       "Kr    3.7080\n",
       "Name: Density, dtype: float64"
      ]
     },
     "execution_count": 99,
     "metadata": {},
     "output_type": "execute_result"
    }
   ],
   "source": [
    "noble_gases['Density']"
   ]
  },
  {
   "cell_type": "code",
   "execution_count": 100,
   "id": "af34370c-ba52-473e-ab52-93306e187dc3",
   "metadata": {},
   "outputs": [
    {
     "data": {
      "text/html": [
       "<div>\n",
       "<style scoped>\n",
       "    .dataframe tbody tr th:only-of-type {\n",
       "        vertical-align: middle;\n",
       "    }\n",
       "\n",
       "    .dataframe tbody tr th {\n",
       "        vertical-align: top;\n",
       "    }\n",
       "\n",
       "    .dataframe thead th {\n",
       "        text-align: right;\n",
       "    }\n",
       "</style>\n",
       "<table border=\"1\" class=\"dataframe\">\n",
       "  <thead>\n",
       "    <tr style=\"text-align: right;\">\n",
       "      <th></th>\n",
       "      <th>Density</th>\n",
       "      <th>Atomic Number</th>\n",
       "      <th>Atomic Radius</th>\n",
       "    </tr>\n",
       "  </thead>\n",
       "  <tbody>\n",
       "    <tr>\n",
       "      <th>He</th>\n",
       "      <td>0.1786</td>\n",
       "      <td>2</td>\n",
       "      <td>31</td>\n",
       "    </tr>\n",
       "    <tr>\n",
       "      <th>Ne</th>\n",
       "      <td>0.9002</td>\n",
       "      <td>10</td>\n",
       "      <td>38</td>\n",
       "    </tr>\n",
       "    <tr>\n",
       "      <th>Ar</th>\n",
       "      <td>1.7818</td>\n",
       "      <td>18</td>\n",
       "      <td>71</td>\n",
       "    </tr>\n",
       "    <tr>\n",
       "      <th>Kr</th>\n",
       "      <td>3.7080</td>\n",
       "      <td>32</td>\n",
       "      <td>88</td>\n",
       "    </tr>\n",
       "  </tbody>\n",
       "</table>\n",
       "</div>"
      ],
      "text/plain": [
       "    Density  Atomic Number  Atomic Radius\n",
       "He   0.1786              2             31\n",
       "Ne   0.9002             10             38\n",
       "Ar   1.7818             18             71\n",
       "Kr   3.7080             32             88"
      ]
     },
     "execution_count": 100,
     "metadata": {},
     "output_type": "execute_result"
    }
   ],
   "source": [
    "right.join(left)"
   ]
  },
  {
   "cell_type": "code",
   "execution_count": 101,
   "id": "3fde3ab9-d505-4caf-8631-12d656f3a9a2",
   "metadata": {},
   "outputs": [
    {
     "data": {
      "text/html": [
       "<div>\n",
       "<style scoped>\n",
       "    .dataframe tbody tr th:only-of-type {\n",
       "        vertical-align: middle;\n",
       "    }\n",
       "\n",
       "    .dataframe tbody tr th {\n",
       "        vertical-align: top;\n",
       "    }\n",
       "\n",
       "    .dataframe thead th {\n",
       "        text-align: right;\n",
       "    }\n",
       "</style>\n",
       "<table border=\"1\" class=\"dataframe\">\n",
       "  <thead>\n",
       "    <tr style=\"text-align: right;\">\n",
       "      <th></th>\n",
       "      <th>Atomic Number</th>\n",
       "      <th>Atomic Radius</th>\n",
       "      <th>Density</th>\n",
       "    </tr>\n",
       "  </thead>\n",
       "  <tbody>\n",
       "    <tr>\n",
       "      <th>He</th>\n",
       "      <td>2</td>\n",
       "      <td>31</td>\n",
       "      <td>0.1786</td>\n",
       "    </tr>\n",
       "    <tr>\n",
       "      <th>Ne</th>\n",
       "      <td>10</td>\n",
       "      <td>38</td>\n",
       "      <td>0.9002</td>\n",
       "    </tr>\n",
       "    <tr>\n",
       "      <th>Ar</th>\n",
       "      <td>18</td>\n",
       "      <td>71</td>\n",
       "      <td>1.7818</td>\n",
       "    </tr>\n",
       "    <tr>\n",
       "      <th>Kr</th>\n",
       "      <td>32</td>\n",
       "      <td>88</td>\n",
       "      <td>3.7080</td>\n",
       "    </tr>\n",
       "  </tbody>\n",
       "</table>\n",
       "</div>"
      ],
      "text/plain": [
       "    Atomic Number  Atomic Radius  Density\n",
       "He              2             31   0.1786\n",
       "Ne             10             38   0.9002\n",
       "Ar             18             71   1.7818\n",
       "Kr             32             88   3.7080"
      ]
     },
     "execution_count": 101,
     "metadata": {},
     "output_type": "execute_result"
    }
   ],
   "source": [
    "pd.merge(left, right, left_index=True, right_index=True)"
   ]
  },
  {
   "cell_type": "code",
   "execution_count": 104,
   "id": "2e40c072-2840-4a0f-bd11-91cd83e14720",
   "metadata": {},
   "outputs": [
    {
     "data": {
      "text/html": [
       "<div>\n",
       "<style scoped>\n",
       "    .dataframe tbody tr th:only-of-type {\n",
       "        vertical-align: middle;\n",
       "    }\n",
       "\n",
       "    .dataframe tbody tr th {\n",
       "        vertical-align: top;\n",
       "    }\n",
       "\n",
       "    .dataframe thead th {\n",
       "        text-align: right;\n",
       "    }\n",
       "</style>\n",
       "<table border=\"1\" class=\"dataframe\">\n",
       "  <thead>\n",
       "    <tr style=\"text-align: right;\">\n",
       "      <th></th>\n",
       "      <th>Atomic Number</th>\n",
       "      <th>Atomic Radius</th>\n",
       "      <th>Density</th>\n",
       "    </tr>\n",
       "  </thead>\n",
       "  <tbody>\n",
       "    <tr>\n",
       "      <th>He</th>\n",
       "      <td>2</td>\n",
       "      <td>31</td>\n",
       "      <td>NaN</td>\n",
       "    </tr>\n",
       "    <tr>\n",
       "      <th>Ne</th>\n",
       "      <td>10</td>\n",
       "      <td>38</td>\n",
       "      <td>0.9002</td>\n",
       "    </tr>\n",
       "    <tr>\n",
       "      <th>Ar</th>\n",
       "      <td>18</td>\n",
       "      <td>71</td>\n",
       "      <td>1.7818</td>\n",
       "    </tr>\n",
       "    <tr>\n",
       "      <th>Kr</th>\n",
       "      <td>32</td>\n",
       "      <td>88</td>\n",
       "      <td>NaN</td>\n",
       "    </tr>\n",
       "  </tbody>\n",
       "</table>\n",
       "</div>"
      ],
      "text/plain": [
       "    Atomic Number  Atomic Radius  Density\n",
       "He              2             31      NaN\n",
       "Ne             10             38   0.9002\n",
       "Ar             18             71   1.7818\n",
       "Kr             32             88      NaN"
      ]
     },
     "execution_count": 104,
     "metadata": {},
     "output_type": "execute_result"
    }
   ],
   "source": [
    "left.join(right.loc['Ne':'Ar'])"
   ]
  },
  {
   "cell_type": "code",
   "execution_count": 105,
   "id": "44cc8d37-a2b3-40e3-9254-b4754d2e5dcf",
   "metadata": {},
   "outputs": [
    {
     "data": {
      "text/html": [
       "<div>\n",
       "<style scoped>\n",
       "    .dataframe tbody tr th:only-of-type {\n",
       "        vertical-align: middle;\n",
       "    }\n",
       "\n",
       "    .dataframe tbody tr th {\n",
       "        vertical-align: top;\n",
       "    }\n",
       "\n",
       "    .dataframe thead th {\n",
       "        text-align: right;\n",
       "    }\n",
       "</style>\n",
       "<table border=\"1\" class=\"dataframe\">\n",
       "  <thead>\n",
       "    <tr style=\"text-align: right;\">\n",
       "      <th></th>\n",
       "      <th>Atomic Number</th>\n",
       "      <th>Atomic Radius</th>\n",
       "      <th>Density</th>\n",
       "    </tr>\n",
       "  </thead>\n",
       "  <tbody>\n",
       "    <tr>\n",
       "      <th>Ne</th>\n",
       "      <td>10</td>\n",
       "      <td>38</td>\n",
       "      <td>0.9002</td>\n",
       "    </tr>\n",
       "    <tr>\n",
       "      <th>Ar</th>\n",
       "      <td>18</td>\n",
       "      <td>71</td>\n",
       "      <td>1.7818</td>\n",
       "    </tr>\n",
       "  </tbody>\n",
       "</table>\n",
       "</div>"
      ],
      "text/plain": [
       "    Atomic Number  Atomic Radius  Density\n",
       "Ne             10             38   0.9002\n",
       "Ar             18             71   1.7818"
      ]
     },
     "execution_count": 105,
     "metadata": {},
     "output_type": "execute_result"
    }
   ],
   "source": [
    "left.join(right.loc['Ne':'Ar'], how='inner')"
   ]
  },
  {
   "cell_type": "code",
   "execution_count": 110,
   "id": "dd2dcdca-9ddf-40cc-b8ef-b800bd3cd08e",
   "metadata": {},
   "outputs": [
    {
     "data": {
      "text/html": [
       "<div>\n",
       "<style scoped>\n",
       "    .dataframe tbody tr th:only-of-type {\n",
       "        vertical-align: middle;\n",
       "    }\n",
       "\n",
       "    .dataframe tbody tr th {\n",
       "        vertical-align: top;\n",
       "    }\n",
       "\n",
       "    .dataframe thead th {\n",
       "        text-align: right;\n",
       "    }\n",
       "</style>\n",
       "<table border=\"1\" class=\"dataframe\">\n",
       "  <thead>\n",
       "    <tr style=\"text-align: right;\">\n",
       "      <th></th>\n",
       "      <th>Atomic Number</th>\n",
       "      <th>Atomic Radius</th>\n",
       "      <th>Density</th>\n",
       "    </tr>\n",
       "  </thead>\n",
       "  <tbody>\n",
       "    <tr>\n",
       "      <th>He</th>\n",
       "      <td>2</td>\n",
       "      <td>31</td>\n",
       "      <td>0.1786</td>\n",
       "    </tr>\n",
       "    <tr>\n",
       "      <th>Ne</th>\n",
       "      <td>10</td>\n",
       "      <td>38</td>\n",
       "      <td>0.9002</td>\n",
       "    </tr>\n",
       "  </tbody>\n",
       "</table>\n",
       "</div>"
      ],
      "text/plain": [
       "    Atomic Number  Atomic Radius  Density\n",
       "He              2             31   0.1786\n",
       "Ne             10             38   0.9002"
      ]
     },
     "execution_count": 110,
     "metadata": {},
     "output_type": "execute_result"
    }
   ],
   "source": [
    "noble_gases[:'Ne']"
   ]
  },
  {
   "cell_type": "code",
   "execution_count": 112,
   "id": "04a6de51-fc84-45d0-b16f-2380e6a105bf",
   "metadata": {},
   "outputs": [
    {
     "data": {
      "text/html": [
       "<div>\n",
       "<style scoped>\n",
       "    .dataframe tbody tr th:only-of-type {\n",
       "        vertical-align: middle;\n",
       "    }\n",
       "\n",
       "    .dataframe tbody tr th {\n",
       "        vertical-align: top;\n",
       "    }\n",
       "\n",
       "    .dataframe thead th {\n",
       "        text-align: right;\n",
       "    }\n",
       "</style>\n",
       "<table border=\"1\" class=\"dataframe\">\n",
       "  <thead>\n",
       "    <tr style=\"text-align: right;\">\n",
       "      <th></th>\n",
       "      <th>Atomic Number</th>\n",
       "      <th>Atomic Radius</th>\n",
       "      <th>Density</th>\n",
       "    </tr>\n",
       "  </thead>\n",
       "  <tbody>\n",
       "    <tr>\n",
       "      <th>Ar</th>\n",
       "      <td>18</td>\n",
       "      <td>71</td>\n",
       "      <td>1.7818</td>\n",
       "    </tr>\n",
       "    <tr>\n",
       "      <th>Kr</th>\n",
       "      <td>32</td>\n",
       "      <td>88</td>\n",
       "      <td>3.7080</td>\n",
       "    </tr>\n",
       "  </tbody>\n",
       "</table>\n",
       "</div>"
      ],
      "text/plain": [
       "    Atomic Number  Atomic Radius  Density\n",
       "Ar             18             71   1.7818\n",
       "Kr             32             88   3.7080"
      ]
     },
     "execution_count": 112,
     "metadata": {},
     "output_type": "execute_result"
    }
   ],
   "source": [
    "noble_gases['Ar':]"
   ]
  },
  {
   "cell_type": "code",
   "execution_count": 118,
   "id": "9d28f776-6903-4a48-b9cb-05a5f515ae5e",
   "metadata": {},
   "outputs": [
    {
     "data": {
      "text/html": [
       "<div>\n",
       "<style scoped>\n",
       "    .dataframe tbody tr th:only-of-type {\n",
       "        vertical-align: middle;\n",
       "    }\n",
       "\n",
       "    .dataframe tbody tr th {\n",
       "        vertical-align: top;\n",
       "    }\n",
       "\n",
       "    .dataframe thead th {\n",
       "        text-align: right;\n",
       "    }\n",
       "</style>\n",
       "<table border=\"1\" class=\"dataframe\">\n",
       "  <thead>\n",
       "    <tr style=\"text-align: right;\">\n",
       "      <th></th>\n",
       "      <th>Atomic Number</th>\n",
       "      <th>Atomic Radius</th>\n",
       "      <th>Density</th>\n",
       "    </tr>\n",
       "  </thead>\n",
       "  <tbody>\n",
       "    <tr>\n",
       "      <th>He</th>\n",
       "      <td>2</td>\n",
       "      <td>31</td>\n",
       "      <td>0.1786</td>\n",
       "    </tr>\n",
       "    <tr>\n",
       "      <th>Ne</th>\n",
       "      <td>10</td>\n",
       "      <td>38</td>\n",
       "      <td>0.9002</td>\n",
       "    </tr>\n",
       "    <tr>\n",
       "      <th>Ar</th>\n",
       "      <td>18</td>\n",
       "      <td>71</td>\n",
       "      <td>1.7818</td>\n",
       "    </tr>\n",
       "    <tr>\n",
       "      <th>Kr</th>\n",
       "      <td>32</td>\n",
       "      <td>88</td>\n",
       "      <td>3.7080</td>\n",
       "    </tr>\n",
       "  </tbody>\n",
       "</table>\n",
       "</div>"
      ],
      "text/plain": [
       "    Atomic Number  Atomic Radius  Density\n",
       "He              2             31   0.1786\n",
       "Ne             10             38   0.9002\n",
       "Ar             18             71   1.7818\n",
       "Kr             32             88   3.7080"
      ]
     },
     "execution_count": 118,
     "metadata": {},
     "output_type": "execute_result"
    }
   ],
   "source": [
    "pd.concat((noble_gases[:'Ne'], noble_gases['Ar':]))"
   ]
  }
 ],
 "metadata": {
  "kernelspec": {
   "display_name": "Python 3 (ipykernel)",
   "language": "python",
   "name": "python3"
  },
  "language_info": {
   "codemirror_mode": {
    "name": "ipython",
    "version": 3
   },
   "file_extension": ".py",
   "mimetype": "text/x-python",
   "name": "python",
   "nbconvert_exporter": "python",
   "pygments_lexer": "ipython3",
   "version": "3.10.4"
  }
 },
 "nbformat": 4,
 "nbformat_minor": 5
}
