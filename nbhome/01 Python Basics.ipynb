{
 "cells": [
  {
   "cell_type": "code",
   "execution_count": 1,
   "id": "13db5fda-06e1-4b56-98e3-9836dbb786db",
   "metadata": {},
   "outputs": [
    {
     "name": "stdout",
     "output_type": "stream",
     "text": [
      "Hello, world.\n"
     ]
    }
   ],
   "source": [
    "print(\"Hello, world.\")"
   ]
  },
  {
   "cell_type": "code",
   "execution_count": 2,
   "id": "aab8c3f0-1b69-41f4-b087-dc908c8d2d67",
   "metadata": {},
   "outputs": [
    {
     "data": {
      "text/plain": [
       "1"
      ]
     },
     "execution_count": 2,
     "metadata": {},
     "output_type": "execute_result"
    }
   ],
   "source": [
    "1"
   ]
  },
  {
   "cell_type": "code",
   "execution_count": 3,
   "id": "149f23c6-80cc-4ab4-b504-302f62260856",
   "metadata": {},
   "outputs": [
    {
     "data": {
      "text/plain": [
       "3"
      ]
     },
     "execution_count": 3,
     "metadata": {},
     "output_type": "execute_result"
    }
   ],
   "source": [
    "1\n",
    "2\n",
    "3"
   ]
  },
  {
   "cell_type": "markdown",
   "id": "39f0288b-6bab-4d90-bdec-bca64701e7d4",
   "metadata": {},
   "source": [
    "# Basic data type"
   ]
  },
  {
   "cell_type": "code",
   "execution_count": 4,
   "id": "a6266b54-e590-4f8d-9986-fd59f1e0ec7d",
   "metadata": {},
   "outputs": [
    {
     "data": {
      "text/plain": [
       "1"
      ]
     },
     "execution_count": 4,
     "metadata": {},
     "output_type": "execute_result"
    }
   ],
   "source": [
    "1"
   ]
  },
  {
   "cell_type": "code",
   "execution_count": 5,
   "id": "fc8006f0-db6c-4bd0-b3fa-a1651c3db346",
   "metadata": {},
   "outputs": [
    {
     "data": {
      "text/plain": [
       "1.2"
      ]
     },
     "execution_count": 5,
     "metadata": {},
     "output_type": "execute_result"
    }
   ],
   "source": [
    "1.2"
   ]
  },
  {
   "cell_type": "code",
   "execution_count": 6,
   "id": "012cd6d0-cf7d-4aaf-be13-1be6feed29f9",
   "metadata": {},
   "outputs": [
    {
     "data": {
      "text/plain": [
       "nan"
      ]
     },
     "execution_count": 6,
     "metadata": {},
     "output_type": "execute_result"
    }
   ],
   "source": [
    "float('nan')"
   ]
  },
  {
   "cell_type": "code",
   "execution_count": 10,
   "id": "425f0fb6-1055-4af5-ad76-54f6a32506e3",
   "metadata": {},
   "outputs": [
    {
     "data": {
      "text/plain": [
       "'quick brown dog'"
      ]
     },
     "execution_count": 10,
     "metadata": {},
     "output_type": "execute_result"
    }
   ],
   "source": [
    "\"quick brown fox\".replace('fox', 'dog')"
   ]
  },
  {
   "cell_type": "markdown",
   "id": "99cb7d16-25a6-446a-960e-8e636d221ab7",
   "metadata": {},
   "source": [
    "## Lists, iterables"
   ]
  },
  {
   "cell_type": "code",
   "execution_count": 11,
   "id": "25ee88ea-5685-4877-a4da-5d766482432f",
   "metadata": {},
   "outputs": [
    {
     "data": {
      "text/plain": [
       "[0, 1, 2, 3, 4, 5, 6, 7, 8, 9]"
      ]
     },
     "execution_count": 11,
     "metadata": {},
     "output_type": "execute_result"
    }
   ],
   "source": [
    "list(range(10))"
   ]
  },
  {
   "cell_type": "code",
   "execution_count": 12,
   "id": "6269412d-0deb-4e7d-ac09-408d626f1903",
   "metadata": {},
   "outputs": [
    {
     "data": {
      "text/plain": [
       "[1, 3, 5, 7, 9]"
      ]
     },
     "execution_count": 12,
     "metadata": {},
     "output_type": "execute_result"
    }
   ],
   "source": [
    "list(range(1, 10, 2))"
   ]
  },
  {
   "cell_type": "code",
   "execution_count": 13,
   "id": "05aaa5d0-8ebc-4b20-a274-940478f48178",
   "metadata": {},
   "outputs": [
    {
     "data": {
      "text/plain": [
       "4"
      ]
     },
     "execution_count": 13,
     "metadata": {},
     "output_type": "execute_result"
    }
   ],
   "source": [
    "list(range(10))[4]"
   ]
  },
  {
   "cell_type": "code",
   "execution_count": 15,
   "id": "a6bcc7c3-bfc9-45b9-950b-475b4ef3d56d",
   "metadata": {},
   "outputs": [
    {
     "data": {
      "text/plain": [
       "[1, 3, 5, 7]"
      ]
     },
     "execution_count": 15,
     "metadata": {},
     "output_type": "execute_result"
    }
   ],
   "source": [
    "list(range(10))[1:8:2]"
   ]
  },
  {
   "cell_type": "code",
   "execution_count": 16,
   "id": "f95b6946-eef4-42a8-9e66-3fa1aa120bf5",
   "metadata": {},
   "outputs": [
    {
     "data": {
      "text/plain": [
       "[2, 3, 4, 5, 6, 7, 8, 9, 10, 11]"
      ]
     },
     "execution_count": 16,
     "metadata": {},
     "output_type": "execute_result"
    }
   ],
   "source": [
    "[a+2 for a in range(10)]"
   ]
  },
  {
   "cell_type": "markdown",
   "id": "87fe3cab-f9ab-4aa7-bde4-e2a87fe82f2e",
   "metadata": {},
   "source": [
    "## Dictionaries"
   ]
  },
  {
   "cell_type": "code",
   "execution_count": 17,
   "id": "2d3de57d-de6a-481e-97bb-5f47c7238554",
   "metadata": {},
   "outputs": [
    {
     "data": {
      "text/plain": [
       "{0: 2, 1: 3, 2: 4, 3: 5, 4: 6, 5: 7, 6: 8, 7: 9, 8: 10, 9: 11}"
      ]
     },
     "execution_count": 17,
     "metadata": {},
     "output_type": "execute_result"
    }
   ],
   "source": [
    "{a: a+2 for a in range(10)}"
   ]
  },
  {
   "cell_type": "code",
   "execution_count": 18,
   "id": "5451ee52-d469-4412-8748-7d8491419d0f",
   "metadata": {},
   "outputs": [
    {
     "data": {
      "text/plain": [
       "6"
      ]
     },
     "execution_count": 18,
     "metadata": {},
     "output_type": "execute_result"
    }
   ],
   "source": [
    "{a: a+2 for a in range(10)}[4]"
   ]
  },
  {
   "cell_type": "code",
   "execution_count": 19,
   "id": "bef80fc1-bca3-4d02-871b-76736673cc64",
   "metadata": {},
   "outputs": [
    {
     "ename": "KeyError",
     "evalue": "10",
     "output_type": "error",
     "traceback": [
      "\u001b[0;31m---------------------------------------------------------------------------\u001b[0m",
      "\u001b[0;31mKeyError\u001b[0m                                  Traceback (most recent call last)",
      "\u001b[0;32m/var/folders/x5/fkh1p0v9799dgc2gsgmgl9vc0000gn/T/ipykernel_62690/3701768108.py\u001b[0m in \u001b[0;36m<module>\u001b[0;34m\u001b[0m\n\u001b[0;32m----> 1\u001b[0;31m \u001b[0;34m{\u001b[0m\u001b[0ma\u001b[0m\u001b[0;34m:\u001b[0m \u001b[0ma\u001b[0m\u001b[0;34m+\u001b[0m\u001b[0;36m2\u001b[0m \u001b[0;32mfor\u001b[0m \u001b[0ma\u001b[0m \u001b[0;32min\u001b[0m \u001b[0mrange\u001b[0m\u001b[0;34m(\u001b[0m\u001b[0;36m10\u001b[0m\u001b[0;34m)\u001b[0m\u001b[0;34m}\u001b[0m\u001b[0;34m[\u001b[0m\u001b[0;36m10\u001b[0m\u001b[0;34m]\u001b[0m\u001b[0;34m\u001b[0m\u001b[0;34m\u001b[0m\u001b[0m\n\u001b[0m",
      "\u001b[0;31mKeyError\u001b[0m: 10"
     ]
    }
   ],
   "source": [
    "{a: a+2 for a in range(10)}[10]"
   ]
  },
  {
   "cell_type": "code",
   "execution_count": 20,
   "id": "b3d6b808-5d31-47d3-8de6-d21d6ef5bf79",
   "metadata": {},
   "outputs": [
    {
     "data": {
      "text/plain": [
       "'n/a'"
      ]
     },
     "execution_count": 20,
     "metadata": {},
     "output_type": "execute_result"
    }
   ],
   "source": [
    "{a: a+2 for a in range(10)}.get(10, 'n/a')"
   ]
  },
  {
   "cell_type": "markdown",
   "id": "401cdade-b47e-4092-b307-9949bd8694ea",
   "metadata": {},
   "source": [
    "## Functions, lambdas"
   ]
  },
  {
   "cell_type": "code",
   "execution_count": 21,
   "id": "3e2238eb-f0c9-4ce2-b274-2512e0dda73c",
   "metadata": {},
   "outputs": [],
   "source": [
    "def plus_two(x):\n",
    "    return x+2"
   ]
  },
  {
   "cell_type": "code",
   "execution_count": 22,
   "id": "9fcc5b73-5e84-41f5-8d16-0f9056f4c9fc",
   "metadata": {},
   "outputs": [
    {
     "data": {
      "text/plain": [
       "42"
      ]
     },
     "execution_count": 22,
     "metadata": {},
     "output_type": "execute_result"
    }
   ],
   "source": [
    "plus_two(40)"
   ]
  },
  {
   "cell_type": "code",
   "execution_count": 23,
   "id": "ba661031-c447-4879-ada6-33e5f227b883",
   "metadata": {},
   "outputs": [],
   "source": [
    "def call_with_4(f):\n",
    "    return f(4)"
   ]
  },
  {
   "cell_type": "code",
   "execution_count": 24,
   "id": "9708bf16-3ec3-45c7-b045-dd035bdd2e65",
   "metadata": {},
   "outputs": [
    {
     "data": {
      "text/plain": [
       "6"
      ]
     },
     "execution_count": 24,
     "metadata": {},
     "output_type": "execute_result"
    }
   ],
   "source": [
    "call_with_4(plus_two)"
   ]
  },
  {
   "cell_type": "code",
   "execution_count": 25,
   "id": "251b65a2-17cc-417d-9dde-58656351123a",
   "metadata": {},
   "outputs": [
    {
     "data": {
      "text/plain": [
       "<function __main__.<lambda>(x)>"
      ]
     },
     "execution_count": 25,
     "metadata": {},
     "output_type": "execute_result"
    }
   ],
   "source": [
    "lambda x: x+2"
   ]
  },
  {
   "cell_type": "code",
   "execution_count": 26,
   "id": "e7dc3813-f641-4866-bfcc-eadd1f83095c",
   "metadata": {},
   "outputs": [
    {
     "data": {
      "text/plain": [
       "42"
      ]
     },
     "execution_count": 26,
     "metadata": {},
     "output_type": "execute_result"
    }
   ],
   "source": [
    "call_with_4(lambda x: x + 38)"
   ]
  },
  {
   "cell_type": "markdown",
   "id": "81d42cab-035d-41f7-a415-953066aa3dbf",
   "metadata": {},
   "source": [
    "## Generators\n",
    "\n",
    "$$\\operatorname{Exp(x)} = \\sum_{k=0}^{\\infty} \\frac {x^k}{k!}$$"
   ]
  },
  {
   "cell_type": "code",
   "execution_count": 27,
   "id": "fe0cf60a-37a2-4a93-aa49-a1db12472ab5",
   "metadata": {},
   "outputs": [],
   "source": [
    "def exp_series(x, n):\n",
    "    numerator = 1\n",
    "    denominator = 1\n",
    "    for k in range(n):\n",
    "        yield numerator / denominator\n",
    "        k += 1\n",
    "        numerator *= x\n",
    "        denominator *= k"
   ]
  },
  {
   "cell_type": "code",
   "execution_count": 28,
   "id": "4539e853-c7c9-4d8c-a8d4-9c72c0d80b37",
   "metadata": {},
   "outputs": [
    {
     "data": {
      "text/plain": [
       "[1.0, 2.0, 2.0, 1.3333333333333333, 0.6666666666666666]"
      ]
     },
     "execution_count": 28,
     "metadata": {},
     "output_type": "execute_result"
    }
   ],
   "source": [
    "list(exp_series(2, 5))"
   ]
  },
  {
   "cell_type": "code",
   "execution_count": 29,
   "id": "26119ede-7575-4d9c-b6ab-1c2599861a05",
   "metadata": {},
   "outputs": [
    {
     "data": {
      "text/plain": [
       "7.3890560989301735"
      ]
     },
     "execution_count": 29,
     "metadata": {},
     "output_type": "execute_result"
    }
   ],
   "source": [
    "sum(exp_series(2, 20))"
   ]
  },
  {
   "cell_type": "markdown",
   "id": "1d6cd224-015e-48d1-9633-d9e659e038c8",
   "metadata": {},
   "source": [
    "## Classes"
   ]
  },
  {
   "cell_type": "code",
   "execution_count": 42,
   "id": "f44bf079-2285-4b71-89b6-8149182c9594",
   "metadata": {},
   "outputs": [],
   "source": [
    "class ExpSeries:\n",
    "    \n",
    "    def __init__(self, x):\n",
    "        self.denominator, self.numerator = 1, 1\n",
    "        self.k = 0\n",
    "        self.x = x\n",
    "    \n",
    "    def next(self):\n",
    "        res = self.numerator/self.denominator\n",
    "        self.k += 1\n",
    "        self.numerator *= self.x\n",
    "        self.denominator *= self.k\n",
    "        return res"
   ]
  },
  {
   "cell_type": "code",
   "execution_count": 43,
   "id": "8c1727a7-30b9-4432-9f72-8efda069f276",
   "metadata": {},
   "outputs": [],
   "source": [
    "e = ExpSeries(2)"
   ]
  },
  {
   "cell_type": "code",
   "execution_count": 44,
   "id": "224c5ada-4e5a-4110-a3f0-7c3ab45b01ac",
   "metadata": {},
   "outputs": [],
   "source": [
    "l = [e.next() for _ in range(10)]"
   ]
  },
  {
   "cell_type": "code",
   "execution_count": 45,
   "id": "0db0add9-f5fe-4658-94a2-53be28b3e563",
   "metadata": {},
   "outputs": [
    {
     "data": {
      "text/plain": [
       "[1.0,\n",
       " 2.0,\n",
       " 2.0,\n",
       " 1.3333333333333333,\n",
       " 0.6666666666666666,\n",
       " 0.26666666666666666,\n",
       " 0.08888888888888889,\n",
       " 0.025396825396825397,\n",
       " 0.006349206349206349,\n",
       " 0.0014109347442680777]"
      ]
     },
     "execution_count": 45,
     "metadata": {},
     "output_type": "execute_result"
    }
   ],
   "source": [
    "l"
   ]
  },
  {
   "cell_type": "markdown",
   "id": "0de97a97-a572-4a56-a444-417fb54aaf6a",
   "metadata": {},
   "source": [
    "## Unit testing\n",
    "\n",
    "C.f. exercises"
   ]
  }
 ],
 "metadata": {
  "kernelspec": {
   "display_name": "Python 3 (ipykernel)",
   "language": "python",
   "name": "python3"
  },
  "language_info": {
   "codemirror_mode": {
    "name": "ipython",
    "version": 3
   },
   "file_extension": ".py",
   "mimetype": "text/x-python",
   "name": "python",
   "nbconvert_exporter": "python",
   "pygments_lexer": "ipython3",
   "version": "3.9.6"
  }
 },
 "nbformat": 4,
 "nbformat_minor": 5
}
