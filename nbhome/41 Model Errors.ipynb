{
 "cells": [
  {
   "cell_type": "code",
   "execution_count": 1,
   "id": "4269dea6-1fd1-45cd-9c15-e13ca6dbe20a",
   "metadata": {},
   "outputs": [],
   "source": [
    "import pandas\n",
    "import numpy\n",
    "from scipy.stats import binom\n",
    "import matplotlib.pyplot as plt\n",
    "plt.rcParams['figure.dpi'] = 200"
   ]
  },
  {
   "cell_type": "code",
   "execution_count": 2,
   "id": "9fae659b-bd47-41c0-bdb7-86099f418af7",
   "metadata": {},
   "outputs": [],
   "source": [
    "url = ('https://github.com/dhesse/IN-STK5000-Autumn21'\n",
    "       '/raw/main/compas-scores-two-years.csv.gz')\n",
    "data = pandas.read_csv(url)"
   ]
  },
  {
   "cell_type": "markdown",
   "id": "a96ae8c0-eadd-4e87-82df-724f3c61f776",
   "metadata": {},
   "source": [
    "# Point Estimate"
   ]
  },
  {
   "cell_type": "code",
   "execution_count": 3,
   "id": "5d54cecb-43f7-4e60-b1ee-ca4e398f0566",
   "metadata": {},
   "outputs": [
    {
     "data": {
      "text/plain": [
       "age_cat\n",
       "25 - 45            0.459723\n",
       "Greater than 45    0.315990\n",
       "Less than 25       0.565075\n",
       "Name: two_year_recid, dtype: float64"
      ]
     },
     "execution_count": 3,
     "metadata": {},
     "output_type": "execute_result"
    }
   ],
   "source": [
    "data.groupby('age_cat')['two_year_recid'].mean()"
   ]
  },
  {
   "cell_type": "markdown",
   "id": "1003b0f9-af45-424b-a6b8-048d822f7730",
   "metadata": {},
   "source": [
    "## Bootstrap"
   ]
  },
  {
   "cell_type": "code",
   "execution_count": 4,
   "id": "5913fb50-f819-4f23-b3c7-41cb97272742",
   "metadata": {},
   "outputs": [],
   "source": [
    "bss = pandas.DataFrame([\n",
    "    data.sample(data.shape[0], replace=True).\n",
    "    groupby('age_cat')['two_year_recid'].mean()\n",
    "    for _ in range(10000)])"
   ]
  },
  {
   "cell_type": "code",
   "execution_count": 10,
   "id": "02a2d3b5-ef81-4b46-a79f-8b0ec4c92c01",
   "metadata": {},
   "outputs": [
    {
     "data": {
      "text/plain": [
       "<AxesSubplot:ylabel='Frequency'>"
      ]
     },
     "execution_count": 10,
     "metadata": {},
     "output_type": "execute_result"
    },
    {
     "data": {
      "image/png": "[encoded data removed]",
      "text/plain": [
       "<Figure size 432x288 with 1 Axes>"
      ]
     },
     "metadata": {
      "needs_background": "light"
     },
     "output_type": "display_data"
    }
   ],
   "source": [
    "bss.plot.hist(bins=40)"
   ]
  },
  {
   "cell_type": "markdown",
   "id": "7109091e-acdd-4a82-949c-10fda88c447b",
   "metadata": {},
   "source": [
    "## Binomial"
   ]
  },
  {
   "cell_type": "code",
   "execution_count": 11,
   "id": "5df727b9-17c8-45a1-8f29-7a5943f7687c",
   "metadata": {},
   "outputs": [],
   "source": [
    "params = pandas.DataFrame({\n",
    "    'N': data.groupby('age_cat').size(),\n",
    "    'k': data.groupby('age_cat')['two_year_recid'].sum(),\n",
    "})"
   ]
  },
  {
   "cell_type": "code",
   "execution_count": 12,
   "id": "1b0231ed-6df9-45e9-8119-be37d9ec68d1",
   "metadata": {},
   "outputs": [
    {
     "data": {
      "text/html": [
       "<div>\n",
       "<style scoped>\n",
       "    .dataframe tbody tr th:only-of-type {\n",
       "        vertical-align: middle;\n",
       "    }\n",
       "\n",
       "    .dataframe tbody tr th {\n",
       "        vertical-align: top;\n",
       "    }\n",
       "\n",
       "    .dataframe thead th {\n",
       "        text-align: right;\n",
       "    }\n",
       "</style>\n",
       "<table border=\"1\" class=\"dataframe\">\n",
       "  <thead>\n",
       "    <tr style=\"text-align: right;\">\n",
       "      <th></th>\n",
       "      <th>N</th>\n",
       "      <th>k</th>\n",
       "    </tr>\n",
       "    <tr>\n",
       "      <th>age_cat</th>\n",
       "      <th></th>\n",
       "      <th></th>\n",
       "    </tr>\n",
       "  </thead>\n",
       "  <tbody>\n",
       "    <tr>\n",
       "      <th>25 - 45</th>\n",
       "      <td>4109</td>\n",
       "      <td>1889</td>\n",
       "    </tr>\n",
       "    <tr>\n",
       "      <th>Greater than 45</th>\n",
       "      <td>1576</td>\n",
       "      <td>498</td>\n",
       "    </tr>\n",
       "    <tr>\n",
       "      <th>Less than 25</th>\n",
       "      <td>1529</td>\n",
       "      <td>864</td>\n",
       "    </tr>\n",
       "  </tbody>\n",
       "</table>\n",
       "</div>"
      ],
      "text/plain": [
       "                    N     k\n",
       "age_cat                    \n",
       "25 - 45          4109  1889\n",
       "Greater than 45  1576   498\n",
       "Less than 25     1529   864"
      ]
     },
     "execution_count": 12,
     "metadata": {},
     "output_type": "execute_result"
    }
   ],
   "source": [
    "params"
   ]
  },
  {
   "cell_type": "code",
   "execution_count": 13,
   "id": "4b517f63-87a6-4f15-950d-ce61a0f929b8",
   "metadata": {},
   "outputs": [
    {
     "data": {
      "text/plain": [
       "age_cat\n",
       "25 - 45            0.459723\n",
       "Greater than 45    0.315990\n",
       "Less than 25       0.565075\n",
       "dtype: float64"
      ]
     },
     "execution_count": 13,
     "metadata": {},
     "output_type": "execute_result"
    }
   ],
   "source": [
    "params['k'] / params['N'] # point estimates from above"
   ]
  },
  {
   "cell_type": "code",
   "execution_count": 14,
   "id": "9dfadb79-8c2d-46d9-a4b5-f2fabd992644",
   "metadata": {},
   "outputs": [
    {
     "data": {
      "text/plain": [
       "<matplotlib.legend.Legend at 0x13facead0>"
      ]
     },
     "execution_count": 14,
     "metadata": {},
     "output_type": "execute_result"
    },
    {
     "data": {
      "image/png": "[encoded data removed]",
      "text/plain": [
       "<Figure size 432x288 with 1 Axes>"
      ]
     },
     "metadata": {
      "needs_background": "light"
     },
     "output_type": "display_data"
    }
   ],
   "source": [
    "binomial = params.apply(\n",
    "    lambda x: binom.rvs(x['N'],\n",
    "                        x['k']/x['N'],\n",
    "                        size=5000)/x['N'], axis=1, result_type='expand').T\n",
    "ax = binomial.plot.hist(bins=40, density=True, alpha=0.5)\n",
    "bss.plot.hist(bins=40, ax=ax, density=True, alpha=0.5)\n",
    "plt.legend(bbox_to_anchor=(1,1))"
   ]
  },
  {
   "cell_type": "markdown",
   "id": "4129226a-dad1-4c2e-a7fe-c81a55eb4732",
   "metadata": {},
   "source": [
    "## Logistic Regression"
   ]
  },
  {
   "cell_type": "code",
   "execution_count": 15,
   "id": "eb5d227f-f19f-42b2-82e0-b476dd43809e",
   "metadata": {},
   "outputs": [],
   "source": [
    "from sklearn.linear_model import LogisticRegression"
   ]
  },
  {
   "cell_type": "code",
   "execution_count": 16,
   "id": "1e54997d-3fed-4111-8c93-5012ea834363",
   "metadata": {},
   "outputs": [],
   "source": [
    "X = pandas.get_dummies(data['age_cat'], drop_first=True)\n",
    "y = data['two_year_recid']"
   ]
  },
  {
   "cell_type": "code",
   "execution_count": 17,
   "id": "dcdfb41f-64bc-4092-b50d-d02e70eb1883",
   "metadata": {},
   "outputs": [
    {
     "data": {
      "text/plain": [
       "Index(['Greater than 45', 'Less than 25'], dtype='object')"
      ]
     },
     "execution_count": 17,
     "metadata": {},
     "output_type": "execute_result"
    }
   ],
   "source": [
    "X.columns"
   ]
  },
  {
   "cell_type": "code",
   "execution_count": 18,
   "id": "8cd54caa-8cfb-4cc4-b947-4895b5fcbb29",
   "metadata": {},
   "outputs": [],
   "source": [
    "m = LogisticRegression(penalty='none').fit(X, y)"
   ]
  },
  {
   "cell_type": "code",
   "execution_count": 19,
   "id": "e9dccf4f-b3b6-4f93-a52e-dc3f28a12d39",
   "metadata": {},
   "outputs": [
    {
     "data": {
      "text/plain": [
       "array([[-0.61080397,  0.42324471]])"
      ]
     },
     "execution_count": 19,
     "metadata": {},
     "output_type": "execute_result"
    }
   ],
   "source": [
    "m.coef_"
   ]
  },
  {
   "cell_type": "code",
   "execution_count": 20,
   "id": "2b6c3809-16ef-498a-ad6d-cf019d0dcb3d",
   "metadata": {},
   "outputs": [
    {
     "data": {
      "text/plain": [
       "array([-0.16145935])"
      ]
     },
     "execution_count": 20,
     "metadata": {},
     "output_type": "execute_result"
    }
   ],
   "source": [
    "m.intercept_"
   ]
  },
  {
   "cell_type": "code",
   "execution_count": 21,
   "id": "7770edc9-2fbe-4807-801c-3ff6120c7aaf",
   "metadata": {},
   "outputs": [],
   "source": [
    "p = data.groupby('age_cat')['two_year_recid'].mean()"
   ]
  },
  {
   "cell_type": "code",
   "execution_count": 22,
   "id": "69af1d96-7fb1-48bf-b421-0c9905cddcd0",
   "metadata": {},
   "outputs": [
    {
     "data": {
      "text/plain": [
       "age_cat\n",
       "25 - 45            0.459723\n",
       "Greater than 45    0.315990\n",
       "Less than 25       0.565075\n",
       "Name: two_year_recid, dtype: float64"
      ]
     },
     "execution_count": 22,
     "metadata": {},
     "output_type": "execute_result"
    }
   ],
   "source": [
    "p"
   ]
  },
  {
   "cell_type": "code",
   "execution_count": 23,
   "id": "970de214-35b1-4b36-8279-0ffdab053984",
   "metadata": {},
   "outputs": [
    {
     "data": {
      "text/plain": [
       "-0.16145960736481563"
      ]
     },
     "execution_count": 23,
     "metadata": {},
     "output_type": "execute_result"
    }
   ],
   "source": [
    "numpy.log(p['25 - 45'] / (1 - p['25 - 45']))"
   ]
  },
  {
   "cell_type": "code",
   "execution_count": 24,
   "id": "3c84fe7e-b541-4041-b17a-c3fea95de8c0",
   "metadata": {},
   "outputs": [
    {
     "data": {
      "text/plain": [
       "-0.6108030670794741"
      ]
     },
     "execution_count": 24,
     "metadata": {},
     "output_type": "execute_result"
    }
   ],
   "source": [
    "numpy.log(p['Greater than 45'] / (1 - p['Greater than 45']) / p['25 - 45'] * (1 - p['25 - 45']))"
   ]
  },
  {
   "cell_type": "code",
   "execution_count": 25,
   "id": "6444b9bd-63a8-4235-a422-538af25cc8b2",
   "metadata": {},
   "outputs": [],
   "source": [
    "df = X.join(y)"
   ]
  },
  {
   "cell_type": "code",
   "execution_count": 26,
   "id": "2f6a4884-7697-4907-aec4-5c4deeaf3442",
   "metadata": {},
   "outputs": [],
   "source": [
    "feat = X.columns"
   ]
  },
  {
   "cell_type": "code",
   "execution_count": 27,
   "id": "710af7cc-f9d8-4b37-85f4-c22d16c5aee8",
   "metadata": {},
   "outputs": [],
   "source": [
    "coef, intercept = [], []\n",
    "for _ in range(500):\n",
    "    sample = df.sample(df.shape[0], replace=True)\n",
    "    m = LogisticRegression(penalty='none').fit(sample[feat], sample['two_year_recid'])\n",
    "    coef.append(m.coef_[0])\n",
    "    intercept.append(m.intercept_[0])"
   ]
  },
  {
   "cell_type": "code",
   "execution_count": 28,
   "id": "6b4614fa-6555-42f5-8c24-9afdd9e7a4fa",
   "metadata": {},
   "outputs": [
    {
     "data": {
      "text/plain": [
       "(array([ 7., 21., 27., 71., 96., 95., 92., 57., 22., 12.]),\n",
       " array([-0.25119194, -0.23431383, -0.21743572, -0.20055761, -0.1836795 ,\n",
       "        -0.16680139, -0.14992328, -0.13304517, -0.11616706, -0.09928895,\n",
       "        -0.08241084]),\n",
       " <BarContainer object of 10 artists>)"
      ]
     },
     "execution_count": 28,
     "metadata": {},
     "output_type": "execute_result"
    },
    {
     "data": {
      "image/png": "[encoded data removed]",
      "text/plain": [
       "<Figure size 432x288 with 1 Axes>"
      ]
     },
     "metadata": {
      "needs_background": "light"
     },
     "output_type": "display_data"
    }
   ],
   "source": [
    "plt.hist(numpy.array(coef)[:,0])\n",
    "plt.hist(numpy.array(coef)[:,1])\n",
    "plt.hist(intercept)"
   ]
  },
  {
   "cell_type": "code",
   "execution_count": 29,
   "id": "23820511-1848-45e1-8915-82e7c2b36889",
   "metadata": {},
   "outputs": [
    {
     "data": {
      "text/plain": [
       "(array([ 0.82947678,  2.48843035,  3.19941046,  8.41326453, 11.37568162,\n",
       "        11.25718494, 10.90169489,  6.75431096,  2.60692704,  1.4219602 ]),\n",
       " array([-0.25119194, -0.23431383, -0.21743572, -0.20055761, -0.1836795 ,\n",
       "        -0.16680139, -0.14992328, -0.13304517, -0.11616706, -0.09928895,\n",
       "        -0.08241084]),\n",
       " <BarContainer object of 10 artists>)"
      ]
     },
     "execution_count": 29,
     "metadata": {},
     "output_type": "execute_result"
    },
    {
     "data": {
      "image/png": "[encoded data removed]",
      "text/plain": [
       "<Figure size 432x288 with 1 Axes>"
      ]
     },
     "metadata": {
      "needs_background": "light"
     },
     "output_type": "display_data"
    }
   ],
   "source": [
    "plt.hist(numpy.log(bss['25 - 45'] / (1 - bss['25 - 45'])), density=True)\n",
    "plt.hist(intercept, density=True)"
   ]
  }
 ],
 "metadata": {
  "kernelspec": {
   "display_name": "Python 3 (ipykernel)",
   "language": "python",
   "name": "python3"
  },
  "language_info": {
   "codemirror_mode": {
    "name": "ipython",
    "version": 3
   },
   "file_extension": ".py",
   "mimetype": "text/x-python",
   "name": "python",
   "nbconvert_exporter": "python",
   "pygments_lexer": "ipython3",
   "version": "3.10.6"
  }
 },
 "nbformat": 4,
 "nbformat_minor": 5
}
